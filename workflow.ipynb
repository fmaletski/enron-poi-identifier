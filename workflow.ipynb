{
 "cells": [
  {
   "cell_type": "markdown",
   "metadata": {},
   "source": [
    "# ENRON Person of Interest Identifier\n",
    "by Fernando Maletski\n",
    "\n",
    "## Introduction\n",
    "\n",
    "The famous ENRON scandal was the largest bankrupcy reorganization in the United States at the time it was publicized, October 2001. Due to the Federal investigation, a significant amount of confidential information was released to the public, including tens of thousands of emails and detailed financial data.\n",
    "\n",
    "The objective of this project is to use this large dataset to create a machine learning model that correctly identifiers the persons of interest."
   ]
  },
  {
   "cell_type": "markdown",
   "metadata": {},
   "source": [
    "## Workspace Setup"
   ]
  },
  {
   "cell_type": "code",
   "execution_count": 1,
   "metadata": {
    "collapsed": true
   },
   "outputs": [],
   "source": [
    "import sys\n",
    "import numpy as np\n",
    "import pandas as pd\n",
    "import pickle\n",
    "import matplotlib\n",
    "import operator\n",
    "%matplotlib inline\n",
    "import matplotlib.pyplot as plt\n",
    "import seaborn as sns\n",
    "matplotlib.style.use('ggplot') #Set a decent style\n",
    "matplotlib.rcParams['image.cmap'] = 'bwr' #Diverging colors\n",
    "sys.path.append(\"./tools/\")\n",
    "from feature_format import featureFormat, targetFeatureSplit\n",
    "from tester import dump_classifier_and_data\n",
    "\n",
    "with open(\"final_project_dataset_py3.pkl\", \"rb\") as data_file:\n",
    "    data_dict = pickle.load(data_file)"
   ]
  },
  {
   "cell_type": "markdown",
   "metadata": {},
   "source": [
    "## EDA, Feature Engineering and Selection\n",
    "\n",
    "In this section we will explore the dataset, explain features and clean issues, such as missing values and outliers."
   ]
  },
  {
   "cell_type": "code",
   "execution_count": 2,
   "metadata": {},
   "outputs": [
    {
     "data": {
      "text/plain": [
       "146"
      ]
     },
     "execution_count": 2,
     "metadata": {},
     "output_type": "execute_result"
    }
   ],
   "source": [
    "len(sorted(data_dict.keys()))"
   ]
  },
  {
   "cell_type": "markdown",
   "metadata": {},
   "source": [
    "There are 146 datapoints, but one of them is an outlier, called \"TOTAL\", lets remove it for now:"
   ]
  },
  {
   "cell_type": "code",
   "execution_count": 3,
   "metadata": {},
   "outputs": [
    {
     "data": {
      "text/plain": [
       "{'bonus': 97343619,\n",
       " 'deferral_payments': 32083396,\n",
       " 'deferred_income': -27992891,\n",
       " 'director_fees': 1398517,\n",
       " 'email_address': 'NaN',\n",
       " 'exercised_stock_options': 311764000,\n",
       " 'expenses': 5235198,\n",
       " 'from_messages': 'NaN',\n",
       " 'from_poi_to_this_person': 'NaN',\n",
       " 'from_this_person_to_poi': 'NaN',\n",
       " 'loan_advances': 83925000,\n",
       " 'long_term_incentive': 48521928,\n",
       " 'other': 42667589,\n",
       " 'poi': False,\n",
       " 'restricted_stock': 130322299,\n",
       " 'restricted_stock_deferred': -7576788,\n",
       " 'salary': 26704229,\n",
       " 'shared_receipt_with_poi': 'NaN',\n",
       " 'to_messages': 'NaN',\n",
       " 'total_payments': 309886585,\n",
       " 'total_stock_value': 434509511}"
      ]
     },
     "execution_count": 3,
     "metadata": {},
     "output_type": "execute_result"
    }
   ],
   "source": [
    "data_dict.pop('TOTAL')"
   ]
  },
  {
   "cell_type": "code",
   "execution_count": 4,
   "metadata": {},
   "outputs": [
    {
     "data": {
      "text/plain": [
       "145"
      ]
     },
     "execution_count": 4,
     "metadata": {},
     "output_type": "execute_result"
    }
   ],
   "source": [
    "len(sorted(data_dict.keys()))"
   ]
  },
  {
   "cell_type": "markdown",
   "metadata": {},
   "source": [
    "There are 145 datapoints, each of them represents a person whose records were made puclic, the key of this dictionary is their name in this format: LAST NAME FIRST NAME (MIDDLE INICIAL):"
   ]
  },
  {
   "cell_type": "code",
   "execution_count": 5,
   "metadata": {},
   "outputs": [
    {
     "data": {
      "text/plain": [
       "['ALLEN PHILLIP K',\n",
       " 'BADUM JAMES P',\n",
       " 'BANNANTINE JAMES M',\n",
       " 'BAXTER JOHN C',\n",
       " 'BAY FRANKLIN R',\n",
       " 'BAZELIDES PHILIP J',\n",
       " 'BECK SALLY W',\n",
       " 'BELDEN TIMOTHY N',\n",
       " 'BELFER ROBERT',\n",
       " 'BERBERIAN DAVID']"
      ]
     },
     "execution_count": 5,
     "metadata": {},
     "output_type": "execute_result"
    }
   ],
   "source": [
    "persons = sorted(data_dict.keys())\n",
    "persons[0:10]"
   ]
  },
  {
   "cell_type": "markdown",
   "metadata": {},
   "source": [
    "The values of the dictionary are another dictionary that folows this schema (key: value): feature: value.\n",
    "Extracting the list of features:"
   ]
  },
  {
   "cell_type": "code",
   "execution_count": 6,
   "metadata": {},
   "outputs": [
    {
     "name": "stdout",
     "output_type": "stream",
     "text": [
      "21\n"
     ]
    },
    {
     "data": {
      "text/plain": [
       "['bonus',\n",
       " 'deferral_payments',\n",
       " 'deferred_income',\n",
       " 'director_fees',\n",
       " 'email_address',\n",
       " 'exercised_stock_options',\n",
       " 'expenses',\n",
       " 'from_messages',\n",
       " 'from_poi_to_this_person',\n",
       " 'from_this_person_to_poi',\n",
       " 'loan_advances',\n",
       " 'long_term_incentive',\n",
       " 'other',\n",
       " 'poi',\n",
       " 'restricted_stock',\n",
       " 'restricted_stock_deferred',\n",
       " 'salary',\n",
       " 'shared_receipt_with_poi',\n",
       " 'to_messages',\n",
       " 'total_payments',\n",
       " 'total_stock_value']"
      ]
     },
     "execution_count": 6,
     "metadata": {},
     "output_type": "execute_result"
    }
   ],
   "source": [
    "feature_list = sorted(data_dict['ALLEN PHILLIP K'])\n",
    "print(len(feature_list))\n",
    "feature_list"
   ]
  },
  {
   "cell_type": "markdown",
   "metadata": {},
   "source": [
    "Testing to see if all the datapoints have the same features:"
   ]
  },
  {
   "cell_type": "code",
   "execution_count": 7,
   "metadata": {},
   "outputs": [
    {
     "name": "stdout",
     "output_type": "stream",
     "text": [
      "3045 of 3045 found\n"
     ]
    }
   ],
   "source": [
    "count = 0\n",
    "for person, data in data_dict.items():\n",
    "    for feature, value in data.items():\n",
    "        if feature not in feature_list:\n",
    "            print(person, feature)\n",
    "        else:\n",
    "            count += 1\n",
    "total_count = len(feature_list) * len(data_dict.keys())\n",
    "print('{} of {} found'.format(count, total_count))"
   ]
  },
  {
   "cell_type": "markdown",
   "metadata": {},
   "source": [
    "This is all the features of the dataset, the structure supports a table schema. So it's possible to convert this dataset to an exploration friendly format, a pandas DataFrame:"
   ]
  },
  {
   "cell_type": "code",
   "execution_count": 8,
   "metadata": {},
   "outputs": [
    {
     "data": {
      "text/html": [
       "<div>\n",
       "<style>\n",
       "    .dataframe thead tr:only-child th {\n",
       "        text-align: right;\n",
       "    }\n",
       "\n",
       "    .dataframe thead th {\n",
       "        text-align: left;\n",
       "    }\n",
       "\n",
       "    .dataframe tbody tr th {\n",
       "        vertical-align: top;\n",
       "    }\n",
       "</style>\n",
       "<table border=\"1\" class=\"dataframe\">\n",
       "  <thead>\n",
       "    <tr style=\"text-align: right;\">\n",
       "      <th></th>\n",
       "      <th>bonus</th>\n",
       "      <th>deferral_payments</th>\n",
       "      <th>deferred_income</th>\n",
       "      <th>director_fees</th>\n",
       "      <th>email_address</th>\n",
       "      <th>exercised_stock_options</th>\n",
       "      <th>expenses</th>\n",
       "      <th>from_messages</th>\n",
       "      <th>from_poi_to_this_person</th>\n",
       "      <th>from_this_person_to_poi</th>\n",
       "      <th>...</th>\n",
       "      <th>long_term_incentive</th>\n",
       "      <th>other</th>\n",
       "      <th>poi</th>\n",
       "      <th>restricted_stock</th>\n",
       "      <th>restricted_stock_deferred</th>\n",
       "      <th>salary</th>\n",
       "      <th>shared_receipt_with_poi</th>\n",
       "      <th>to_messages</th>\n",
       "      <th>total_payments</th>\n",
       "      <th>total_stock_value</th>\n",
       "    </tr>\n",
       "  </thead>\n",
       "  <tbody>\n",
       "    <tr>\n",
       "      <th>ALLEN PHILLIP K</th>\n",
       "      <td>4175000</td>\n",
       "      <td>2869717</td>\n",
       "      <td>-3081055</td>\n",
       "      <td>NaN</td>\n",
       "      <td>phillip.allen@enron.com</td>\n",
       "      <td>1729541</td>\n",
       "      <td>13868</td>\n",
       "      <td>2195</td>\n",
       "      <td>47</td>\n",
       "      <td>65</td>\n",
       "      <td>...</td>\n",
       "      <td>304805</td>\n",
       "      <td>152</td>\n",
       "      <td>False</td>\n",
       "      <td>126027</td>\n",
       "      <td>-126027</td>\n",
       "      <td>201955</td>\n",
       "      <td>1407</td>\n",
       "      <td>2902</td>\n",
       "      <td>4484442</td>\n",
       "      <td>1729541</td>\n",
       "    </tr>\n",
       "    <tr>\n",
       "      <th>BADUM JAMES P</th>\n",
       "      <td>NaN</td>\n",
       "      <td>178980</td>\n",
       "      <td>NaN</td>\n",
       "      <td>NaN</td>\n",
       "      <td>NaN</td>\n",
       "      <td>257817</td>\n",
       "      <td>3486</td>\n",
       "      <td>NaN</td>\n",
       "      <td>NaN</td>\n",
       "      <td>NaN</td>\n",
       "      <td>...</td>\n",
       "      <td>NaN</td>\n",
       "      <td>NaN</td>\n",
       "      <td>False</td>\n",
       "      <td>NaN</td>\n",
       "      <td>NaN</td>\n",
       "      <td>NaN</td>\n",
       "      <td>NaN</td>\n",
       "      <td>NaN</td>\n",
       "      <td>182466</td>\n",
       "      <td>257817</td>\n",
       "    </tr>\n",
       "    <tr>\n",
       "      <th>BANNANTINE JAMES M</th>\n",
       "      <td>NaN</td>\n",
       "      <td>NaN</td>\n",
       "      <td>-5104</td>\n",
       "      <td>NaN</td>\n",
       "      <td>james.bannantine@enron.com</td>\n",
       "      <td>4046157</td>\n",
       "      <td>56301</td>\n",
       "      <td>29</td>\n",
       "      <td>39</td>\n",
       "      <td>0</td>\n",
       "      <td>...</td>\n",
       "      <td>NaN</td>\n",
       "      <td>864523</td>\n",
       "      <td>False</td>\n",
       "      <td>1757552</td>\n",
       "      <td>-560222</td>\n",
       "      <td>477</td>\n",
       "      <td>465</td>\n",
       "      <td>566</td>\n",
       "      <td>916197</td>\n",
       "      <td>5243487</td>\n",
       "    </tr>\n",
       "    <tr>\n",
       "      <th>BAXTER JOHN C</th>\n",
       "      <td>1200000</td>\n",
       "      <td>1295738</td>\n",
       "      <td>-1386055</td>\n",
       "      <td>NaN</td>\n",
       "      <td>NaN</td>\n",
       "      <td>6680544</td>\n",
       "      <td>11200</td>\n",
       "      <td>NaN</td>\n",
       "      <td>NaN</td>\n",
       "      <td>NaN</td>\n",
       "      <td>...</td>\n",
       "      <td>1586055</td>\n",
       "      <td>2660303</td>\n",
       "      <td>False</td>\n",
       "      <td>3942714</td>\n",
       "      <td>NaN</td>\n",
       "      <td>267102</td>\n",
       "      <td>NaN</td>\n",
       "      <td>NaN</td>\n",
       "      <td>5634343</td>\n",
       "      <td>10623258</td>\n",
       "    </tr>\n",
       "    <tr>\n",
       "      <th>BAY FRANKLIN R</th>\n",
       "      <td>400000</td>\n",
       "      <td>260455</td>\n",
       "      <td>-201641</td>\n",
       "      <td>NaN</td>\n",
       "      <td>frank.bay@enron.com</td>\n",
       "      <td>NaN</td>\n",
       "      <td>129142</td>\n",
       "      <td>NaN</td>\n",
       "      <td>NaN</td>\n",
       "      <td>NaN</td>\n",
       "      <td>...</td>\n",
       "      <td>NaN</td>\n",
       "      <td>69</td>\n",
       "      <td>False</td>\n",
       "      <td>145796</td>\n",
       "      <td>-82782</td>\n",
       "      <td>239671</td>\n",
       "      <td>NaN</td>\n",
       "      <td>NaN</td>\n",
       "      <td>827696</td>\n",
       "      <td>63014</td>\n",
       "    </tr>\n",
       "  </tbody>\n",
       "</table>\n",
       "<p>5 rows × 21 columns</p>\n",
       "</div>"
      ],
      "text/plain": [
       "                      bonus deferral_payments deferred_income director_fees  \\\n",
       "ALLEN PHILLIP K     4175000           2869717        -3081055           NaN   \n",
       "BADUM JAMES P           NaN            178980             NaN           NaN   \n",
       "BANNANTINE JAMES M      NaN               NaN           -5104           NaN   \n",
       "BAXTER JOHN C       1200000           1295738        -1386055           NaN   \n",
       "BAY FRANKLIN R       400000            260455         -201641           NaN   \n",
       "\n",
       "                                 email_address exercised_stock_options  \\\n",
       "ALLEN PHILLIP K        phillip.allen@enron.com                 1729541   \n",
       "BADUM JAMES P                              NaN                  257817   \n",
       "BANNANTINE JAMES M  james.bannantine@enron.com                 4046157   \n",
       "BAXTER JOHN C                              NaN                 6680544   \n",
       "BAY FRANKLIN R             frank.bay@enron.com                     NaN   \n",
       "\n",
       "                   expenses from_messages from_poi_to_this_person  \\\n",
       "ALLEN PHILLIP K       13868          2195                      47   \n",
       "BADUM JAMES P          3486           NaN                     NaN   \n",
       "BANNANTINE JAMES M    56301            29                      39   \n",
       "BAXTER JOHN C         11200           NaN                     NaN   \n",
       "BAY FRANKLIN R       129142           NaN                     NaN   \n",
       "\n",
       "                   from_this_person_to_poi        ...         \\\n",
       "ALLEN PHILLIP K                         65        ...          \n",
       "BADUM JAMES P                          NaN        ...          \n",
       "BANNANTINE JAMES M                       0        ...          \n",
       "BAXTER JOHN C                          NaN        ...          \n",
       "BAY FRANKLIN R                         NaN        ...          \n",
       "\n",
       "                   long_term_incentive    other    poi restricted_stock  \\\n",
       "ALLEN PHILLIP K                 304805      152  False           126027   \n",
       "BADUM JAMES P                      NaN      NaN  False              NaN   \n",
       "BANNANTINE JAMES M                 NaN   864523  False          1757552   \n",
       "BAXTER JOHN C                  1586055  2660303  False          3942714   \n",
       "BAY FRANKLIN R                     NaN       69  False           145796   \n",
       "\n",
       "                   restricted_stock_deferred  salary shared_receipt_with_poi  \\\n",
       "ALLEN PHILLIP K                      -126027  201955                    1407   \n",
       "BADUM JAMES P                            NaN     NaN                     NaN   \n",
       "BANNANTINE JAMES M                   -560222     477                     465   \n",
       "BAXTER JOHN C                            NaN  267102                     NaN   \n",
       "BAY FRANKLIN R                        -82782  239671                     NaN   \n",
       "\n",
       "                   to_messages total_payments total_stock_value  \n",
       "ALLEN PHILLIP K           2902        4484442           1729541  \n",
       "BADUM JAMES P              NaN         182466            257817  \n",
       "BANNANTINE JAMES M         566         916197           5243487  \n",
       "BAXTER JOHN C              NaN        5634343          10623258  \n",
       "BAY FRANKLIN R             NaN         827696             63014  \n",
       "\n",
       "[5 rows x 21 columns]"
      ]
     },
     "execution_count": 8,
     "metadata": {},
     "output_type": "execute_result"
    }
   ],
   "source": [
    "df = pd.DataFrame(data_dict)\n",
    "df = df.transpose()\n",
    "df.head()"
   ]
  },
  {
   "cell_type": "markdown",
   "metadata": {},
   "source": [
    "Replacing 'NaN' string with np.NaN for compatibility with numeric methods:"
   ]
  },
  {
   "cell_type": "code",
   "execution_count": 9,
   "metadata": {
    "collapsed": true,
    "scrolled": true
   },
   "outputs": [],
   "source": [
    "df.replace('NaN', np.NaN, inplace=True)"
   ]
  },
  {
   "cell_type": "markdown",
   "metadata": {},
   "source": [
    "Here's a print from a random person to have an idea of the information from each datapoint:"
   ]
  },
  {
   "cell_type": "code",
   "execution_count": 10,
   "metadata": {},
   "outputs": [
    {
     "data": {
      "text/plain": [
       "bonus                                          1e+06\n",
       "deferral_payments                                NaN\n",
       "deferred_income                                  NaN\n",
       "director_fees                                    NaN\n",
       "email_address                philippe.bibi@enron.com\n",
       "exercised_stock_options                  1.46573e+06\n",
       "expenses                                       38559\n",
       "from_messages                                     40\n",
       "from_poi_to_this_person                           23\n",
       "from_this_person_to_poi                            8\n",
       "loan_advances                                    NaN\n",
       "long_term_incentive                           369721\n",
       "other                                         425688\n",
       "poi                                            False\n",
       "restricted_stock                              378082\n",
       "restricted_stock_deferred                        NaN\n",
       "salary                                        213625\n",
       "shared_receipt_with_poi                         1336\n",
       "to_messages                                     1607\n",
       "total_payments                           2.04759e+06\n",
       "total_stock_value                        1.84382e+06\n",
       "Name: BIBI PHILIPPE A, dtype: object"
      ]
     },
     "execution_count": 10,
     "metadata": {},
     "output_type": "execute_result"
    }
   ],
   "source": [
    "df.iloc[12]"
   ]
  },
  {
   "cell_type": "markdown",
   "metadata": {},
   "source": [
    "An overview:"
   ]
  },
  {
   "cell_type": "code",
   "execution_count": 11,
   "metadata": {
    "scrolled": true
   },
   "outputs": [
    {
     "name": "stdout",
     "output_type": "stream",
     "text": [
      "Total Data Points: 145\n",
      "Total POI        :  18\n"
     ]
    }
   ],
   "source": [
    "total_dps = len(df)\n",
    "poi_dps = df.poi.sum()\n",
    "print('Total Data Points: {:>3}'.format(total_dps))\n",
    "print('Total POI        : {:>3}'.format(poi_dps))"
   ]
  },
  {
   "cell_type": "markdown",
   "metadata": {},
   "source": [
    "There is 2 classes of features, finance related and email related:\n",
    "\n",
    "* **financial features:** ['salary', 'deferral_payments', 'total_payments', 'loan_advances', 'bonus', 'restricted_stock_deferred', 'deferred_income', 'total_stock_value', 'expenses', 'exercised_stock_options', 'other', 'long_term_incentive', 'restricted_stock', 'director_fees'] (all units are in US dollars)\n",
    "\n",
    "* **email features:** ['to_messages', 'email_address', 'from_poi_to_this_person', 'from_messages', 'from_this_person_to_poi', 'shared_receipt_with_poi'] (units are generally number of emails messages; notable exception is ‘email_address’, which is a text string)"
   ]
  },
  {
   "cell_type": "code",
   "execution_count": 12,
   "metadata": {
    "collapsed": true
   },
   "outputs": [],
   "source": [
    "financial_features = ['salary', 'deferral_payments', 'total_payments', 'loan_advances', 'bonus',\n",
    "                      'restricted_stock_deferred', 'deferred_income', 'total_stock_value', 'expenses',\n",
    "                      'exercised_stock_options', 'other', 'long_term_incentive', 'restricted_stock',\n",
    "                      'director_fees']\n",
    "\n",
    "email_features = ['to_messages', 'email_address', 'from_poi_to_this_person', 'from_messages', \n",
    "                     'from_this_person_to_poi', 'shared_receipt_with_poi']"
   ]
  },
  {
   "cell_type": "markdown",
   "metadata": {},
   "source": [
    "### Email Features"
   ]
  },
  {
   "cell_type": "code",
   "execution_count": 13,
   "metadata": {},
   "outputs": [
    {
     "name": "stdout",
     "output_type": "stream",
     "text": [
      "['to_messages', 'email_address', 'from_poi_to_this_person', 'from_messages', 'from_this_person_to_poi', 'shared_receipt_with_poi']\n"
     ]
    }
   ],
   "source": [
    "print(email_features)"
   ]
  },
  {
   "cell_type": "markdown",
   "metadata": {},
   "source": [
    "The first aproach we can take is to see if POIs communicate to each other a lot, using the features from_poi_to_this_person and from_this_person_to_poi:"
   ]
  },
  {
   "cell_type": "code",
   "execution_count": 14,
   "metadata": {},
   "outputs": [
    {
     "data": {
      "text/plain": [
       "<matplotlib.collections.PathCollection at 0x7f65e1da2828>"
      ]
     },
     "execution_count": 14,
     "metadata": {},
     "output_type": "execute_result"
    },
    {
     "data": {
      "image/png": "[encoded data removed]",
      "text/plain": [
       "<matplotlib.figure.Figure at 0x7f6618ef32b0>"
      ]
     },
     "metadata": {},
     "output_type": "display_data"
    }
   ],
   "source": [
    "plt.scatter(df.from_poi_to_this_person, df.from_this_person_to_poi, c=df.poi, alpha=0.5)"
   ]
  },
  {
   "cell_type": "markdown",
   "metadata": {},
   "source": [
    "It is a good idea, but there are people who sends a lot of emails and those that don't, so, engineering 2 new features, from_poi_ratio and to_poi_ratio may help:"
   ]
  },
  {
   "cell_type": "code",
   "execution_count": 15,
   "metadata": {
    "collapsed": true
   },
   "outputs": [],
   "source": [
    "df['from_poi_ratio'] = df.from_poi_to_this_person/df.to_messages\n",
    "df['to_poi_ratio'] = df.from_this_person_to_poi/df.from_messages"
   ]
  },
  {
   "cell_type": "code",
   "execution_count": 16,
   "metadata": {
    "scrolled": false
   },
   "outputs": [
    {
     "data": {
      "text/plain": [
       "<matplotlib.collections.PathCollection at 0x7f65e1c961d0>"
      ]
     },
     "execution_count": 16,
     "metadata": {},
     "output_type": "execute_result"
    },
    {
     "data": {
      "image/png": "[encoded data removed]",
      "text/plain": [
       "<matplotlib.figure.Figure at 0x7f6618ef36d8>"
      ]
     },
     "metadata": {},
     "output_type": "display_data"
    }
   ],
   "source": [
    "plt.scatter(df.from_poi_ratio, df.to_poi_ratio, c=df.poi, alpha=0.5)"
   ]
  },
  {
   "cell_type": "markdown",
   "metadata": {},
   "source": [
    "Good, these features will help to filter a lot of people."
   ]
  },
  {
   "cell_type": "markdown",
   "metadata": {},
   "source": [
    "Using the same line of thought with the feature \"shared_receipt_with_poi\" doesn't help too much:"
   ]
  },
  {
   "cell_type": "code",
   "execution_count": 17,
   "metadata": {
    "scrolled": true
   },
   "outputs": [
    {
     "data": {
      "text/plain": [
       "<matplotlib.collections.PathCollection at 0x7f65e1bb40f0>"
      ]
     },
     "execution_count": 17,
     "metadata": {},
     "output_type": "execute_result"
    },
    {
     "data": {
      "image/png": "[encoded data removed]",
      "text/plain": [
       "<matplotlib.figure.Figure at 0x7f65e1cd8668>"
      ]
     },
     "metadata": {},
     "output_type": "display_data"
    }
   ],
   "source": [
    "plt.scatter(df.shared_receipt_with_poi/df.to_messages, df.to_poi_ratio, c=df.poi, alpha=0.5)"
   ]
  },
  {
   "cell_type": "code",
   "execution_count": 18,
   "metadata": {
    "collapsed": true
   },
   "outputs": [],
   "source": [
    "selected_email_features = ['from_poi_ratio', 'to_poi_ratio']"
   ]
  },
  {
   "cell_type": "markdown",
   "metadata": {},
   "source": [
    "### Financial Features\n",
    "\n",
    "There is a lot of financial features:"
   ]
  },
  {
   "cell_type": "code",
   "execution_count": 19,
   "metadata": {},
   "outputs": [
    {
     "name": "stdout",
     "output_type": "stream",
     "text": [
      "['salary', 'deferral_payments', 'total_payments', 'loan_advances', 'bonus', 'restricted_stock_deferred', 'deferred_income', 'total_stock_value', 'expenses', 'exercised_stock_options', 'other', 'long_term_incentive', 'restricted_stock', 'director_fees']\n",
      "14\n"
     ]
    }
   ],
   "source": [
    "print(financial_features)\n",
    "print(len(financial_features))"
   ]
  },
  {
   "cell_type": "markdown",
   "metadata": {},
   "source": [
    "#### Missing Values"
   ]
  },
  {
   "cell_type": "markdown",
   "metadata": {},
   "source": [
    "If there is features with too much missing values, they won't help with the classification."
   ]
  },
  {
   "cell_type": "code",
   "execution_count": 20,
   "metadata": {},
   "outputs": [
    {
     "name": "stdout",
     "output_type": "stream",
     "text": [
      "                         Title: Count    Missing  POI Count  % Missing\n",
      "                 loan_advances: 3        142      1          97.93   \n",
      "                 director_fees: 16       129      0          88.97   \n",
      "     restricted_stock_deferred: 17       128      0          88.28   \n",
      "             deferral_payments: 38       107      5          73.79   \n",
      "               deferred_income: 48       97       11         66.90   \n",
      "           long_term_incentive: 65       80       12         55.17   \n",
      "                         bonus: 81       64       16         44.14   \n",
      "                         other: 92       53       18         36.55   \n",
      "                        salary: 94       51       17         35.17   \n",
      "                      expenses: 94       51       18         35.17   \n",
      "       exercised_stock_options: 101      44       12         30.34   \n",
      "              restricted_stock: 109      36       17         24.83   \n",
      "                total_payments: 124      21       18         14.48   \n",
      "             total_stock_value: 125      20       18         13.79   \n"
     ]
    }
   ],
   "source": [
    "print_list = []\n",
    "for feature in financial_features:\n",
    "    title = feature\n",
    "    count = df[feature].count()\n",
    "    missing = total_dps - count\n",
    "    poi_count = len(df.query(feature+' != \"NaN\" and poi==True'))\n",
    "    pct_missing = 100*missing/total_dps\n",
    "    print_list.append((title, count, missing, poi_count, pct_missing))\n",
    "\n",
    "print('{:>30}: {:<8} {:<8} {:<10} {:<8}'.format('Title', 'Count', 'Missing', 'POI Count', '% Missing'))\n",
    "for (title, count, missing, poi_count, pct_missing) in sorted(print_list, key=operator.itemgetter(4),\n",
    "                                                              reverse=True):\n",
    "    print('{:>30}: {:<8} {:<8} {:<10} {:<8.2f}'.format(title, count, missing, poi_count, pct_missing))"
   ]
  },
  {
   "cell_type": "markdown",
   "metadata": {},
   "source": [
    "Features with a high amount of missing values and low POI count won't be useful. Removing them:"
   ]
  },
  {
   "cell_type": "code",
   "execution_count": 21,
   "metadata": {},
   "outputs": [
    {
     "name": "stdout",
     "output_type": "stream",
     "text": [
      "['salary', 'total_payments', 'bonus', 'deferred_income', 'total_stock_value', 'expenses', 'exercised_stock_options', 'other', 'long_term_incentive', 'restricted_stock']\n"
     ]
    },
    {
     "data": {
      "text/plain": [
       "10"
      ]
     },
     "execution_count": 21,
     "metadata": {},
     "output_type": "execute_result"
    }
   ],
   "source": [
    "features_to_remove = ['loan_advances', 'director_fees', 'restricted_stock_deferred', \n",
    "                      'deferral_payments']\n",
    "for feature in features_to_remove:\n",
    "    financial_features.remove(feature)\n",
    "print(financial_features)\n",
    "len(financial_features)"
   ]
  },
  {
   "cell_type": "markdown",
   "metadata": {},
   "source": [
    "#### Exploration"
   ]
  },
  {
   "cell_type": "code",
   "execution_count": 22,
   "metadata": {
    "scrolled": true
   },
   "outputs": [
    {
     "data": {
      "image/png": "[encoded data removed]",
      "text/plain": [
       "<matplotlib.figure.Figure at 0x7f65e9e6add8>"
      ]
     },
     "metadata": {},
     "output_type": "display_data"
    },
    {
     "data": {
      "image/png": "[encoded data removed]",
      "text/plain": [
       "<matplotlib.figure.Figure at 0x7f65e1d032b0>"
      ]
     },
     "metadata": {},
     "output_type": "display_data"
    },
    {
     "data": {
      "image/png": "[encoded data removed]",
      "text/plain": [
       "<matplotlib.figure.Figure at 0x7f65e19dd940>"
      ]
     },
     "metadata": {},
     "output_type": "display_data"
    },
    {
     "data": {
      "image/png": "[encoded data removed]",
      "text/plain": [
       "<matplotlib.figure.Figure at 0x7f65e1bbd6a0>"
      ]
     },
     "metadata": {},
     "output_type": "display_data"
    },
    {
     "data": {
      "image/png": "[encoded data removed]",
      "text/plain": [
       "<matplotlib.figure.Figure at 0x7f65e18d1f28>"
      ]
     },
     "metadata": {},
     "output_type": "display_data"
    },
    {
     "data": {
      "image/png": "[encoded data removed]",
      "text/plain": [
       "<matplotlib.figure.Figure at 0x7f65e1bc3f98>"
      ]
     },
     "metadata": {},
     "output_type": "display_data"
    },
    {
     "data": {
      "image/png": "[encoded data removed]",
      "text/plain": [
       "<matplotlib.figure.Figure at 0x7f65e1765518>"
      ]
     },
     "metadata": {},
     "output_type": "display_data"
    },
    {
     "data": {
      "image/png": "[encoded data removed]",
      "text/plain": [
       "<matplotlib.figure.Figure at 0x7f65e1640c18>"
      ]
     },
     "metadata": {},
     "output_type": "display_data"
    },
    {
     "data": {
      "image/png": "[encoded data removed]",
      "text/plain": [
       "<matplotlib.figure.Figure at 0x7f65e189eeb8>"
      ]
     },
     "metadata": {},
     "output_type": "display_data"
    },
    {
     "data": {
      "image/png": "[encoded data removed]",
      "text/plain": [
       "<matplotlib.figure.Figure at 0x7f65e18d1e80>"
      ]
     },
     "metadata": {},
     "output_type": "display_data"
    }
   ],
   "source": [
    "for feature in financial_features:\n",
    "    plt.hist(df[feature].dropna(),20)\n",
    "    plt.title(feature)\n",
    "    plt.show()"
   ]
  },
  {
   "cell_type": "markdown",
   "metadata": {},
   "source": [
    "With the exception of salary, all features are skewed. Using it as a basis for scatterplots to have an idea of the POI/non-POI distribution:"
   ]
  },
  {
   "cell_type": "code",
   "execution_count": 23,
   "metadata": {},
   "outputs": [
    {
     "data": {
      "image/png": "[encoded data removed]",
      "text/plain": [
       "<matplotlib.figure.Figure at 0x7f65e1a7ab70>"
      ]
     },
     "metadata": {},
     "output_type": "display_data"
    },
    {
     "data": {
      "image/png": "[encoded data removed]",
      "text/plain": [
       "<matplotlib.figure.Figure at 0x7f65e1866be0>"
      ]
     },
     "metadata": {},
     "output_type": "display_data"
    },
    {
     "data": {
      "image/png": "[encoded data removed]",
      "text/plain": [
       "<matplotlib.figure.Figure at 0x7f65e1af9588>"
      ]
     },
     "metadata": {},
     "output_type": "display_data"
    },
    {
     "data": {
      "image/png": "[encoded data removed]",
      "text/plain": [
       "<matplotlib.figure.Figure at 0x7f65e1a23ac8>"
      ]
     },
     "metadata": {},
     "output_type": "display_data"
    },
    {
     "data": {
      "image/png": "[encoded data removed]",
      "text/plain": [
       "<matplotlib.figure.Figure at 0x7f65e1bc3e10>"
      ]
     },
     "metadata": {},
     "output_type": "display_data"
    },
    {
     "data": {
      "image/png": "[encoded data removed]",
      "text/plain": [
       "<matplotlib.figure.Figure at 0x7f65e1500f98>"
      ]
     },
     "metadata": {},
     "output_type": "display_data"
    },
    {
     "data": {
      "image/png": "[encoded data removed]",
      "text/plain": [
       "<matplotlib.figure.Figure at 0x7f65e1b1c320>"
      ]
     },
     "metadata": {},
     "output_type": "display_data"
    },
    {
     "data": {
      "image/png": "[encoded data removed]",
      "text/plain": [
       "<matplotlib.figure.Figure at 0x7f65e18c2208>"
      ]
     },
     "metadata": {},
     "output_type": "display_data"
    },
    {
     "data": {
      "image/png": "[encoded data removed]",
      "text/plain": [
       "<matplotlib.figure.Figure at 0x7f65e1849ef0>"
      ]
     },
     "metadata": {},
     "output_type": "display_data"
    }
   ],
   "source": [
    "for feature in financial_features[1:]:\n",
    "    plt.scatter(np.sqrt(df.salary), df[feature], c=df.poi, alpha=0.5)\n",
    "    plt.title(feature)\n",
    "    plt.show()"
   ]
  },
  {
   "cell_type": "markdown",
   "metadata": {},
   "source": [
    "### Feature Selection"
   ]
  },
  {
   "cell_type": "code",
   "execution_count": 24,
   "metadata": {},
   "outputs": [
    {
     "name": "stdout",
     "output_type": "stream",
     "text": [
      "['from_poi_ratio', 'to_poi_ratio', 'salary', 'total_payments', 'bonus', 'deferred_income', 'total_stock_value', 'expenses', 'exercised_stock_options', 'other', 'long_term_incentive', 'restricted_stock']\n"
     ]
    },
    {
     "data": {
      "text/plain": [
       "12"
      ]
     },
     "execution_count": 24,
     "metadata": {},
     "output_type": "execute_result"
    }
   ],
   "source": [
    "features = selected_email_features+financial_features\n",
    "print(features)\n",
    "len(features)"
   ]
  },
  {
   "cell_type": "markdown",
   "metadata": {},
   "source": [
    "While exploring and selecting them by hand is a valid approach, so is using statistics to do it. \n",
    "\n",
    "This code will print the p_values and F-scores of each feature (NaN is filled with 0):\n",
    "\n",
    "FORMAT: p_value : feature : F-score"
   ]
  },
  {
   "cell_type": "code",
   "execution_count": 25,
   "metadata": {},
   "outputs": [
    {
     "data": {
      "text/plain": [
       "SelectKBest(k=10, score_func=<function f_classif at 0x7f65e17cc158>)"
      ]
     },
     "execution_count": 25,
     "metadata": {},
     "output_type": "execute_result"
    }
   ],
   "source": [
    "from sklearn.feature_selection import SelectKBest\n",
    "selector = SelectKBest()\n",
    "selector.fit(df[features].fillna(0), df.poi)"
   ]
  },
  {
   "cell_type": "code",
   "execution_count": 26,
   "metadata": {},
   "outputs": [
    {
     "name": "stdout",
     "output_type": "stream",
     "text": [
      "         1.398443796240722e-06 :   exercised_stock_options    : 25.3801052997602\n",
      "         1.844426415180382e-06 :      total_stock_value       : 24.752523020258508\n",
      "         8.548240899761827e-06 :            bonus             : 21.3278904139791\n",
      "        2.6464485993698053e-05 :            salary            : 18.861795316466416\n",
      "          6.69501897034152e-05 :         to_poi_ratio         : 16.873870264572993\n",
      "         0.0008017876244783438 :       deferred_income        : 11.732698076065354\n",
      "           0.00170779873759263 :     long_term_incentive      : 10.222904205832778\n",
      "          0.002490134850136291 :       restricted_stock       : 9.480743203478934\n",
      "          0.003239087410989142 :        total_payments        : 8.96781934767762\n",
      "          0.012667743910203918 :           expenses           : 6.3746144901977475\n",
      "           0.04074414136894844 :            other             : 4.263576638144469\n",
      "            0.0716363587097375 :        from_poi_ratio        : 3.293828632029562\n"
     ]
    }
   ],
   "source": [
    "for (feature, score, pvalue) in sorted(zip(features, selector.scores_, selector.pvalues_),\n",
    "                               key=operator.itemgetter(1), reverse=True):\n",
    "    print('{:>30} :{:^30}: {}'.format(pvalue, feature, score))"
   ]
  },
  {
   "cell_type": "markdown",
   "metadata": {},
   "source": [
    "k for different alphas:\n",
    "\n",
    "* 0.05 : k = 11\n",
    "* 0.01 : k = 9\n",
    "* 0.001: k = 6"
   ]
  },
  {
   "cell_type": "markdown",
   "metadata": {},
   "source": [
    "Using k = 11 (pvalue < 0.05):"
   ]
  },
  {
   "cell_type": "code",
   "execution_count": 27,
   "metadata": {
    "collapsed": true
   },
   "outputs": [],
   "source": [
    "selector = SelectKBest(k=11)\n",
    "filtered = selector.fit_transform(df[features].fillna(0), df.poi)\n",
    "selected_features = []\n",
    "for (feature, selected) in zip(features, selector.get_support()):\n",
    "    if selected:\n",
    "        selected_features.append(feature)"
   ]
  },
  {
   "cell_type": "code",
   "execution_count": 28,
   "metadata": {},
   "outputs": [
    {
     "data": {
      "text/plain": [
       "<matplotlib.axes._subplots.AxesSubplot at 0x7f65e19d2630>"
      ]
     },
     "execution_count": 28,
     "metadata": {},
     "output_type": "execute_result"
    },
    {
     "data": {
      "image/png": "[encoded data removed]",
      "text/plain": [
       "<matplotlib.figure.Figure at 0x7f65e1be1f28>"
      ]
     },
     "metadata": {},
     "output_type": "display_data"
    }
   ],
   "source": [
    "selected = pd.DataFrame(filtered, columns = selected_features)\n",
    "corr = selected.corr()\n",
    "sns.heatmap(corr, xticklabels=corr.columns,\n",
    "            yticklabels=corr.columns, cmap='RdBu', \n",
    "            vmin = -1.0, vmax = 1.0, annot = True)"
   ]
  },
  {
   "cell_type": "markdown",
   "metadata": {},
   "source": [
    "## Model Selection"
   ]
  },
  {
   "cell_type": "markdown",
   "metadata": {},
   "source": [
    "As per http://scikit-learn.org/stable/tutorial/machine_learning_map/index.html, the workflow should be:\n",
    "\n",
    "* Linear SVC\n",
    "* KN Classifier\n",
    "* SVC (other kernels)\n",
    "* Ensemble Classifiers\n",
    "    + Random Forest\n",
    "    + Adaboost"
   ]
  },
  {
   "cell_type": "code",
   "execution_count": 29,
   "metadata": {
    "collapsed": true
   },
   "outputs": [],
   "source": [
    "from sklearn.svm import SVC, LinearSVC\n",
    "from sklearn.neighbors import KNeighborsClassifier\n",
    "from sklearn.ensemble import RandomForestClassifier\n",
    "from sklearn.ensemble import AdaBoostClassifier\n",
    "from sklearn.tree import DecisionTreeClassifier"
   ]
  },
  {
   "cell_type": "code",
   "execution_count": 30,
   "metadata": {
    "collapsed": true
   },
   "outputs": [],
   "source": [
    "from sklearn.metrics import accuracy_score, precision_score, recall_score, f1_score"
   ]
  },
  {
   "cell_type": "markdown",
   "metadata": {},
   "source": [
    "#### Prepare the dataset"
   ]
  },
  {
   "cell_type": "markdown",
   "metadata": {},
   "source": [
    "First of all, it's necessary to convert the data to np.ndarray, pandas does not work well with sklearn. The main issue I've found, is that the MinMaxScaler.fit and SVC.fit run forever using Jupyter, consuming procesing power but not delivering the results, the same problem is not found using standalone modules.\n",
    "\n",
    "**Obs.** It may be a good idea to file a bug report."
   ]
  },
  {
   "cell_type": "code",
   "execution_count": 31,
   "metadata": {
    "collapsed": true
   },
   "outputs": [],
   "source": [
    "features = df[selected_features].fillna(0).values\n",
    "labels = df.poi.values"
   ]
  },
  {
   "cell_type": "markdown",
   "metadata": {},
   "source": [
    "Scaling the features helps with overall classification performance."
   ]
  },
  {
   "cell_type": "code",
   "execution_count": 32,
   "metadata": {
    "collapsed": true
   },
   "outputs": [],
   "source": [
    "from sklearn.preprocessing import MinMaxScaler\n",
    "scaler = MinMaxScaler()\n",
    "features = scaler.fit_transform(features)"
   ]
  },
  {
   "cell_type": "markdown",
   "metadata": {},
   "source": [
    "#### Evaluation Metrics\n",
    "\n",
    "The dataset is very unbalanced towards non-POI:"
   ]
  },
  {
   "cell_type": "code",
   "execution_count": 33,
   "metadata": {},
   "outputs": [
    {
     "name": "stdout",
     "output_type": "stream",
     "text": [
      "POI: 18 | Total: 145\n"
     ]
    }
   ],
   "source": [
    "print('POI: {} | Total: {}'.format(np.sum(labels), len(labels)))"
   ]
  },
  {
   "cell_type": "markdown",
   "metadata": {},
   "source": [
    "Using precision, or F1, generates warnings because a lot of the times they end up dividing by 0. Ignoring warnings:"
   ]
  },
  {
   "cell_type": "code",
   "execution_count": 34,
   "metadata": {
    "collapsed": true
   },
   "outputs": [],
   "source": [
    "import warnings\n",
    "warnings.filterwarnings('ignore')"
   ]
  },
  {
   "cell_type": "code",
   "execution_count": 35,
   "metadata": {},
   "outputs": [
    {
     "name": "stdout",
     "output_type": "stream",
     "text": [
      "Accuracy if predicted all non-POI: 0.875862\n"
     ]
    }
   ],
   "source": [
    "print('Accuracy if predicted all non-POI: {:0.6f}'.format((145-18)/145))"
   ]
  },
  {
   "cell_type": "markdown",
   "metadata": {},
   "source": [
    "Ideally, the classifier should be more accurate than 0.8759, while having a high recall rate."
   ]
  },
  {
   "cell_type": "markdown",
   "metadata": {},
   "source": [
    "Due to the unbalanced nature of the dataset (way more non-POI than POI), using just accuracy, or even F1, results in poor detection perfomance.\n",
    "\n",
    "The objective here is fraud detection! A model that is accurate but doesn't detect a lot of POI is not a good one.\n",
    "\n",
    "After a lot of testing, I determined that the average between accuracy and recall is a good metric in this case."
   ]
  },
  {
   "cell_type": "code",
   "execution_count": 36,
   "metadata": {
    "collapsed": true
   },
   "outputs": [],
   "source": [
    "def custom_scorer(ground_truth, predictions):\n",
    "    acc = precision_score(ground_truth, predictions)\n",
    "    rec = recall_score(ground_truth, predictions)\n",
    "    return acc*rec"
   ]
  },
  {
   "cell_type": "markdown",
   "metadata": {},
   "source": [
    "Preparing the metrics for iteration using GridSearchCV:"
   ]
  },
  {
   "cell_type": "code",
   "execution_count": 37,
   "metadata": {
    "collapsed": true
   },
   "outputs": [],
   "source": [
    "from sklearn.metrics import matthews_corrcoef\n",
    "from sklearn.metrics import make_scorer\n",
    "mcc = make_scorer(matthews_corrcoef)\n",
    "cus = make_scorer(custom_scorer)\n",
    "scorers = {'mcc': mcc, 'accuracy': 'accuracy', 'f1': 'f1', \n",
    "           'recall': 'recall', 'precision': 'precision', 'cus': cus}"
   ]
  },
  {
   "cell_type": "code",
   "execution_count": 38,
   "metadata": {
    "collapsed": true
   },
   "outputs": [],
   "source": [
    "from sklearn.model_selection import GridSearchCV"
   ]
  },
  {
   "cell_type": "code",
   "execution_count": 39,
   "metadata": {
    "collapsed": true
   },
   "outputs": [],
   "source": [
    "def print_summary(clf):\n",
    "    print(clf.best_estimator_)\n",
    "    print('MCC:       {:0.4f}'.format(clf.cv_results_['mean_test_mcc'][clf.best_index_]))\n",
    "    print('F1:        {:0.4f}'.format(clf.cv_results_['mean_test_f1'][clf.best_index_]))    \n",
    "    print('Precision: {:0.4f}'.format(clf.cv_results_['mean_test_precision'][clf.best_index_]))\n",
    "    print('Recall:    {:0.4f}'.format(clf.cv_results_['mean_test_recall'][clf.best_index_]))\n",
    "    print('Accuracy:  {:0.4f}'.format(clf.cv_results_['mean_test_accuracy'][clf.best_index_]))"
   ]
  },
  {
   "cell_type": "markdown",
   "metadata": {},
   "source": [
    "Everything is in order to start the tests. Each model will be run in 3 times (2 if the model has already reached its best performance):\n",
    "* First run: General range of parameters of different magnitudes\n",
    "* Second run: Specific parameter range\n",
    "* Third run: Fine tunning\n",
    "\n",
    "Afterwards a summary of findings is presented."
   ]
  },
  {
   "cell_type": "markdown",
   "metadata": {},
   "source": [
    "### Linear SVM Classifier"
   ]
  },
  {
   "cell_type": "markdown",
   "metadata": {},
   "source": [
    "#### First run"
   ]
  },
  {
   "cell_type": "code",
   "execution_count": 40,
   "metadata": {},
   "outputs": [
    {
     "data": {
      "text/plain": [
       "GridSearchCV(cv=3, error_score='raise',\n",
       "       estimator=LinearSVC(C=1.0, class_weight=None, dual=True, fit_intercept=True,\n",
       "     intercept_scaling=1, loss='squared_hinge', max_iter=1000,\n",
       "     multi_class='ovr', penalty='l2', random_state=42, tol=0.0001,\n",
       "     verbose=0),\n",
       "       fit_params=None, iid=True, n_jobs=4,\n",
       "       param_grid={'C': [1, 2, 3, 5, 10, 15, 20, 50, 100, 200, 300, 400, 500, 1000, 2500, 5000, 10000], 'tol': [0.0001, 0.001, 0.01, 0.1, 1, 10, 25, 50], 'class_weight': [None, 'balanced']},\n",
       "       pre_dispatch='2*n_jobs', refit='cus', return_train_score=True,\n",
       "       scoring={'mcc': make_scorer(matthews_corrcoef), 'accuracy': 'accuracy', 'f1': 'f1', 'recall': 'recall', 'precision': 'precision', 'cus': make_scorer(custom_scorer)},\n",
       "       verbose=0)"
      ]
     },
     "execution_count": 40,
     "metadata": {},
     "output_type": "execute_result"
    }
   ],
   "source": [
    "parameters = {'C': [1,2,3,5,10,15,20,50,100,200,300,400,500,1000,2500,5000,10000],\n",
    "              'tol': [0.0001, 0.001, 0.01, 0.1, 1, 10, 25, 50],\n",
    "              'class_weight': [None, 'balanced']}\n",
    "bclf = LinearSVC(random_state=42)\n",
    "clf = GridSearchCV(bclf, parameters, scoring=scorers,\n",
    "                   n_jobs=4, cv=3, refit='cus', verbose=0)\n",
    "clf.fit(features, labels)"
   ]
  },
  {
   "cell_type": "code",
   "execution_count": 41,
   "metadata": {},
   "outputs": [
    {
     "name": "stdout",
     "output_type": "stream",
     "text": [
      "LinearSVC(C=3, class_weight='balanced', dual=True, fit_intercept=True,\n",
      "     intercept_scaling=1, loss='squared_hinge', max_iter=1000,\n",
      "     multi_class='ovr', penalty='l2', random_state=42, tol=1, verbose=0)\n",
      "MCC:       0.3236\n",
      "F1:        0.4150\n",
      "Precision: 0.3557\n",
      "Recall:    0.4989\n",
      "Accuracy:  0.8276\n"
     ]
    }
   ],
   "source": [
    "print_summary(clf)"
   ]
  },
  {
   "cell_type": "markdown",
   "metadata": {},
   "source": [
    "#### Second run"
   ]
  },
  {
   "cell_type": "code",
   "execution_count": 42,
   "metadata": {},
   "outputs": [
    {
     "data": {
      "text/plain": [
       "GridSearchCV(cv=3, error_score='raise',\n",
       "       estimator=LinearSVC(C=1.0, class_weight=None, dual=True, fit_intercept=True,\n",
       "     intercept_scaling=1, loss='squared_hinge', max_iter=1000,\n",
       "     multi_class='ovr', penalty='l2', random_state=42, tol=0.0001,\n",
       "     verbose=0),\n",
       "       fit_params=None, iid=True, n_jobs=4,\n",
       "       param_grid={'C': [0.5, 0.75, 1, 1.25, 1.5, 1.75, 2], 'tol': [0.01, 0.05, 0.1, 0.2, 0.3, 0.4, 0.5, 0.6, 0.7, 0.8, 0.9], 'class_weight': [None, 'balanced']},\n",
       "       pre_dispatch='2*n_jobs', refit='cus', return_train_score=True,\n",
       "       scoring={'mcc': make_scorer(matthews_corrcoef), 'accuracy': 'accuracy', 'f1': 'f1', 'recall': 'recall', 'precision': 'precision', 'cus': make_scorer(custom_scorer)},\n",
       "       verbose=0)"
      ]
     },
     "execution_count": 42,
     "metadata": {},
     "output_type": "execute_result"
    }
   ],
   "source": [
    "parameters = {'C': [0.5,0.75,1,1.25,1.5,1.75,2],\n",
    "              'tol': [0.01,0.05,0.1,0.2,0.3,0.4,0.5,0.6,0.7,0.8,0.9],\n",
    "              'class_weight': [None, 'balanced']}\n",
    "bclf = LinearSVC(random_state=42)\n",
    "clf = GridSearchCV(bclf, parameters, scoring=scorers,\n",
    "                   n_jobs=4, cv=3, refit='cus', verbose=0)\n",
    "clf.fit(features, labels)"
   ]
  },
  {
   "cell_type": "code",
   "execution_count": 43,
   "metadata": {},
   "outputs": [
    {
     "name": "stdout",
     "output_type": "stream",
     "text": [
      "LinearSVC(C=1.25, class_weight='balanced', dual=True, fit_intercept=True,\n",
      "     intercept_scaling=1, loss='squared_hinge', max_iter=1000,\n",
      "     multi_class='ovr', penalty='l2', random_state=42, tol=0.9, verbose=0)\n",
      "MCC:       0.3295\n",
      "F1:        0.4178\n",
      "Precision: 0.3373\n",
      "Recall:    0.5540\n",
      "Accuracy:  0.8138\n"
     ]
    }
   ],
   "source": [
    "print_summary(clf)"
   ]
  },
  {
   "cell_type": "markdown",
   "metadata": {},
   "source": [
    "#### Third run"
   ]
  },
  {
   "cell_type": "code",
   "execution_count": 44,
   "metadata": {},
   "outputs": [
    {
     "data": {
      "text/plain": [
       "GridSearchCV(cv=3, error_score='raise',\n",
       "       estimator=LinearSVC(C=1.0, class_weight=None, dual=True, fit_intercept=True,\n",
       "     intercept_scaling=1, loss='squared_hinge', max_iter=1000,\n",
       "     multi_class='ovr', penalty='l2', random_state=42, tol=0.0001,\n",
       "     verbose=0),\n",
       "       fit_params=None, iid=True, n_jobs=4,\n",
       "       param_grid={'C': [1, 1.05, 1.1, 1.15, 1.2, 1.25, 1.3, 1.35, 1.4, 1.45, 1.5], 'tol': [0.7, 0.71, 0.72, 0.73, 0.74, 0.75, 0.76, 0.77, 0.78, 0.79, 0.8, 0.81, 0.82, 0.83, 0.84, 0.85, 0.86, 0.87, 0.88, 0.89, 0.9], 'class_weight': [None, 'balanced']},\n",
       "       pre_dispatch='2*n_jobs', refit='cus', return_train_score=True,\n",
       "       scoring={'mcc': make_scorer(matthews_corrcoef), 'accuracy': 'accuracy', 'f1': 'f1', 'recall': 'recall', 'precision': 'precision', 'cus': make_scorer(custom_scorer)},\n",
       "       verbose=0)"
      ]
     },
     "execution_count": 44,
     "metadata": {},
     "output_type": "execute_result"
    }
   ],
   "source": [
    "parameters = {'C': [1,1.05,1.1,1.15,1.2,1.25,1.30,1.35,1.4,1.45,1.5],\n",
    "              'tol': [0.7,0.71,0.72,0.73,0.74,0.75,0.76,0.77,0.78,0.79,0.8,\n",
    "                      0.81,0.82,0.83,0.84,0.85,0.86,0.87,0.88,0.89,0.9],\n",
    "              'class_weight': [None, 'balanced']}\n",
    "bclf = LinearSVC(random_state=42)\n",
    "clf = GridSearchCV(bclf, parameters, scoring=scorers,\n",
    "                   n_jobs=4, cv=3, refit='cus', verbose=0)\n",
    "clf.fit(features, labels)"
   ]
  },
  {
   "cell_type": "code",
   "execution_count": 45,
   "metadata": {},
   "outputs": [
    {
     "name": "stdout",
     "output_type": "stream",
     "text": [
      "LinearSVC(C=1.3, class_weight='balanced', dual=True, fit_intercept=True,\n",
      "     intercept_scaling=1, loss='squared_hinge', max_iter=1000,\n",
      "     multi_class='ovr', penalty='l2', random_state=42, tol=0.78, verbose=0)\n",
      "MCC:       0.3862\n",
      "F1:        0.4636\n",
      "Precision: 0.3568\n",
      "Recall:    0.6667\n",
      "Accuracy:  0.8069\n"
     ]
    }
   ],
   "source": [
    "print_summary(clf)"
   ]
  },
  {
   "cell_type": "markdown",
   "metadata": {},
   "source": [
    "#### Summary\n",
    "\n",
    "This model is limited, even tunning the parameters to a wide range of values can't increase it's performance to an acceptable level. The accuracy is decent, but the recall is not good enough."
   ]
  },
  {
   "cell_type": "markdown",
   "metadata": {},
   "source": [
    "### KNeighbors Classifier"
   ]
  },
  {
   "cell_type": "markdown",
   "metadata": {},
   "source": [
    "#### First run"
   ]
  },
  {
   "cell_type": "code",
   "execution_count": 46,
   "metadata": {},
   "outputs": [
    {
     "data": {
      "text/plain": [
       "GridSearchCV(cv=3, error_score='raise',\n",
       "       estimator=KNeighborsClassifier(algorithm='auto', leaf_size=30, metric='minkowski',\n",
       "           metric_params=None, n_jobs=1, n_neighbors=5, p=2,\n",
       "           weights='uniform'),\n",
       "       fit_params=None, iid=True, n_jobs=4,\n",
       "       param_grid={'n_neighbors': [1, 2, 3, 4, 5, 6, 7, 8, 9, 10], 'weights': ['uniform', 'distance'], 'algorithm': ['ball_tree', 'kd_tree', 'brute'], 'leaf_size': [5, 10, 20, 30, 40, 50], 'p': [1, 2]},\n",
       "       pre_dispatch='2*n_jobs', refit='cus', return_train_score=True,\n",
       "       scoring={'mcc': make_scorer(matthews_corrcoef), 'accuracy': 'accuracy', 'f1': 'f1', 'recall': 'recall', 'precision': 'precision', 'cus': make_scorer(custom_scorer)},\n",
       "       verbose=0)"
      ]
     },
     "execution_count": 46,
     "metadata": {},
     "output_type": "execute_result"
    }
   ],
   "source": [
    "parameters = {'n_neighbors': [1, 2, 3, 4, 5, 6, 7, 8, 9, 10],\n",
    "              'weights': ['uniform', 'distance'],\n",
    "              'algorithm' : ['ball_tree', 'kd_tree', 'brute'],\n",
    "              'leaf_size': [5,10,20,30,40,50],\n",
    "              'p': [1,2]\n",
    "             }\n",
    "bclf = KNeighborsClassifier()\n",
    "clf = GridSearchCV(bclf, parameters, scoring=scorers,\n",
    "                   n_jobs=4, cv=3, refit='cus', verbose=0)\n",
    "clf.fit(features, labels)"
   ]
  },
  {
   "cell_type": "code",
   "execution_count": 47,
   "metadata": {},
   "outputs": [
    {
     "name": "stdout",
     "output_type": "stream",
     "text": [
      "KNeighborsClassifier(algorithm='ball_tree', leaf_size=5, metric='minkowski',\n",
      "           metric_params=None, n_jobs=1, n_neighbors=1, p=1,\n",
      "           weights='uniform')\n",
      "MCC:       0.1217\n",
      "F1:        0.1939\n",
      "Precision: 0.2428\n",
      "Recall:    0.1655\n",
      "Accuracy:  0.8483\n"
     ]
    }
   ],
   "source": [
    "print_summary(clf)"
   ]
  },
  {
   "cell_type": "markdown",
   "metadata": {},
   "source": [
    "#### Second run"
   ]
  },
  {
   "cell_type": "code",
   "execution_count": 48,
   "metadata": {},
   "outputs": [
    {
     "name": "stdout",
     "output_type": "stream",
     "text": [
      "Fitting 3 folds for each of 1080 candidates, totalling 3240 fits\n"
     ]
    },
    {
     "name": "stderr",
     "output_type": "stream",
     "text": [
      "[Parallel(n_jobs=10)]: Done 160 tasks      | elapsed:    0.3s\n",
      "[Parallel(n_jobs=10)]: Done 2260 tasks      | elapsed:    4.1s\n",
      "[Parallel(n_jobs=10)]: Done 3240 out of 3240 | elapsed:    6.6s finished\n"
     ]
    },
    {
     "data": {
      "text/plain": [
       "GridSearchCV(cv=3, error_score='raise',\n",
       "       estimator=KNeighborsClassifier(algorithm='auto', leaf_size=30, metric='minkowski',\n",
       "           metric_params=None, n_jobs=1, n_neighbors=5, p=2,\n",
       "           weights='uniform'),\n",
       "       fit_params=None, iid=True, n_jobs=10,\n",
       "       param_grid={'n_neighbors': [1, 2, 3, 4, 5, 6, 7, 8, 9, 10], 'weights': ['uniform', 'distance'], 'algorithm': ['ball_tree', 'kd_tree', 'brute'], 'leaf_size': [2, 3, 4, 5, 6, 7, 8, 9, 10], 'p': [1, 2]},\n",
       "       pre_dispatch='2*n_jobs', refit='cus', return_train_score=True,\n",
       "       scoring={'mcc': make_scorer(matthews_corrcoef), 'accuracy': 'accuracy', 'f1': 'f1', 'recall': 'recall', 'precision': 'precision', 'cus': make_scorer(custom_scorer)},\n",
       "       verbose=1)"
      ]
     },
     "execution_count": 48,
     "metadata": {},
     "output_type": "execute_result"
    }
   ],
   "source": [
    "parameters = {'n_neighbors': [1, 2, 3, 4, 5, 6, 7, 8, 9, 10],\n",
    "              'weights': ['uniform', 'distance'],\n",
    "              'algorithm' : ['ball_tree', 'kd_tree', 'brute'],\n",
    "              'leaf_size': [2,3,4,5,6,7,8,9,10],\n",
    "              'p': [1,2]\n",
    "             }\n",
    "bclf = KNeighborsClassifier()\n",
    "clf = GridSearchCV(bclf, parameters, scoring=scorers,\n",
    "                   n_jobs=10, cv=3, refit='cus', verbose=1)\n",
    "clf.fit(features, labels)"
   ]
  },
  {
   "cell_type": "code",
   "execution_count": 49,
   "metadata": {},
   "outputs": [
    {
     "name": "stdout",
     "output_type": "stream",
     "text": [
      "KNeighborsClassifier(algorithm='ball_tree', leaf_size=2, metric='minkowski',\n",
      "           metric_params=None, n_jobs=1, n_neighbors=1, p=1,\n",
      "           weights='uniform')\n",
      "MCC:       0.1217\n",
      "F1:        0.1939\n",
      "Precision: 0.2428\n",
      "Recall:    0.1655\n",
      "Accuracy:  0.8483\n"
     ]
    }
   ],
   "source": [
    "print_summary(clf)"
   ]
  },
  {
   "cell_type": "markdown",
   "metadata": {},
   "source": [
    "#### Summary\n",
    "\n",
    "While it achived a higher accuracy, it came with the cost of much lower recall."
   ]
  },
  {
   "cell_type": "markdown",
   "metadata": {},
   "source": [
    "### SVM Classifier (other kernels)"
   ]
  },
  {
   "cell_type": "markdown",
   "metadata": {},
   "source": [
    "#### First run"
   ]
  },
  {
   "cell_type": "code",
   "execution_count": 50,
   "metadata": {},
   "outputs": [
    {
     "name": "stdout",
     "output_type": "stream",
     "text": [
      "Fitting 3 folds for each of 816 candidates, totalling 2448 fits\n"
     ]
    },
    {
     "name": "stderr",
     "output_type": "stream",
     "text": [
      "[Parallel(n_jobs=10)]: Done 200 tasks      | elapsed:    0.4s\n",
      "[Parallel(n_jobs=10)]: Done 2448 out of 2448 | elapsed:    2.9s finished\n"
     ]
    },
    {
     "data": {
      "text/plain": [
       "GridSearchCV(cv=3, error_score='raise',\n",
       "       estimator=SVC(C=1.0, cache_size=200, class_weight=None, coef0=0.0,\n",
       "  decision_function_shape='ovr', degree=3, gamma='auto', kernel='rbf',\n",
       "  max_iter=-1, probability=False, random_state=42, shrinking=True,\n",
       "  tol=0.001, verbose=False),\n",
       "       fit_params=None, iid=True, n_jobs=10,\n",
       "       param_grid={'kernel': ['poly', 'rbf', 'sigmoid'], 'C': [1, 2, 3, 5, 10, 15, 20, 50, 100, 200, 300, 400, 500, 1000, 2500, 5000, 10000], 'gamma': [0.0001, 0.001, 0.01, 0.1, 1, 10, 25, 50], 'class_weight': [None, 'balanced']},\n",
       "       pre_dispatch='2*n_jobs', refit='cus', return_train_score=True,\n",
       "       scoring={'mcc': make_scorer(matthews_corrcoef), 'accuracy': 'accuracy', 'f1': 'f1', 'recall': 'recall', 'precision': 'precision', 'cus': make_scorer(custom_scorer)},\n",
       "       verbose=1)"
      ]
     },
     "execution_count": 50,
     "metadata": {},
     "output_type": "execute_result"
    }
   ],
   "source": [
    "parameters = {'kernel': ['poly', 'rbf', 'sigmoid'],\n",
    "              'C': [1,2,3,5,10,15,20,50,100,200,300,400,500,1000,2500,5000,10000],\n",
    "              'gamma': [0.0001, 0.001, 0.01, 0.1, 1, 10, 25, 50],\n",
    "              'class_weight': [None, 'balanced']}\n",
    "bclf = SVC(random_state=42)\n",
    "clf = GridSearchCV(bclf, parameters, scoring=scorers,\n",
    "                   n_jobs=10, cv=3, refit='cus', verbose=1)\n",
    "clf.fit(features, labels)"
   ]
  },
  {
   "cell_type": "code",
   "execution_count": 51,
   "metadata": {},
   "outputs": [
    {
     "name": "stdout",
     "output_type": "stream",
     "text": [
      "SVC(C=5, cache_size=200, class_weight='balanced', coef0=0.0,\n",
      "  decision_function_shape='ovr', degree=3, gamma=1, kernel='sigmoid',\n",
      "  max_iter=-1, probability=False, random_state=42, shrinking=True,\n",
      "  tol=0.001, verbose=False)\n",
      "MCC:       0.3936\n",
      "F1:        0.4331\n",
      "Precision: 0.2894\n",
      "Recall:    0.8897\n",
      "Accuracy:  0.7103\n"
     ]
    }
   ],
   "source": [
    "print_summary(clf)"
   ]
  },
  {
   "cell_type": "markdown",
   "metadata": {},
   "source": [
    "#### Second run"
   ]
  },
  {
   "cell_type": "code",
   "execution_count": 52,
   "metadata": {},
   "outputs": [
    {
     "name": "stdout",
     "output_type": "stream",
     "text": [
      "Fitting 3 folds for each of 1140 candidates, totalling 3420 fits\n"
     ]
    },
    {
     "name": "stderr",
     "output_type": "stream",
     "text": [
      "[Parallel(n_jobs=10)]: Done 200 tasks      | elapsed:    0.4s\n",
      "[Parallel(n_jobs=10)]: Done 3420 out of 3420 | elapsed:    4.1s finished\n"
     ]
    },
    {
     "data": {
      "text/plain": [
       "GridSearchCV(cv=3, error_score='raise',\n",
       "       estimator=SVC(C=1.0, cache_size=200, class_weight=None, coef0=0.0,\n",
       "  decision_function_shape='ovr', degree=3, gamma='auto', kernel='rbf',\n",
       "  max_iter=-1, probability=False, random_state=42, shrinking=True,\n",
       "  tol=0.001, verbose=False),\n",
       "       fit_params=None, iid=True, n_jobs=10,\n",
       "       param_grid={'kernel': ['poly', 'rbf', 'sigmoid'], 'C': [1, 2, 3, 4, 5, 6, 7, 8, 9, 10], 'gamma': [0.1, 0.2, 0.3, 0.4, 0.5, 0.6, 0.7, 0.8, 0.9, 1, 2, 3, 4, 5, 6, 7, 8, 9, 10], 'class_weight': [None, 'balanced']},\n",
       "       pre_dispatch='2*n_jobs', refit='cus', return_train_score=True,\n",
       "       scoring={'mcc': make_scorer(matthews_corrcoef), 'accuracy': 'accuracy', 'f1': 'f1', 'recall': 'recall', 'precision': 'precision', 'cus': make_scorer(custom_scorer)},\n",
       "       verbose=1)"
      ]
     },
     "execution_count": 52,
     "metadata": {},
     "output_type": "execute_result"
    }
   ],
   "source": [
    "parameters = {'kernel': ['poly', 'rbf', 'sigmoid'],\n",
    "              'C': [1,2,3,4,5,6,7,8,9,10],\n",
    "              'gamma': [0.1,0.2,0.3,0.4,0.5,0.6,0.7,0.8,0.9,1,2,3,4,5,6,7,8,9,10],\n",
    "              'class_weight': [None, 'balanced']}\n",
    "bclf = SVC(random_state=42)\n",
    "clf = GridSearchCV(bclf, parameters, scoring=scorers,\n",
    "                   n_jobs=10, cv=3, refit='cus', verbose=1)\n",
    "clf.fit(features, labels)"
   ]
  },
  {
   "cell_type": "code",
   "execution_count": 53,
   "metadata": {},
   "outputs": [
    {
     "name": "stdout",
     "output_type": "stream",
     "text": [
      "SVC(C=7, cache_size=200, class_weight='balanced', coef0=0.0,\n",
      "  decision_function_shape='ovr', degree=3, gamma=0.8, kernel='sigmoid',\n",
      "  max_iter=-1, probability=False, random_state=42, shrinking=True,\n",
      "  tol=0.001, verbose=False)\n",
      "MCC:       0.4095\n",
      "F1:        0.4508\n",
      "Precision: 0.3020\n",
      "Recall:    0.8897\n",
      "Accuracy:  0.7310\n"
     ]
    }
   ],
   "source": [
    "print_summary(clf)"
   ]
  },
  {
   "cell_type": "markdown",
   "metadata": {},
   "source": [
    "#### Third run "
   ]
  },
  {
   "cell_type": "code",
   "execution_count": 54,
   "metadata": {},
   "outputs": [
    {
     "name": "stdout",
     "output_type": "stream",
     "text": [
      "Fitting 3 folds for each of 2520 candidates, totalling 7560 fits\n"
     ]
    },
    {
     "name": "stderr",
     "output_type": "stream",
     "text": [
      "[Parallel(n_jobs=10)]: Done 220 tasks      | elapsed:    0.4s\n",
      "[Parallel(n_jobs=10)]: Done 6020 tasks      | elapsed:    7.1s\n",
      "[Parallel(n_jobs=10)]: Done 7560 out of 7560 | elapsed:    8.6s finished\n"
     ]
    },
    {
     "data": {
      "text/plain": [
       "GridSearchCV(cv=3, error_score='raise',\n",
       "       estimator=SVC(C=1.0, cache_size=200, class_weight=None, coef0=0.0,\n",
       "  decision_function_shape='ovr', degree=3, gamma='auto', kernel='rbf',\n",
       "  max_iter=-1, probability=False, random_state=42, shrinking=True,\n",
       "  tol=0.001, verbose=False),\n",
       "       fit_params=None, iid=True, n_jobs=10,\n",
       "       param_grid={'kernel': ['poly', 'rbf', 'sigmoid'], 'C': [0.1, 0.2, 0.3, 0.4, 0.5, 0.6, 0.7, 0.8, 0.9, 1, 1.1, 1.2, 1.3, 1.4, 1.5, 1.6, 1.7, 1.8, 1.9, 2], 'gamma': [0.7, 0.71, 0.72, 0.73, 0.74, 0.75, 0.76, 0.77, 0.78, 0.79, 0.8, 0.81, 0.82, 0.83, 0.84, 0.85, 0.86, 0.87, 0.88, 0.89, 0.9], 'class_weight': [None, 'balanced']},\n",
       "       pre_dispatch='2*n_jobs', refit='cus', return_train_score=True,\n",
       "       scoring={'mcc': make_scorer(matthews_corrcoef), 'accuracy': 'accuracy', 'f1': 'f1', 'recall': 'recall', 'precision': 'precision', 'cus': make_scorer(custom_scorer)},\n",
       "       verbose=1)"
      ]
     },
     "execution_count": 54,
     "metadata": {},
     "output_type": "execute_result"
    }
   ],
   "source": [
    "parameters = {'kernel': ['poly', 'rbf', 'sigmoid'],\n",
    "              'C': [0.1,0.2,0.3,0.4,0.5,0.6,0.7,0.8,0.9,1,\n",
    "                    1.1,1.2,1.3,1.4,1.5,1.6,1.7,1.8,1.9,2],\n",
    "              'gamma': [0.7,0.71,0.72,0.73,0.74,0.75,0.76,0.77,0.78,0.79,0.8,\n",
    "                        0.81,0.82,0.83,0.84,0.85,0.86,0.87,0.88,0.89,0.9],\n",
    "              'class_weight': [None, 'balanced']}\n",
    "bclf = SVC(random_state=42)\n",
    "clf = GridSearchCV(bclf, parameters, scoring=scorers,\n",
    "                   n_jobs=10, cv=3, refit='cus', verbose=1)\n",
    "clf.fit(features, labels)"
   ]
  },
  {
   "cell_type": "code",
   "execution_count": 55,
   "metadata": {},
   "outputs": [
    {
     "name": "stdout",
     "output_type": "stream",
     "text": [
      "SVC(C=0.2, cache_size=200, class_weight='balanced', coef0=0.0,\n",
      "  decision_function_shape='ovr', degree=3, gamma=0.85, kernel='rbf',\n",
      "  max_iter=-1, probability=False, random_state=42, shrinking=True,\n",
      "  tol=0.001, verbose=False)\n",
      "MCC:       0.4141\n",
      "F1:        0.4800\n",
      "Precision: 0.3701\n",
      "Recall:    0.7207\n",
      "Accuracy:  0.8000\n"
     ]
    }
   ],
   "source": [
    "print_summary(clf)"
   ]
  },
  {
   "cell_type": "markdown",
   "metadata": {},
   "source": [
    "#### Summary\n",
    "\n",
    "This model was able to get a high recall score. However, it came with the price of lower accuracy."
   ]
  },
  {
   "cell_type": "markdown",
   "metadata": {},
   "source": [
    "### Decision Trees"
   ]
  },
  {
   "cell_type": "markdown",
   "metadata": {},
   "source": [
    "#### First run"
   ]
  },
  {
   "cell_type": "code",
   "execution_count": 56,
   "metadata": {
    "scrolled": true
   },
   "outputs": [
    {
     "name": "stdout",
     "output_type": "stream",
     "text": [
      "Fitting 3 folds for each of 160 candidates, totalling 480 fits\n"
     ]
    },
    {
     "name": "stderr",
     "output_type": "stream",
     "text": [
      "[Parallel(n_jobs=10)]: Done 480 out of 480 | elapsed:    0.5s finished\n"
     ]
    },
    {
     "data": {
      "text/plain": [
       "GridSearchCV(cv=3, error_score='raise',\n",
       "       estimator=DecisionTreeClassifier(class_weight=None, criterion='gini', max_depth=None,\n",
       "            max_features=None, max_leaf_nodes=None,\n",
       "            min_impurity_decrease=0.0, min_impurity_split=None,\n",
       "            min_samples_leaf=1, min_samples_split=2,\n",
       "            min_weight_fraction_leaf=0.0, presort=False, random_state=42,\n",
       "            splitter='best'),\n",
       "       fit_params=None, iid=True, n_jobs=10,\n",
       "       param_grid={'criterion': ['gini', 'entropy'], 'max_features': ['auto', 'sqrt', 'log2', None], 'min_samples_leaf': [1, 2, 5, 10, 15, 20, 30, 40, 50, 100], 'class_weight': [None, 'balanced']},\n",
       "       pre_dispatch='2*n_jobs', refit='cus', return_train_score=True,\n",
       "       scoring={'mcc': make_scorer(matthews_corrcoef), 'accuracy': 'accuracy', 'f1': 'f1', 'recall': 'recall', 'precision': 'precision', 'cus': make_scorer(custom_scorer)},\n",
       "       verbose=1)"
      ]
     },
     "execution_count": 56,
     "metadata": {},
     "output_type": "execute_result"
    }
   ],
   "source": [
    "parameters = {'criterion': ['gini', 'entropy'],\n",
    "              'max_features': ['auto', 'sqrt', 'log2', None],\n",
    "              'min_samples_leaf': [1,2,5,10,15,20,30,40,50,100],\n",
    "              'class_weight': [None, 'balanced']}\n",
    "bclf = DecisionTreeClassifier(random_state=42)\n",
    "clf = GridSearchCV(bclf, parameters, scoring=scorers,\n",
    "                   n_jobs=10, cv=3, refit='cus', verbose=1)\n",
    "clf.fit(features, labels)"
   ]
  },
  {
   "cell_type": "code",
   "execution_count": 57,
   "metadata": {},
   "outputs": [
    {
     "name": "stdout",
     "output_type": "stream",
     "text": [
      "DecisionTreeClassifier(class_weight='balanced', criterion='gini',\n",
      "            max_depth=None, max_features=None, max_leaf_nodes=None,\n",
      "            min_impurity_decrease=0.0, min_impurity_split=None,\n",
      "            min_samples_leaf=20, min_samples_split=2,\n",
      "            min_weight_fraction_leaf=0.0, presort=False, random_state=42,\n",
      "            splitter='best')\n",
      "MCC:       0.3069\n",
      "F1:        0.4112\n",
      "Precision: 0.3575\n",
      "Recall:    0.4977\n",
      "Accuracy:  0.8000\n"
     ]
    }
   ],
   "source": [
    "print_summary(clf)"
   ]
  },
  {
   "cell_type": "markdown",
   "metadata": {},
   "source": [
    "#### Second run"
   ]
  },
  {
   "cell_type": "code",
   "execution_count": 58,
   "metadata": {},
   "outputs": [
    {
     "name": "stdout",
     "output_type": "stream",
     "text": [
      "Fitting 3 folds for each of 336 candidates, totalling 1008 fits\n"
     ]
    },
    {
     "name": "stderr",
     "output_type": "stream",
     "text": [
      "[Parallel(n_jobs=10)]: Done 240 tasks      | elapsed:    0.4s\n",
      "[Parallel(n_jobs=10)]: Done 1008 out of 1008 | elapsed:    1.1s finished\n"
     ]
    },
    {
     "data": {
      "text/plain": [
       "GridSearchCV(cv=3, error_score='raise',\n",
       "       estimator=DecisionTreeClassifier(class_weight=None, criterion='gini', max_depth=None,\n",
       "            max_features=None, max_leaf_nodes=None,\n",
       "            min_impurity_decrease=0.0, min_impurity_split=None,\n",
       "            min_samples_leaf=1, min_samples_split=2,\n",
       "            min_weight_fraction_leaf=0.0, presort=False, random_state=42,\n",
       "            splitter='best'),\n",
       "       fit_params=None, iid=True, n_jobs=10,\n",
       "       param_grid={'criterion': ['gini', 'entropy'], 'max_features': ['auto', 'sqrt', 'log2', None], 'min_samples_leaf': [20, 21, 22, 23, 24, 25, 26, 27, 28, 29, 30, 31, 32, 33, 34, 35, 36, 37, 38, 39, 40], 'class_weight': [None, 'balanced']},\n",
       "       pre_dispatch='2*n_jobs', refit='cus', return_train_score=True,\n",
       "       scoring={'mcc': make_scorer(matthews_corrcoef), 'accuracy': 'accuracy', 'f1': 'f1', 'recall': 'recall', 'precision': 'precision', 'cus': make_scorer(custom_scorer)},\n",
       "       verbose=1)"
      ]
     },
     "execution_count": 58,
     "metadata": {},
     "output_type": "execute_result"
    }
   ],
   "source": [
    "parameters = {'criterion': ['gini', 'entropy'],\n",
    "              'max_features': ['auto', 'sqrt', 'log2', None],\n",
    "              'min_samples_leaf': [20,21,22,23,24,25,26,27,28,29,30,\n",
    "                                   31,32,33,34,35,36,37,38,39,40],\n",
    "              'class_weight': [None, 'balanced']}\n",
    "bclf = DecisionTreeClassifier(random_state=42)\n",
    "clf = GridSearchCV(bclf, parameters, scoring=scorers,\n",
    "                   n_jobs=10, cv=3, refit='cus', verbose=1)\n",
    "clf.fit(features, labels)"
   ]
  },
  {
   "cell_type": "code",
   "execution_count": 59,
   "metadata": {},
   "outputs": [
    {
     "name": "stdout",
     "output_type": "stream",
     "text": [
      "DecisionTreeClassifier(class_weight='balanced', criterion='gini',\n",
      "            max_depth=None, max_features=None, max_leaf_nodes=None,\n",
      "            min_impurity_decrease=0.0, min_impurity_split=None,\n",
      "            min_samples_leaf=21, min_samples_split=2,\n",
      "            min_weight_fraction_leaf=0.0, presort=False, random_state=42,\n",
      "            splitter='best')\n",
      "MCC:       0.3534\n",
      "F1:        0.4526\n",
      "Precision: 0.3801\n",
      "Recall:    0.6103\n",
      "Accuracy:  0.7724\n"
     ]
    }
   ],
   "source": [
    "print_summary(clf)"
   ]
  },
  {
   "cell_type": "markdown",
   "metadata": {
    "collapsed": true
   },
   "source": [
    "#### Summary\n",
    "Bad overall performance. Only marginaly better than a coin toss."
   ]
  },
  {
   "cell_type": "markdown",
   "metadata": {},
   "source": [
    "### Ensemble Classifiers: Random Forest"
   ]
  },
  {
   "cell_type": "markdown",
   "metadata": {},
   "source": [
    "#### First run"
   ]
  },
  {
   "cell_type": "code",
   "execution_count": 60,
   "metadata": {},
   "outputs": [
    {
     "name": "stdout",
     "output_type": "stream",
     "text": [
      "Fitting 3 folds for each of 1296 candidates, totalling 3888 fits\n"
     ]
    },
    {
     "name": "stderr",
     "output_type": "stream",
     "text": [
      "[Parallel(n_jobs=10)]: Done 160 tasks      | elapsed:    1.0s\n",
      "[Parallel(n_jobs=10)]: Done 2260 tasks      | elapsed:   12.1s\n",
      "[Parallel(n_jobs=10)]: Done 3888 out of 3888 | elapsed:   20.9s finished\n"
     ]
    },
    {
     "data": {
      "text/plain": [
       "GridSearchCV(cv=3, error_score='raise',\n",
       "       estimator=RandomForestClassifier(bootstrap=True, class_weight=None, criterion='gini',\n",
       "            max_depth=None, max_features='auto', max_leaf_nodes=None,\n",
       "            min_impurity_decrease=0.0, min_impurity_split=None,\n",
       "            min_samples_leaf=1, min_samples_split=2,\n",
       "            min_weight_fraction_leaf=0.0, n_estimators=10, n_jobs=1,\n",
       "            oob_score=False, random_state=42, verbose=0, warm_start=False),\n",
       "       fit_params=None, iid=True, n_jobs=10,\n",
       "       param_grid={'n_estimators': [2, 5, 10, 15, 20, 50], 'criterion': ['gini', 'entropy'], 'max_features': ['auto', 'sqrt', 'log2', None], 'min_samples_leaf': [1, 2, 5, 10, 15, 20, 30, 40, 50], 'class_weight': [None, 'balanced', 'balanced_subsample']},\n",
       "       pre_dispatch='2*n_jobs', refit='cus', return_train_score=True,\n",
       "       scoring={'mcc': make_scorer(matthews_corrcoef), 'accuracy': 'accuracy', 'f1': 'f1', 'recall': 'recall', 'precision': 'precision', 'cus': make_scorer(custom_scorer)},\n",
       "       verbose=1)"
      ]
     },
     "execution_count": 60,
     "metadata": {},
     "output_type": "execute_result"
    }
   ],
   "source": [
    "parameters = {'n_estimators': [2,5,10,15,20,50],\n",
    "              'criterion': ['gini', 'entropy'],\n",
    "              'max_features': ['auto', 'sqrt', 'log2', None],\n",
    "              'min_samples_leaf': [1,2,5,10,15,20,30,40,50],\n",
    "              'class_weight': [None, 'balanced', 'balanced_subsample']}\n",
    "bclf = RandomForestClassifier(random_state=42)\n",
    "clf = GridSearchCV(bclf, parameters, scoring=scorers,\n",
    "                   n_jobs=10, cv=3, refit='cus', verbose=1)\n",
    "clf.fit(features, labels)"
   ]
  },
  {
   "cell_type": "code",
   "execution_count": 61,
   "metadata": {},
   "outputs": [
    {
     "name": "stdout",
     "output_type": "stream",
     "text": [
      "RandomForestClassifier(bootstrap=True, class_weight='balanced',\n",
      "            criterion='gini', max_depth=None, max_features=None,\n",
      "            max_leaf_nodes=None, min_impurity_decrease=0.0,\n",
      "            min_impurity_split=None, min_samples_leaf=20,\n",
      "            min_samples_split=2, min_weight_fraction_leaf=0.0,\n",
      "            n_estimators=15, n_jobs=1, oob_score=False, random_state=42,\n",
      "            verbose=0, warm_start=False)\n",
      "MCC:       0.4271\n",
      "F1:        0.4987\n",
      "Precision: 0.3719\n",
      "Recall:    0.7759\n",
      "Accuracy:  0.7793\n"
     ]
    }
   ],
   "source": [
    "print_summary(clf)"
   ]
  },
  {
   "cell_type": "markdown",
   "metadata": {},
   "source": [
    "#### Second run"
   ]
  },
  {
   "cell_type": "code",
   "execution_count": 62,
   "metadata": {},
   "outputs": [
    {
     "name": "stdout",
     "output_type": "stream",
     "text": [
      "Fitting 3 folds for each of 19200 candidates, totalling 57600 fits\n"
     ]
    },
    {
     "name": "stderr",
     "output_type": "stream",
     "text": [
      "[Parallel(n_jobs=10)]: Done 180 tasks      | elapsed:    0.9s\n",
      "[Parallel(n_jobs=10)]: Done 2580 tasks      | elapsed:    9.6s\n",
      "[Parallel(n_jobs=10)]: Done 6580 tasks      | elapsed:   23.9s\n",
      "[Parallel(n_jobs=10)]: Done 12180 tasks      | elapsed:   44.2s\n",
      "[Parallel(n_jobs=10)]: Done 19380 tasks      | elapsed:  1.2min\n",
      "[Parallel(n_jobs=10)]: Done 28180 tasks      | elapsed:  1.7min\n",
      "[Parallel(n_jobs=10)]: Done 38580 tasks      | elapsed:  2.3min\n",
      "[Parallel(n_jobs=10)]: Done 50580 tasks      | elapsed:  3.1min\n",
      "[Parallel(n_jobs=10)]: Done 57600 out of 57600 | elapsed:  3.6min finished\n"
     ]
    },
    {
     "data": {
      "text/plain": [
       "GridSearchCV(cv=3, error_score='raise',\n",
       "       estimator=RandomForestClassifier(bootstrap=True, class_weight=None, criterion='gini',\n",
       "            max_depth=None, max_features='auto', max_leaf_nodes=None,\n",
       "            min_impurity_decrease=0.0, min_impurity_split=None,\n",
       "            min_samples_leaf=1, min_samples_split=2,\n",
       "            min_weight_fraction_leaf=0.0, n_estimators=10, n_jobs=1,\n",
       "            oob_score=False, random_state=42, verbose=0, warm_start=False),\n",
       "       fit_params=None, iid=True, n_jobs=10,\n",
       "       param_grid={'n_estimators': [1, 2, 3, 4, 5, 6, 7, 8, 9, 10, 11, 12, 13, 14, 15, 16, 17, 18, 19, 20], 'criterion': ['gini', 'entropy'], 'max_features': ['auto', 'sqrt', 'log2', None], 'min_samples_leaf': [1, 2, 3, 4, 5, 6, 7, 8, 9, 10, 11, 12, 13, 14, 15, 16, 17, 18, 19, 20, 21, 22, 23, 24, 25, 26, 27, 28, 29, 30, 31, 32, 33, 34, 35, 36, 37, 38, 39, 40], 'class_weight': [None, 'balanced', 'balanced_subsample']},\n",
       "       pre_dispatch='2*n_jobs', refit='cus', return_train_score=True,\n",
       "       scoring={'mcc': make_scorer(matthews_corrcoef), 'accuracy': 'accuracy', 'f1': 'f1', 'recall': 'recall', 'precision': 'precision', 'cus': make_scorer(custom_scorer)},\n",
       "       verbose=1)"
      ]
     },
     "execution_count": 62,
     "metadata": {},
     "output_type": "execute_result"
    }
   ],
   "source": [
    "parameters = {'n_estimators': [1,2,3,4,5,6,7,8,9,10,11,12,13,14,15,16,17,18,19,20],\n",
    "              'criterion': ['gini', 'entropy'],\n",
    "              'max_features': ['auto', 'sqrt', 'log2', None],\n",
    "              'min_samples_leaf': [1,2,3,4,5,6,7,8,9,10,11,12,13,14,15,16,17,18,19,20,\n",
    "                                  21,22,23,24,25,26,27,28,29,30,31,32,33,34,35,36,37,38,39,40],\n",
    "              'class_weight': [None, 'balanced', 'balanced_subsample']}\n",
    "bclf = RandomForestClassifier(random_state=42)\n",
    "clf = GridSearchCV(bclf, parameters, scoring=scorers,\n",
    "                   n_jobs=10, cv=3, refit='cus', verbose=1)\n",
    "clf.fit(features, labels)"
   ]
  },
  {
   "cell_type": "code",
   "execution_count": 63,
   "metadata": {
    "scrolled": true
   },
   "outputs": [
    {
     "name": "stdout",
     "output_type": "stream",
     "text": [
      "RandomForestClassifier(bootstrap=True, class_weight='balanced',\n",
      "            criterion='gini', max_depth=None, max_features=None,\n",
      "            max_leaf_nodes=None, min_impurity_decrease=0.0,\n",
      "            min_impurity_split=None, min_samples_leaf=16,\n",
      "            min_samples_split=2, min_weight_fraction_leaf=0.0,\n",
      "            n_estimators=20, n_jobs=1, oob_score=False, random_state=42,\n",
      "            verbose=0, warm_start=False)\n",
      "MCC:       0.4581\n",
      "F1:        0.5298\n",
      "Precision: 0.4120\n",
      "Recall:    0.7759\n",
      "Accuracy:  0.7931\n"
     ]
    }
   ],
   "source": [
    "print_summary(clf)"
   ]
  },
  {
   "cell_type": "markdown",
   "metadata": {},
   "source": [
    "#### Second run (accuracy)"
   ]
  },
  {
   "cell_type": "code",
   "execution_count": 64,
   "metadata": {},
   "outputs": [
    {
     "name": "stdout",
     "output_type": "stream",
     "text": [
      "Fitting 3 folds for each of 19200 candidates, totalling 57600 fits\n"
     ]
    },
    {
     "name": "stderr",
     "output_type": "stream",
     "text": [
      "[Parallel(n_jobs=10)]: Done 180 tasks      | elapsed:    1.0s\n",
      "[Parallel(n_jobs=10)]: Done 2580 tasks      | elapsed:    9.7s\n",
      "[Parallel(n_jobs=10)]: Done 6580 tasks      | elapsed:   24.4s\n",
      "[Parallel(n_jobs=10)]: Done 12180 tasks      | elapsed:   44.8s\n",
      "[Parallel(n_jobs=10)]: Done 19380 tasks      | elapsed:  1.2min\n",
      "[Parallel(n_jobs=10)]: Done 28180 tasks      | elapsed:  1.7min\n",
      "[Parallel(n_jobs=10)]: Done 38580 tasks      | elapsed:  2.4min\n",
      "[Parallel(n_jobs=10)]: Done 50580 tasks      | elapsed:  3.1min\n",
      "[Parallel(n_jobs=10)]: Done 57600 out of 57600 | elapsed:  3.6min finished\n"
     ]
    },
    {
     "data": {
      "text/plain": [
       "GridSearchCV(cv=3, error_score='raise',\n",
       "       estimator=RandomForestClassifier(bootstrap=True, class_weight=None, criterion='gini',\n",
       "            max_depth=None, max_features='auto', max_leaf_nodes=None,\n",
       "            min_impurity_decrease=0.0, min_impurity_split=None,\n",
       "            min_samples_leaf=1, min_samples_split=2,\n",
       "            min_weight_fraction_leaf=0.0, n_estimators=10, n_jobs=1,\n",
       "            oob_score=False, random_state=42, verbose=0, warm_start=False),\n",
       "       fit_params=None, iid=True, n_jobs=10,\n",
       "       param_grid={'n_estimators': [1, 2, 3, 4, 5, 6, 7, 8, 9, 10, 11, 12, 13, 14, 15, 16, 17, 18, 19, 20], 'criterion': ['gini', 'entropy'], 'max_features': ['auto', 'sqrt', 'log2', None], 'min_samples_leaf': [1, 2, 3, 4, 5, 6, 7, 8, 9, 10, 11, 12, 13, 14, 15, 16, 17, 18, 19, 20, 21, 22, 23, 24, 25, 26, 27, 28, 29, 30, 31, 32, 33, 34, 35, 36, 37, 38, 39, 40], 'class_weight': [None, 'balanced', 'balanced_subsample']},\n",
       "       pre_dispatch='2*n_jobs', refit='accuracy', return_train_score=True,\n",
       "       scoring={'mcc': make_scorer(matthews_corrcoef), 'accuracy': 'accuracy', 'f1': 'f1', 'recall': 'recall', 'precision': 'precision', 'cus': make_scorer(custom_scorer)},\n",
       "       verbose=1)"
      ]
     },
     "execution_count": 64,
     "metadata": {},
     "output_type": "execute_result"
    }
   ],
   "source": [
    "parameters = {'n_estimators': [1,2,3,4,5,6,7,8,9,10,11,12,13,14,15,16,17,18,19,20],\n",
    "              'criterion': ['gini', 'entropy'],\n",
    "              'max_features': ['auto', 'sqrt', 'log2', None],\n",
    "              'min_samples_leaf': [1,2,3,4,5,6,7,8,9,10,11,12,13,14,15,16,17,18,19,20,\n",
    "                                  21,22,23,24,25,26,27,28,29,30,31,32,33,34,35,36,37,38,39,40],\n",
    "              'class_weight': [None, 'balanced', 'balanced_subsample']}\n",
    "bclf = RandomForestClassifier(random_state=42)\n",
    "clf = GridSearchCV(bclf, parameters, scoring=scorers,\n",
    "                   n_jobs=10, cv=3, refit='accuracy', verbose=1)\n",
    "clf.fit(features, labels)"
   ]
  },
  {
   "cell_type": "code",
   "execution_count": 65,
   "metadata": {},
   "outputs": [
    {
     "name": "stdout",
     "output_type": "stream",
     "text": [
      "RandomForestClassifier(bootstrap=True, class_weight='balanced',\n",
      "            criterion='gini', max_depth=None, max_features=None,\n",
      "            max_leaf_nodes=None, min_impurity_decrease=0.0,\n",
      "            min_impurity_split=None, min_samples_leaf=2,\n",
      "            min_samples_split=2, min_weight_fraction_leaf=0.0,\n",
      "            n_estimators=10, n_jobs=1, oob_score=False, random_state=42,\n",
      "            verbose=0, warm_start=False)\n",
      "MCC:       0.4522\n",
      "F1:        0.4739\n",
      "Precision: 0.6803\n",
      "Recall:    0.3874\n",
      "Accuracy:  0.8966\n"
     ]
    }
   ],
   "source": [
    "print_summary(clf)"
   ]
  },
  {
   "cell_type": "markdown",
   "metadata": {},
   "source": [
    "#### Summary\n",
    "\n",
    "This model was able to obtain the highest recall yet, a very good score of 0.9437. The accuracy is not great, just 0.7310, but as the objective is fraud detection, identifying almost 95% of the POIs makes this algorithm a serious contender."
   ]
  },
  {
   "cell_type": "markdown",
   "metadata": {},
   "source": [
    "### Ensemble Classifiers: Adaboost"
   ]
  },
  {
   "cell_type": "markdown",
   "metadata": {},
   "source": [
    "#### First run"
   ]
  },
  {
   "cell_type": "code",
   "execution_count": 66,
   "metadata": {},
   "outputs": [
    {
     "name": "stdout",
     "output_type": "stream",
     "text": [
      "Fitting 3 folds for each of 432 candidates, totalling 1296 fits\n"
     ]
    },
    {
     "name": "stderr",
     "output_type": "stream",
     "text": [
      "[Parallel(n_jobs=10)]: Done 200 tasks      | elapsed:    0.3s\n",
      "[Parallel(n_jobs=10)]: Done 1277 out of 1296 | elapsed:   52.5s remaining:    0.8s\n",
      "[Parallel(n_jobs=10)]: Done 1296 out of 1296 | elapsed:  1.0min finished\n"
     ]
    },
    {
     "data": {
      "text/plain": [
       "GridSearchCV(cv=3, error_score='raise',\n",
       "       estimator=AdaBoostClassifier(algorithm='SAMME.R', base_estimator=None,\n",
       "          learning_rate=1.0, n_estimators=50, random_state=42),\n",
       "       fit_params=None, iid=True, n_jobs=10,\n",
       "       param_grid={'base_estimator': [DecisionTreeClassifier(class_weight=None, criterion='gini', max_depth=None,\n",
       "            max_features=None, max_leaf_nodes=None,\n",
       "            min_impurity_decrease=0.0, min_impurity_split=None,\n",
       "            min_samples_leaf=1, min_samples_split=2,\n",
       "            min_weight_f...0, 300, 400, 500, 1000, 1500], 'learning_rate': [0.5, 1, 1.5, 2], 'algorithm': ['SAMME', 'SAMME.R']},\n",
       "       pre_dispatch='2*n_jobs', refit='cus', return_train_score=True,\n",
       "       scoring={'mcc': make_scorer(matthews_corrcoef), 'accuracy': 'accuracy', 'f1': 'f1', 'recall': 'recall', 'precision': 'precision', 'cus': make_scorer(custom_scorer)},\n",
       "       verbose=1)"
      ]
     },
     "execution_count": 66,
     "metadata": {},
     "output_type": "execute_result"
    }
   ],
   "source": [
    "parameters = {'base_estimator': [DecisionTreeClassifier(),\n",
    "                                 DecisionTreeClassifier(max_depth=1), #Stumps\n",
    "                                 DecisionTreeClassifier(criterion='gini',\n",
    "                                                        min_samples_leaf=28,\n",
    "                                                        class_weight='balanced')],\n",
    "              'n_estimators': [2,5,10,20,30,40,50,60,70,80,90,100,200,300,400,500,1000,1500],\n",
    "              'learning_rate': [0.5,1,1.5,2],\n",
    "              'algorithm': ['SAMME','SAMME.R']\n",
    "             }\n",
    "bclf = AdaBoostClassifier(random_state=42)\n",
    "clf = GridSearchCV(bclf, parameters, scoring=scorers,\n",
    "                   n_jobs=10, cv=3, refit='cus', verbose=1)\n",
    "clf.fit(features, labels)"
   ]
  },
  {
   "cell_type": "code",
   "execution_count": 67,
   "metadata": {},
   "outputs": [
    {
     "name": "stdout",
     "output_type": "stream",
     "text": [
      "AdaBoostClassifier(algorithm='SAMME',\n",
      "          base_estimator=DecisionTreeClassifier(class_weight=None, criterion='gini', max_depth=1,\n",
      "            max_features=None, max_leaf_nodes=None,\n",
      "            min_impurity_decrease=0.0, min_impurity_split=None,\n",
      "            min_samples_leaf=1, min_samples_split=2,\n",
      "            min_weight_fraction_leaf=0.0, presort=False, random_state=None,\n",
      "            splitter='best'),\n",
      "          learning_rate=1, n_estimators=5, random_state=42)\n",
      "MCC:       0.4330\n",
      "F1:        0.5058\n",
      "Precision: 0.5310\n",
      "Recall:    0.4989\n",
      "Accuracy:  0.8621\n"
     ]
    }
   ],
   "source": [
    "print_summary(clf)"
   ]
  },
  {
   "cell_type": "markdown",
   "metadata": {
    "collapsed": true
   },
   "source": [
    "#### Second run"
   ]
  },
  {
   "cell_type": "code",
   "execution_count": 68,
   "metadata": {},
   "outputs": [
    {
     "name": "stdout",
     "output_type": "stream",
     "text": [
      "Fitting 3 folds for each of 780 candidates, totalling 2340 fits\n"
     ]
    },
    {
     "name": "stderr",
     "output_type": "stream",
     "text": [
      "[Parallel(n_jobs=10)]: Done 200 tasks      | elapsed:    0.3s\n",
      "[Parallel(n_jobs=10)]: Done 2340 out of 2340 | elapsed:    4.9s finished\n"
     ]
    },
    {
     "data": {
      "text/plain": [
       "GridSearchCV(cv=3, error_score='raise',\n",
       "       estimator=AdaBoostClassifier(algorithm='SAMME.R', base_estimator=None,\n",
       "          learning_rate=1.0, n_estimators=50, random_state=42),\n",
       "       fit_params=None, iid=True, n_jobs=10,\n",
       "       param_grid={'base_estimator': [DecisionTreeClassifier(class_weight=None, criterion='gini', max_depth=None,\n",
       "            max_features=None, max_leaf_nodes=None,\n",
       "            min_impurity_decrease=0.0, min_impurity_split=None,\n",
       "            min_samples_leaf=1, min_samples_split=2,\n",
       "            min_weight_f... [0.1, 0.2, 0.3, 0.4, 0.5, 0.6, 0.7, 0.8, 0.9, 1, 1.1, 1.2, 1.3], 'algorithm': ['SAMME', 'SAMME.R']},\n",
       "       pre_dispatch='2*n_jobs', refit='mcc', return_train_score=True,\n",
       "       scoring={'mcc': make_scorer(matthews_corrcoef), 'accuracy': 'accuracy', 'f1': 'f1', 'recall': 'recall', 'precision': 'precision', 'cus': make_scorer(custom_scorer)},\n",
       "       verbose=1)"
      ]
     },
     "execution_count": 68,
     "metadata": {},
     "output_type": "execute_result"
    }
   ],
   "source": [
    "parameters = {'base_estimator': [DecisionTreeClassifier(),\n",
    "                                 DecisionTreeClassifier(max_depth=1), #Stumps\n",
    "                                 DecisionTreeClassifier(criterion='gini',\n",
    "                                                        min_samples_leaf=28,\n",
    "                                                        class_weight='balanced')],\n",
    "              'n_estimators': [1,2,3,4,5,6,7,8,9,10],\n",
    "              'learning_rate': [0.1,0.2,0.3,0.4,0.5,0.6,0.7,0.8,0.9,1,1.1,1.2,1.3],\n",
    "              'algorithm': ['SAMME','SAMME.R']\n",
    "             }\n",
    "bclf = AdaBoostClassifier(random_state=42)\n",
    "clf = GridSearchCV(bclf, parameters, scoring=scorers,\n",
    "                   n_jobs=10, cv=3, refit='mcc', verbose=1)\n",
    "clf.fit(features, labels)"
   ]
  },
  {
   "cell_type": "code",
   "execution_count": 69,
   "metadata": {},
   "outputs": [
    {
     "name": "stdout",
     "output_type": "stream",
     "text": [
      "AdaBoostClassifier(algorithm='SAMME',\n",
      "          base_estimator=DecisionTreeClassifier(class_weight=None, criterion='gini', max_depth=1,\n",
      "            max_features=None, max_leaf_nodes=None,\n",
      "            min_impurity_decrease=0.0, min_impurity_split=None,\n",
      "            min_samples_leaf=1, min_samples_split=2,\n",
      "            min_weight_fraction_leaf=0.0, presort=False, random_state=None,\n",
      "            splitter='best'),\n",
      "          learning_rate=1, n_estimators=5, random_state=42)\n",
      "MCC:       0.4330\n",
      "F1:        0.5058\n",
      "Precision: 0.5310\n",
      "Recall:    0.4989\n",
      "Accuracy:  0.8621\n"
     ]
    }
   ],
   "source": [
    "print_summary(clf)"
   ]
  },
  {
   "cell_type": "code",
   "execution_count": null,
   "metadata": {
    "collapsed": true
   },
   "outputs": [],
   "source": []
  },
  {
   "cell_type": "code",
   "execution_count": null,
   "metadata": {
    "collapsed": true
   },
   "outputs": [],
   "source": []
  },
  {
   "cell_type": "code",
   "execution_count": null,
   "metadata": {
    "collapsed": true
   },
   "outputs": [],
   "source": []
  },
  {
   "cell_type": "code",
   "execution_count": null,
   "metadata": {
    "collapsed": true
   },
   "outputs": [],
   "source": []
  },
  {
   "cell_type": "code",
   "execution_count": null,
   "metadata": {
    "collapsed": true
   },
   "outputs": [],
   "source": []
  },
  {
   "cell_type": "code",
   "execution_count": null,
   "metadata": {
    "collapsed": true
   },
   "outputs": [],
   "source": []
  },
  {
   "cell_type": "code",
   "execution_count": null,
   "metadata": {
    "collapsed": true
   },
   "outputs": [],
   "source": []
  },
  {
   "cell_type": "code",
   "execution_count": null,
   "metadata": {
    "collapsed": true
   },
   "outputs": [],
   "source": []
  },
  {
   "cell_type": "code",
   "execution_count": null,
   "metadata": {
    "collapsed": true
   },
   "outputs": [],
   "source": []
  }
 ],
 "metadata": {
  "kernelspec": {
   "display_name": "Python 3",
   "language": "python",
   "name": "python3"
  },
  "language_info": {
   "codemirror_mode": {
    "name": "ipython",
    "version": 3
   },
   "file_extension": ".py",
   "mimetype": "text/x-python",
   "name": "python",
   "nbconvert_exporter": "python",
   "pygments_lexer": "ipython3",
   "version": "3.6.2"
  }
 },
 "nbformat": 4,
 "nbformat_minor": 2
}
