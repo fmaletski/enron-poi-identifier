{
 "cells": [
  {
   "cell_type": "markdown",
   "metadata": {},
   "source": [
    "# ENRON Person of Interest Identifier\n",
    "by Fernando Maletski\n",
    "\n",
    "## Introduction\n",
    "\n",
    "The famous ENRON scandal was the largest bankruptcy reorganization in the United States at the time it was publicized, October 2001. Due to the Federal investigation, a significant amount of confidential information was released to the public, including tens of thousands of emails and detailed financial data.\n",
    "\n",
    "The objective of this project is to use this large dataset to create a machine learning model that correctly identifiers the Persons of Interest (POI) based on the data made public."
   ]
  },
  {
   "cell_type": "markdown",
   "metadata": {},
   "source": [
    "## Workspace Setup"
   ]
  },
  {
   "cell_type": "code",
   "execution_count": 1,
   "metadata": {
    "collapsed": true
   },
   "outputs": [],
   "source": [
    "import sys\n",
    "import numpy as np\n",
    "import pandas as pd\n",
    "import pickle\n",
    "import matplotlib\n",
    "import operator\n",
    "%matplotlib inline\n",
    "import matplotlib.pyplot as plt\n",
    "import seaborn as sns\n",
    "matplotlib.style.use('ggplot') #Set a decent style\n",
    "matplotlib.rcParams['image.cmap'] = 'bwr' #Diverging colors\n",
    "\n",
    "with open(\"final_project_dataset_py3.pkl\", \"rb\") as data_file:\n",
    "    data_dict = pickle.load(data_file)"
   ]
  },
  {
   "cell_type": "markdown",
   "metadata": {},
   "source": [
    "## EDA and Feature Engineering\n",
    "\n",
    "In this section we will explore the dataset, explain features and clean issues, such as missing values and outliers."
   ]
  },
  {
   "cell_type": "code",
   "execution_count": 2,
   "metadata": {
    "scrolled": true
   },
   "outputs": [
    {
     "data": {
      "text/plain": [
       "146"
      ]
     },
     "execution_count": 2,
     "metadata": {},
     "output_type": "execute_result"
    }
   ],
   "source": [
    "len(sorted(data_dict.keys()))"
   ]
  },
  {
   "cell_type": "markdown",
   "metadata": {},
   "source": [
    "There are 146 datapoints, each of them should represent a person whose records were made public, the key of this dictionary is their name in this format: LAST NAME FIRST NAME (MIDDLE INICIAL). As this is a small dataset, it is possible to check each persons name for inconsistencies:"
   ]
  },
  {
   "cell_type": "code",
   "execution_count": 3,
   "metadata": {
    "scrolled": true
   },
   "outputs": [
    {
     "name": "stdout",
     "output_type": "stream",
     "text": [
      "ALLEN PHILLIP K\n",
      "BADUM JAMES P\n",
      "BANNANTINE JAMES M\n",
      "BAXTER JOHN C\n",
      "BAY FRANKLIN R\n",
      "BAZELIDES PHILIP J\n",
      "BECK SALLY W\n",
      "BELDEN TIMOTHY N\n",
      "BELFER ROBERT\n",
      "BERBERIAN DAVID\n",
      "BERGSIEKER RICHARD P\n",
      "BHATNAGAR SANJAY\n",
      "BIBI PHILIPPE A\n",
      "BLACHMAN JEREMY M\n",
      "BLAKE JR. NORMAN P\n",
      "BOWEN JR RAYMOND M\n",
      "BROWN MICHAEL\n",
      "BUCHANAN HAROLD G\n",
      "BUTTS ROBERT H\n",
      "BUY RICHARD B\n",
      "CALGER CHRISTOPHER F\n",
      "CARTER REBECCA C\n",
      "CAUSEY RICHARD A\n",
      "CHAN RONNIE\n",
      "CHRISTODOULOU DIOMEDES\n",
      "CLINE KENNETH W\n",
      "COLWELL WESLEY\n",
      "CORDES WILLIAM R\n",
      "COX DAVID\n",
      "CUMBERLAND MICHAEL S\n",
      "DEFFNER JOSEPH M\n",
      "DELAINEY DAVID W\n",
      "DERRICK JR. JAMES V\n",
      "DETMERING TIMOTHY J\n",
      "DIETRICH JANET R\n",
      "DIMICHELE RICHARD G\n",
      "DODSON KEITH\n",
      "DONAHUE JR JEFFREY M\n",
      "DUNCAN JOHN H\n",
      "DURAN WILLIAM D\n",
      "ECHOLS JOHN B\n",
      "ELLIOTT STEVEN\n",
      "FALLON JAMES B\n",
      "FASTOW ANDREW S\n",
      "FITZGERALD JAY L\n",
      "FOWLER PEGGY\n",
      "FOY JOE\n",
      "FREVERT MARK A\n",
      "FUGH JOHN L\n",
      "GAHN ROBERT S\n",
      "GARLAND C KEVIN\n",
      "GATHMANN WILLIAM D\n",
      "GIBBS DANA R\n",
      "GILLIS JOHN\n",
      "GLISAN JR BEN F\n",
      "GOLD JOSEPH\n",
      "GRAMM WENDY L\n",
      "GRAY RODNEY\n",
      "HAEDICKE MARK E\n",
      "HANNON KEVIN P\n",
      "HAUG DAVID L\n",
      "HAYES ROBERT E\n",
      "HAYSLETT RODERICK J\n",
      "HERMANN ROBERT J\n",
      "HICKERSON GARY J\n",
      "HIRKO JOSEPH\n",
      "HORTON STANLEY C\n",
      "HUGHES JAMES A\n",
      "HUMPHREY GENE E\n",
      "IZZO LAWRENCE L\n",
      "JACKSON CHARLENE R\n",
      "JAEDICKE ROBERT\n",
      "KAMINSKI WINCENTY J\n",
      "KEAN STEVEN J\n",
      "KISHKILL JOSEPH G\n",
      "KITCHEN LOUISE\n",
      "KOENIG MARK E\n",
      "KOPPER MICHAEL J\n",
      "LAVORATO JOHN J\n",
      "LAY KENNETH L\n",
      "LEFF DANIEL P\n",
      "LEMAISTRE CHARLES\n",
      "LEWIS RICHARD\n",
      "LINDHOLM TOD A\n",
      "LOCKHART EUGENE E\n",
      "LOWRY CHARLES P\n",
      "MARTIN AMANDA K\n",
      "MCCARTY DANNY J\n",
      "MCCLELLAN GEORGE\n",
      "MCCONNELL MICHAEL S\n",
      "MCDONALD REBECCA\n",
      "MCMAHON JEFFREY\n",
      "MENDELSOHN JOHN\n",
      "METTS MARK\n",
      "MEYER JEROME J\n",
      "MEYER ROCKFORD G\n",
      "MORAN MICHAEL P\n",
      "MORDAUNT KRISTINA M\n",
      "MULLER MARK S\n",
      "MURRAY JULIA H\n",
      "NOLES JAMES L\n",
      "OLSON CINDY K\n",
      "OVERDYKE JR JERE C\n",
      "PAI LOU L\n",
      "PEREIRA PAULO V. FERRAZ\n",
      "PICKERING MARK R\n",
      "PIPER GREGORY F\n",
      "PIRO JIM\n",
      "POWERS WILLIAM\n",
      "PRENTICE JAMES\n",
      "REDMOND BRIAN L\n",
      "REYNOLDS LAWRENCE\n",
      "RICE KENNETH D\n",
      "RIEKER PAULA H\n",
      "SAVAGE FRANK\n",
      "SCRIMSHAW MATTHEW\n",
      "SHANKMAN JEFFREY A\n",
      "SHAPIRO RICHARD S\n",
      "SHARP VICTORIA T\n",
      "SHELBY REX\n",
      "SHERRICK JEFFREY B\n",
      "SHERRIFF JOHN R\n",
      "SKILLING JEFFREY K\n",
      "STABLER FRANK\n",
      "SULLIVAN-SHAKLOVITZ COLLEEN\n",
      "SUNDE MARTIN\n",
      "TAYLOR MITCHELL S\n",
      "THE TRAVEL AGENCY IN THE PARK\n",
      "THORN TERENCE H\n",
      "TILNEY ELIZABETH A\n",
      "TOTAL\n",
      "UMANOFF ADAM S\n",
      "URQUHART JOHN A\n",
      "WAKEHAM JOHN\n",
      "WALLS JR ROBERT H\n",
      "WALTERS GARETH W\n",
      "WASAFF GEORGE\n",
      "WESTFAHL RICHARD K\n",
      "WHALEY DAVID A\n",
      "WHALLEY LAWRENCE G\n",
      "WHITE JR THOMAS E\n",
      "WINOKUR JR. HERBERT S\n",
      "WODRASKA JOHN\n",
      "WROBEL BRUCE\n",
      "YEAGER F SCOTT\n",
      "YEAP SOON\n"
     ]
    }
   ],
   "source": [
    "persons = sorted(data_dict.keys())\n",
    "for person in persons:\n",
    "    print(person)"
   ]
  },
  {
   "cell_type": "markdown",
   "metadata": {},
   "source": [
    "There are 2 problematic datapoins, TOTAL and THE TRAVEL AGENCY IN THE PARK.\n",
    "While TOTAL is self explanatory and safe to be removed, THE TRAVEL AGENCY IN THE PARK is actually a company (http://www.businesstravelnews.com/More-News/Enron-s-Agency-Changes-Name-Reaffirms-Corp-Commitment).\n",
    "\n",
    "Taking a closer look to it:"
   ]
  },
  {
   "cell_type": "code",
   "execution_count": 4,
   "metadata": {},
   "outputs": [
    {
     "data": {
      "text/plain": [
       "{'bonus': 'NaN',\n",
       " 'deferral_payments': 'NaN',\n",
       " 'deferred_income': 'NaN',\n",
       " 'director_fees': 'NaN',\n",
       " 'email_address': 'NaN',\n",
       " 'exercised_stock_options': 'NaN',\n",
       " 'expenses': 'NaN',\n",
       " 'from_messages': 'NaN',\n",
       " 'from_poi_to_this_person': 'NaN',\n",
       " 'from_this_person_to_poi': 'NaN',\n",
       " 'loan_advances': 'NaN',\n",
       " 'long_term_incentive': 'NaN',\n",
       " 'other': 362096,\n",
       " 'poi': False,\n",
       " 'restricted_stock': 'NaN',\n",
       " 'restricted_stock_deferred': 'NaN',\n",
       " 'salary': 'NaN',\n",
       " 'shared_receipt_with_poi': 'NaN',\n",
       " 'to_messages': 'NaN',\n",
       " 'total_payments': 362096,\n",
       " 'total_stock_value': 'NaN'}"
      ]
     },
     "execution_count": 4,
     "metadata": {},
     "output_type": "execute_result"
    }
   ],
   "source": [
    "data_dict['THE TRAVEL AGENCY IN THE PARK']"
   ]
  },
  {
   "cell_type": "markdown",
   "metadata": {},
   "source": [
    "With most of its features being missing and due to the fact it is not a person, much less a Person of Interest, this datapoint should be removed, along with TOTAL."
   ]
  },
  {
   "cell_type": "code",
   "execution_count": 5,
   "metadata": {
    "scrolled": true
   },
   "outputs": [
    {
     "data": {
      "text/plain": [
       "{'bonus': 'NaN',\n",
       " 'deferral_payments': 'NaN',\n",
       " 'deferred_income': 'NaN',\n",
       " 'director_fees': 'NaN',\n",
       " 'email_address': 'NaN',\n",
       " 'exercised_stock_options': 'NaN',\n",
       " 'expenses': 'NaN',\n",
       " 'from_messages': 'NaN',\n",
       " 'from_poi_to_this_person': 'NaN',\n",
       " 'from_this_person_to_poi': 'NaN',\n",
       " 'loan_advances': 'NaN',\n",
       " 'long_term_incentive': 'NaN',\n",
       " 'other': 362096,\n",
       " 'poi': False,\n",
       " 'restricted_stock': 'NaN',\n",
       " 'restricted_stock_deferred': 'NaN',\n",
       " 'salary': 'NaN',\n",
       " 'shared_receipt_with_poi': 'NaN',\n",
       " 'to_messages': 'NaN',\n",
       " 'total_payments': 362096,\n",
       " 'total_stock_value': 'NaN'}"
      ]
     },
     "execution_count": 5,
     "metadata": {},
     "output_type": "execute_result"
    }
   ],
   "source": [
    "data_dict.pop('TOTAL')\n",
    "data_dict.pop('THE TRAVEL AGENCY IN THE PARK')"
   ]
  },
  {
   "cell_type": "code",
   "execution_count": 6,
   "metadata": {},
   "outputs": [
    {
     "data": {
      "text/plain": [
       "144"
      ]
     },
     "execution_count": 6,
     "metadata": {},
     "output_type": "execute_result"
    }
   ],
   "source": [
    "len(sorted(data_dict.keys()))"
   ]
  },
  {
   "cell_type": "markdown",
   "metadata": {},
   "source": [
    "Now the dataset has 144 person in it."
   ]
  },
  {
   "cell_type": "markdown",
   "metadata": {},
   "source": [
    "The values of the dictionary are another dictionary that follows this schema (key: value): feature: value.\n",
    "Extracting the list of features:"
   ]
  },
  {
   "cell_type": "code",
   "execution_count": 7,
   "metadata": {},
   "outputs": [
    {
     "name": "stdout",
     "output_type": "stream",
     "text": [
      "21\n"
     ]
    },
    {
     "data": {
      "text/plain": [
       "['bonus',\n",
       " 'deferral_payments',\n",
       " 'deferred_income',\n",
       " 'director_fees',\n",
       " 'email_address',\n",
       " 'exercised_stock_options',\n",
       " 'expenses',\n",
       " 'from_messages',\n",
       " 'from_poi_to_this_person',\n",
       " 'from_this_person_to_poi',\n",
       " 'loan_advances',\n",
       " 'long_term_incentive',\n",
       " 'other',\n",
       " 'poi',\n",
       " 'restricted_stock',\n",
       " 'restricted_stock_deferred',\n",
       " 'salary',\n",
       " 'shared_receipt_with_poi',\n",
       " 'to_messages',\n",
       " 'total_payments',\n",
       " 'total_stock_value']"
      ]
     },
     "execution_count": 7,
     "metadata": {},
     "output_type": "execute_result"
    }
   ],
   "source": [
    "feature_list = sorted(data_dict['ALLEN PHILLIP K'])\n",
    "print(len(feature_list))\n",
    "feature_list"
   ]
  },
  {
   "cell_type": "markdown",
   "metadata": {},
   "source": [
    "We have 20 features and the hand coded Person of Interest (poi) label."
   ]
  },
  {
   "cell_type": "markdown",
   "metadata": {},
   "source": [
    "Testing to see if all the datapoints have the same features:"
   ]
  },
  {
   "cell_type": "code",
   "execution_count": 8,
   "metadata": {},
   "outputs": [
    {
     "name": "stdout",
     "output_type": "stream",
     "text": [
      "3024 of 3024 found\n"
     ]
    }
   ],
   "source": [
    "count = 0\n",
    "for person, data in data_dict.items():\n",
    "    for feature, value in data.items():\n",
    "        if feature not in feature_list:\n",
    "            print(person, feature)\n",
    "        else:\n",
    "            count += 1\n",
    "total_count = len(feature_list) * len(data_dict.keys())\n",
    "print('{} of {} found'.format(count, total_count))"
   ]
  },
  {
   "cell_type": "markdown",
   "metadata": {},
   "source": [
    "This is all the features of the dataset, the structure supports a table schema. So it's possible to convert this dataset to an exploration friendly format, a pandas DataFrame:"
   ]
  },
  {
   "cell_type": "code",
   "execution_count": 9,
   "metadata": {},
   "outputs": [
    {
     "data": {
      "text/html": [
       "<div>\n",
       "<style>\n",
       "    .dataframe thead tr:only-child th {\n",
       "        text-align: right;\n",
       "    }\n",
       "\n",
       "    .dataframe thead th {\n",
       "        text-align: left;\n",
       "    }\n",
       "\n",
       "    .dataframe tbody tr th {\n",
       "        vertical-align: top;\n",
       "    }\n",
       "</style>\n",
       "<table border=\"1\" class=\"dataframe\">\n",
       "  <thead>\n",
       "    <tr style=\"text-align: right;\">\n",
       "      <th></th>\n",
       "      <th>bonus</th>\n",
       "      <th>deferral_payments</th>\n",
       "      <th>deferred_income</th>\n",
       "      <th>director_fees</th>\n",
       "      <th>email_address</th>\n",
       "      <th>exercised_stock_options</th>\n",
       "      <th>expenses</th>\n",
       "      <th>from_messages</th>\n",
       "      <th>from_poi_to_this_person</th>\n",
       "      <th>from_this_person_to_poi</th>\n",
       "      <th>...</th>\n",
       "      <th>long_term_incentive</th>\n",
       "      <th>other</th>\n",
       "      <th>poi</th>\n",
       "      <th>restricted_stock</th>\n",
       "      <th>restricted_stock_deferred</th>\n",
       "      <th>salary</th>\n",
       "      <th>shared_receipt_with_poi</th>\n",
       "      <th>to_messages</th>\n",
       "      <th>total_payments</th>\n",
       "      <th>total_stock_value</th>\n",
       "    </tr>\n",
       "  </thead>\n",
       "  <tbody>\n",
       "    <tr>\n",
       "      <th>ALLEN PHILLIP K</th>\n",
       "      <td>4175000</td>\n",
       "      <td>2869717</td>\n",
       "      <td>-3081055</td>\n",
       "      <td>NaN</td>\n",
       "      <td>phillip.allen@enron.com</td>\n",
       "      <td>1729541</td>\n",
       "      <td>13868</td>\n",
       "      <td>2195</td>\n",
       "      <td>47</td>\n",
       "      <td>65</td>\n",
       "      <td>...</td>\n",
       "      <td>304805</td>\n",
       "      <td>152</td>\n",
       "      <td>False</td>\n",
       "      <td>126027</td>\n",
       "      <td>-126027</td>\n",
       "      <td>201955</td>\n",
       "      <td>1407</td>\n",
       "      <td>2902</td>\n",
       "      <td>4484442</td>\n",
       "      <td>1729541</td>\n",
       "    </tr>\n",
       "    <tr>\n",
       "      <th>BADUM JAMES P</th>\n",
       "      <td>NaN</td>\n",
       "      <td>178980</td>\n",
       "      <td>NaN</td>\n",
       "      <td>NaN</td>\n",
       "      <td>NaN</td>\n",
       "      <td>257817</td>\n",
       "      <td>3486</td>\n",
       "      <td>NaN</td>\n",
       "      <td>NaN</td>\n",
       "      <td>NaN</td>\n",
       "      <td>...</td>\n",
       "      <td>NaN</td>\n",
       "      <td>NaN</td>\n",
       "      <td>False</td>\n",
       "      <td>NaN</td>\n",
       "      <td>NaN</td>\n",
       "      <td>NaN</td>\n",
       "      <td>NaN</td>\n",
       "      <td>NaN</td>\n",
       "      <td>182466</td>\n",
       "      <td>257817</td>\n",
       "    </tr>\n",
       "    <tr>\n",
       "      <th>BANNANTINE JAMES M</th>\n",
       "      <td>NaN</td>\n",
       "      <td>NaN</td>\n",
       "      <td>-5104</td>\n",
       "      <td>NaN</td>\n",
       "      <td>james.bannantine@enron.com</td>\n",
       "      <td>4046157</td>\n",
       "      <td>56301</td>\n",
       "      <td>29</td>\n",
       "      <td>39</td>\n",
       "      <td>0</td>\n",
       "      <td>...</td>\n",
       "      <td>NaN</td>\n",
       "      <td>864523</td>\n",
       "      <td>False</td>\n",
       "      <td>1757552</td>\n",
       "      <td>-560222</td>\n",
       "      <td>477</td>\n",
       "      <td>465</td>\n",
       "      <td>566</td>\n",
       "      <td>916197</td>\n",
       "      <td>5243487</td>\n",
       "    </tr>\n",
       "    <tr>\n",
       "      <th>BAXTER JOHN C</th>\n",
       "      <td>1200000</td>\n",
       "      <td>1295738</td>\n",
       "      <td>-1386055</td>\n",
       "      <td>NaN</td>\n",
       "      <td>NaN</td>\n",
       "      <td>6680544</td>\n",
       "      <td>11200</td>\n",
       "      <td>NaN</td>\n",
       "      <td>NaN</td>\n",
       "      <td>NaN</td>\n",
       "      <td>...</td>\n",
       "      <td>1586055</td>\n",
       "      <td>2660303</td>\n",
       "      <td>False</td>\n",
       "      <td>3942714</td>\n",
       "      <td>NaN</td>\n",
       "      <td>267102</td>\n",
       "      <td>NaN</td>\n",
       "      <td>NaN</td>\n",
       "      <td>5634343</td>\n",
       "      <td>10623258</td>\n",
       "    </tr>\n",
       "    <tr>\n",
       "      <th>BAY FRANKLIN R</th>\n",
       "      <td>400000</td>\n",
       "      <td>260455</td>\n",
       "      <td>-201641</td>\n",
       "      <td>NaN</td>\n",
       "      <td>frank.bay@enron.com</td>\n",
       "      <td>NaN</td>\n",
       "      <td>129142</td>\n",
       "      <td>NaN</td>\n",
       "      <td>NaN</td>\n",
       "      <td>NaN</td>\n",
       "      <td>...</td>\n",
       "      <td>NaN</td>\n",
       "      <td>69</td>\n",
       "      <td>False</td>\n",
       "      <td>145796</td>\n",
       "      <td>-82782</td>\n",
       "      <td>239671</td>\n",
       "      <td>NaN</td>\n",
       "      <td>NaN</td>\n",
       "      <td>827696</td>\n",
       "      <td>63014</td>\n",
       "    </tr>\n",
       "  </tbody>\n",
       "</table>\n",
       "<p>5 rows × 21 columns</p>\n",
       "</div>"
      ],
      "text/plain": [
       "                      bonus deferral_payments deferred_income director_fees  \\\n",
       "ALLEN PHILLIP K     4175000           2869717        -3081055           NaN   \n",
       "BADUM JAMES P           NaN            178980             NaN           NaN   \n",
       "BANNANTINE JAMES M      NaN               NaN           -5104           NaN   \n",
       "BAXTER JOHN C       1200000           1295738        -1386055           NaN   \n",
       "BAY FRANKLIN R       400000            260455         -201641           NaN   \n",
       "\n",
       "                                 email_address exercised_stock_options  \\\n",
       "ALLEN PHILLIP K        phillip.allen@enron.com                 1729541   \n",
       "BADUM JAMES P                              NaN                  257817   \n",
       "BANNANTINE JAMES M  james.bannantine@enron.com                 4046157   \n",
       "BAXTER JOHN C                              NaN                 6680544   \n",
       "BAY FRANKLIN R             frank.bay@enron.com                     NaN   \n",
       "\n",
       "                   expenses from_messages from_poi_to_this_person  \\\n",
       "ALLEN PHILLIP K       13868          2195                      47   \n",
       "BADUM JAMES P          3486           NaN                     NaN   \n",
       "BANNANTINE JAMES M    56301            29                      39   \n",
       "BAXTER JOHN C         11200           NaN                     NaN   \n",
       "BAY FRANKLIN R       129142           NaN                     NaN   \n",
       "\n",
       "                   from_this_person_to_poi        ...         \\\n",
       "ALLEN PHILLIP K                         65        ...          \n",
       "BADUM JAMES P                          NaN        ...          \n",
       "BANNANTINE JAMES M                       0        ...          \n",
       "BAXTER JOHN C                          NaN        ...          \n",
       "BAY FRANKLIN R                         NaN        ...          \n",
       "\n",
       "                   long_term_incentive    other    poi restricted_stock  \\\n",
       "ALLEN PHILLIP K                 304805      152  False           126027   \n",
       "BADUM JAMES P                      NaN      NaN  False              NaN   \n",
       "BANNANTINE JAMES M                 NaN   864523  False          1757552   \n",
       "BAXTER JOHN C                  1586055  2660303  False          3942714   \n",
       "BAY FRANKLIN R                     NaN       69  False           145796   \n",
       "\n",
       "                   restricted_stock_deferred  salary shared_receipt_with_poi  \\\n",
       "ALLEN PHILLIP K                      -126027  201955                    1407   \n",
       "BADUM JAMES P                            NaN     NaN                     NaN   \n",
       "BANNANTINE JAMES M                   -560222     477                     465   \n",
       "BAXTER JOHN C                            NaN  267102                     NaN   \n",
       "BAY FRANKLIN R                        -82782  239671                     NaN   \n",
       "\n",
       "                   to_messages total_payments total_stock_value  \n",
       "ALLEN PHILLIP K           2902        4484442           1729541  \n",
       "BADUM JAMES P              NaN         182466            257817  \n",
       "BANNANTINE JAMES M         566         916197           5243487  \n",
       "BAXTER JOHN C              NaN        5634343          10623258  \n",
       "BAY FRANKLIN R             NaN         827696             63014  \n",
       "\n",
       "[5 rows x 21 columns]"
      ]
     },
     "execution_count": 9,
     "metadata": {},
     "output_type": "execute_result"
    }
   ],
   "source": [
    "df = pd.DataFrame(data_dict)\n",
    "df = df.transpose()\n",
    "df.head()"
   ]
  },
  {
   "cell_type": "markdown",
   "metadata": {},
   "source": [
    "Replacing 'NaN' string with np.NaN for compatibility with numeric methods:"
   ]
  },
  {
   "cell_type": "code",
   "execution_count": 10,
   "metadata": {
    "collapsed": true,
    "scrolled": true
   },
   "outputs": [],
   "source": [
    "df.replace('NaN', np.NaN, inplace=True)"
   ]
  },
  {
   "cell_type": "markdown",
   "metadata": {},
   "source": [
    "To check is there is a person in the dataset with all their values missing (as the POI label is hand coded, it may not be missing):"
   ]
  },
  {
   "cell_type": "code",
   "execution_count": 111,
   "metadata": {},
   "outputs": [
    {
     "data": {
      "text/plain": [
       "False"
      ]
     },
     "execution_count": 111,
     "metadata": {},
     "output_type": "execute_result"
    }
   ],
   "source": [
    "checknull = df.T.isnull().sum() >= 20\n",
    "checknull.any()"
   ]
  },
  {
   "cell_type": "code",
   "execution_count": 12,
   "metadata": {},
   "outputs": [
    {
     "data": {
      "text/html": [
       "<div>\n",
       "<style>\n",
       "    .dataframe thead tr:only-child th {\n",
       "        text-align: right;\n",
       "    }\n",
       "\n",
       "    .dataframe thead th {\n",
       "        text-align: left;\n",
       "    }\n",
       "\n",
       "    .dataframe tbody tr th {\n",
       "        vertical-align: top;\n",
       "    }\n",
       "</style>\n",
       "<table border=\"1\" class=\"dataframe\">\n",
       "  <thead>\n",
       "    <tr style=\"text-align: right;\">\n",
       "      <th></th>\n",
       "      <th>LOCKHART EUGENE E</th>\n",
       "    </tr>\n",
       "  </thead>\n",
       "  <tbody>\n",
       "    <tr>\n",
       "      <th>bonus</th>\n",
       "      <td>NaN</td>\n",
       "    </tr>\n",
       "    <tr>\n",
       "      <th>deferral_payments</th>\n",
       "      <td>NaN</td>\n",
       "    </tr>\n",
       "    <tr>\n",
       "      <th>deferred_income</th>\n",
       "      <td>NaN</td>\n",
       "    </tr>\n",
       "    <tr>\n",
       "      <th>director_fees</th>\n",
       "      <td>NaN</td>\n",
       "    </tr>\n",
       "    <tr>\n",
       "      <th>email_address</th>\n",
       "      <td>NaN</td>\n",
       "    </tr>\n",
       "    <tr>\n",
       "      <th>exercised_stock_options</th>\n",
       "      <td>NaN</td>\n",
       "    </tr>\n",
       "    <tr>\n",
       "      <th>expenses</th>\n",
       "      <td>NaN</td>\n",
       "    </tr>\n",
       "    <tr>\n",
       "      <th>from_messages</th>\n",
       "      <td>NaN</td>\n",
       "    </tr>\n",
       "    <tr>\n",
       "      <th>from_poi_to_this_person</th>\n",
       "      <td>NaN</td>\n",
       "    </tr>\n",
       "    <tr>\n",
       "      <th>from_this_person_to_poi</th>\n",
       "      <td>NaN</td>\n",
       "    </tr>\n",
       "    <tr>\n",
       "      <th>loan_advances</th>\n",
       "      <td>NaN</td>\n",
       "    </tr>\n",
       "    <tr>\n",
       "      <th>long_term_incentive</th>\n",
       "      <td>NaN</td>\n",
       "    </tr>\n",
       "    <tr>\n",
       "      <th>other</th>\n",
       "      <td>NaN</td>\n",
       "    </tr>\n",
       "    <tr>\n",
       "      <th>poi</th>\n",
       "      <td>False</td>\n",
       "    </tr>\n",
       "    <tr>\n",
       "      <th>restricted_stock</th>\n",
       "      <td>NaN</td>\n",
       "    </tr>\n",
       "    <tr>\n",
       "      <th>restricted_stock_deferred</th>\n",
       "      <td>NaN</td>\n",
       "    </tr>\n",
       "    <tr>\n",
       "      <th>salary</th>\n",
       "      <td>NaN</td>\n",
       "    </tr>\n",
       "    <tr>\n",
       "      <th>shared_receipt_with_poi</th>\n",
       "      <td>NaN</td>\n",
       "    </tr>\n",
       "    <tr>\n",
       "      <th>to_messages</th>\n",
       "      <td>NaN</td>\n",
       "    </tr>\n",
       "    <tr>\n",
       "      <th>total_payments</th>\n",
       "      <td>NaN</td>\n",
       "    </tr>\n",
       "    <tr>\n",
       "      <th>total_stock_value</th>\n",
       "      <td>NaN</td>\n",
       "    </tr>\n",
       "  </tbody>\n",
       "</table>\n",
       "</div>"
      ],
      "text/plain": [
       "                          LOCKHART EUGENE E\n",
       "bonus                                   NaN\n",
       "deferral_payments                       NaN\n",
       "deferred_income                         NaN\n",
       "director_fees                           NaN\n",
       "email_address                           NaN\n",
       "exercised_stock_options                 NaN\n",
       "expenses                                NaN\n",
       "from_messages                           NaN\n",
       "from_poi_to_this_person                 NaN\n",
       "from_this_person_to_poi                 NaN\n",
       "loan_advances                           NaN\n",
       "long_term_incentive                     NaN\n",
       "other                                   NaN\n",
       "poi                                   False\n",
       "restricted_stock                        NaN\n",
       "restricted_stock_deferred               NaN\n",
       "salary                                  NaN\n",
       "shared_receipt_with_poi                 NaN\n",
       "to_messages                             NaN\n",
       "total_payments                          NaN\n",
       "total_stock_value                       NaN"
      ]
     },
     "execution_count": 12,
     "metadata": {},
     "output_type": "execute_result"
    }
   ],
   "source": [
    "df[checknull].T"
   ]
  },
  {
   "cell_type": "markdown",
   "metadata": {},
   "source": [
    "This datapoint has no values, with the exception of the poi label, it brings no information and should be removed."
   ]
  },
  {
   "cell_type": "code",
   "execution_count": 13,
   "metadata": {},
   "outputs": [
    {
     "data": {
      "text/plain": [
       "143"
      ]
     },
     "execution_count": 13,
     "metadata": {},
     "output_type": "execute_result"
    }
   ],
   "source": [
    "df.drop('LOCKHART EUGENE E', inplace=True)\n",
    "len(df)"
   ]
  },
  {
   "cell_type": "markdown",
   "metadata": {},
   "source": [
    "The analysis will proceed with the final count of 143 persons."
   ]
  },
  {
   "cell_type": "markdown",
   "metadata": {},
   "source": [
    "Here's a print from a random person to have an idea of the information from each datapoint:"
   ]
  },
  {
   "cell_type": "code",
   "execution_count": 14,
   "metadata": {},
   "outputs": [
    {
     "data": {
      "text/plain": [
       "bonus                                          1e+06\n",
       "deferral_payments                                NaN\n",
       "deferred_income                                  NaN\n",
       "director_fees                                    NaN\n",
       "email_address                philippe.bibi@enron.com\n",
       "exercised_stock_options                  1.46573e+06\n",
       "expenses                                       38559\n",
       "from_messages                                     40\n",
       "from_poi_to_this_person                           23\n",
       "from_this_person_to_poi                            8\n",
       "loan_advances                                    NaN\n",
       "long_term_incentive                           369721\n",
       "other                                         425688\n",
       "poi                                            False\n",
       "restricted_stock                              378082\n",
       "restricted_stock_deferred                        NaN\n",
       "salary                                        213625\n",
       "shared_receipt_with_poi                         1336\n",
       "to_messages                                     1607\n",
       "total_payments                           2.04759e+06\n",
       "total_stock_value                        1.84382e+06\n",
       "Name: BIBI PHILIPPE A, dtype: object"
      ]
     },
     "execution_count": 14,
     "metadata": {},
     "output_type": "execute_result"
    }
   ],
   "source": [
    "df.iloc[12]"
   ]
  },
  {
   "cell_type": "markdown",
   "metadata": {},
   "source": [
    "An overview:"
   ]
  },
  {
   "cell_type": "code",
   "execution_count": 15,
   "metadata": {
    "scrolled": true
   },
   "outputs": [
    {
     "name": "stdout",
     "output_type": "stream",
     "text": [
      "Total Data Points: 143\n",
      "Total POI        :  18\n"
     ]
    }
   ],
   "source": [
    "total_dps = len(df)\n",
    "poi_dps = df.poi.sum()\n",
    "print('Total Data Points: {:>3}'.format(total_dps))\n",
    "print('Total POI        : {:>3}'.format(poi_dps))"
   ]
  },
  {
   "cell_type": "markdown",
   "metadata": {},
   "source": [
    "There is 2 classes of features, finance related and email related:\n",
    "\n",
    "* **financial features:** ['salary', 'deferral_payments', 'total_payments', 'loan_advances', 'bonus', 'restricted_stock_deferred', 'deferred_income', 'total_stock_value', 'expenses', 'exercised_stock_options', 'other', 'long_term_incentive', 'restricted_stock', 'director_fees'] (all units are in US dollars)\n",
    "\n",
    "* **email features:** ['to_messages', 'email_address', 'from_poi_to_this_person', 'from_messages', 'from_this_person_to_poi', 'shared_receipt_with_poi'] (units are generally number of emails messages; notable exception is ‘email_address’, which is a text string)"
   ]
  },
  {
   "cell_type": "code",
   "execution_count": 16,
   "metadata": {
    "collapsed": true
   },
   "outputs": [],
   "source": [
    "financial_features = ['salary', 'deferral_payments', 'total_payments', 'loan_advances', 'bonus',\n",
    "                      'restricted_stock_deferred', 'deferred_income', 'total_stock_value', 'expenses',\n",
    "                      'exercised_stock_options', 'other', 'long_term_incentive', 'restricted_stock',\n",
    "                      'director_fees']\n",
    "\n",
    "email_features = ['to_messages', 'email_address', 'from_poi_to_this_person', 'from_messages', \n",
    "                     'from_this_person_to_poi', 'shared_receipt_with_poi']"
   ]
  },
  {
   "cell_type": "markdown",
   "metadata": {},
   "source": [
    "### Email Features"
   ]
  },
  {
   "cell_type": "code",
   "execution_count": 17,
   "metadata": {
    "scrolled": true
   },
   "outputs": [
    {
     "name": "stdout",
     "output_type": "stream",
     "text": [
      "['to_messages', 'email_address', 'from_poi_to_this_person', 'from_messages', 'from_this_person_to_poi', 'shared_receipt_with_poi']\n"
     ]
    }
   ],
   "source": [
    "print(email_features)"
   ]
  },
  {
   "cell_type": "markdown",
   "metadata": {},
   "source": [
    "#### Missing Values"
   ]
  },
  {
   "cell_type": "code",
   "execution_count": 18,
   "metadata": {},
   "outputs": [
    {
     "name": "stdout",
     "output_type": "stream",
     "text": [
      "                         Title: Count    Missing  POI Count  % Missing\n",
      "                   to_messages: 86       57       14         39.86   \n",
      "       from_poi_to_this_person: 86       57       14         39.86   \n",
      "                 from_messages: 86       57       14         39.86   \n",
      "       from_this_person_to_poi: 86       57       14         39.86   \n",
      "       shared_receipt_with_poi: 86       57       14         39.86   \n",
      "                 email_address: 111      32       18         22.38   \n"
     ]
    }
   ],
   "source": [
    "print_list = []\n",
    "for feature in email_features:\n",
    "    title = feature\n",
    "    count = df[feature].count()\n",
    "    missing = total_dps - count\n",
    "    poi_count = len(df.query(feature+' != \"NaN\" and poi==True'))\n",
    "    pct_missing = 100*missing/total_dps\n",
    "    print_list.append((title, count, missing, poi_count, pct_missing))\n",
    "\n",
    "print('{:>30}: {:<8} {:<8} {:<10} {:<8}'.format('Title', 'Count', 'Missing', 'POI Count', '% Missing'))\n",
    "for (title, count, missing, poi_count, pct_missing) in sorted(print_list, key=operator.itemgetter(4),\n",
    "                                                              reverse=True):\n",
    "    print('{:>30}: {:<8} {:<8} {:<10} {:<8.2f}'.format(title, count, missing, poi_count, pct_missing))"
   ]
  },
  {
   "cell_type": "markdown",
   "metadata": {},
   "source": [
    "There's no email feature with a relatively high amount of missing values, so they are valid."
   ]
  },
  {
   "cell_type": "markdown",
   "metadata": {},
   "source": [
    "#### New Features"
   ]
  },
  {
   "cell_type": "markdown",
   "metadata": {},
   "source": [
    "The first approach we can take is to see if POIs communicate to each other a lot, using the features from_poi_to_this_person and from_this_person_to_poi:"
   ]
  },
  {
   "cell_type": "code",
   "execution_count": 19,
   "metadata": {},
   "outputs": [
    {
     "data": {
      "text/plain": [
       "<matplotlib.collections.PathCollection at 0x7f7f99b57588>"
      ]
     },
     "execution_count": 19,
     "metadata": {},
     "output_type": "execute_result"
    },
    {
     "data": {
      "image/png": "[encoded data removed]",
      "text/plain": [
       "<matplotlib.figure.Figure at 0x7f7fa1a8ce10>"
      ]
     },
     "metadata": {},
     "output_type": "display_data"
    }
   ],
   "source": [
    "plt.scatter(df.from_poi_to_this_person, df.from_this_person_to_poi, c=df.poi, alpha=0.5)"
   ]
  },
  {
   "cell_type": "markdown",
   "metadata": {},
   "source": [
    "It is a good idea, but there are people who sends a lot of emails and those that don't, so, engineering 2 new features, from_poi_ratio and to_poi_ratio may help:"
   ]
  },
  {
   "cell_type": "code",
   "execution_count": 20,
   "metadata": {
    "collapsed": true
   },
   "outputs": [],
   "source": [
    "df['from_poi_ratio'] = df.from_poi_to_this_person/df.to_messages\n",
    "df['to_poi_ratio'] = df.from_this_person_to_poi/df.from_messages"
   ]
  },
  {
   "cell_type": "code",
   "execution_count": 21,
   "metadata": {
    "scrolled": false
   },
   "outputs": [
    {
     "data": {
      "text/plain": [
       "<matplotlib.collections.PathCollection at 0x7f7f99a443c8>"
      ]
     },
     "execution_count": 21,
     "metadata": {},
     "output_type": "execute_result"
    },
    {
     "data": {
      "image/png": "[encoded data removed]",
      "text/plain": [
       "<matplotlib.figure.Figure at 0x7f7fa1a4e5c0>"
      ]
     },
     "metadata": {},
     "output_type": "display_data"
    }
   ],
   "source": [
    "plt.scatter(df.from_poi_ratio, df.to_poi_ratio, c=df.poi, alpha=0.5)"
   ]
  },
  {
   "cell_type": "markdown",
   "metadata": {},
   "source": [
    "Good, these features will help to filter a lot of people."
   ]
  },
  {
   "cell_type": "markdown",
   "metadata": {},
   "source": [
    "Using the same line of thought with the feature \"shared_receipt_with_poi\" doesn't help too much:"
   ]
  },
  {
   "cell_type": "code",
   "execution_count": 22,
   "metadata": {
    "scrolled": true
   },
   "outputs": [
    {
     "data": {
      "text/plain": [
       "<matplotlib.collections.PathCollection at 0x7f7f999df320>"
      ]
     },
     "execution_count": 22,
     "metadata": {},
     "output_type": "execute_result"
    },
    {
     "data": {
      "image/png": "[encoded data removed]",
      "text/plain": [
       "<matplotlib.figure.Figure at 0x7f7f99a56518>"
      ]
     },
     "metadata": {},
     "output_type": "display_data"
    }
   ],
   "source": [
    "plt.scatter(df.shared_receipt_with_poi/df.to_messages, df.to_poi_ratio, c=df.poi, alpha=0.5)"
   ]
  },
  {
   "cell_type": "code",
   "execution_count": 23,
   "metadata": {
    "collapsed": true
   },
   "outputs": [],
   "source": [
    "selected_email_features = ['from_poi_ratio', 'to_poi_ratio']"
   ]
  },
  {
   "cell_type": "markdown",
   "metadata": {},
   "source": [
    "### Financial Features\n",
    "\n",
    "There is a lot of financial features:"
   ]
  },
  {
   "cell_type": "code",
   "execution_count": 24,
   "metadata": {
    "scrolled": true
   },
   "outputs": [
    {
     "name": "stdout",
     "output_type": "stream",
     "text": [
      "['salary', 'deferral_payments', 'total_payments', 'loan_advances', 'bonus', 'restricted_stock_deferred', 'deferred_income', 'total_stock_value', 'expenses', 'exercised_stock_options', 'other', 'long_term_incentive', 'restricted_stock', 'director_fees']\n",
      "14\n"
     ]
    }
   ],
   "source": [
    "print(financial_features)\n",
    "print(len(financial_features))"
   ]
  },
  {
   "cell_type": "markdown",
   "metadata": {},
   "source": [
    "#### Missing Values"
   ]
  },
  {
   "cell_type": "markdown",
   "metadata": {},
   "source": [
    "If there is features with too much missing values, they won't help with the classification."
   ]
  },
  {
   "cell_type": "code",
   "execution_count": 25,
   "metadata": {},
   "outputs": [
    {
     "name": "stdout",
     "output_type": "stream",
     "text": [
      "                         Title: Count    Missing  POI Count  % Missing\n",
      "                 loan_advances: 3        140      1          97.90   \n",
      "                 director_fees: 16       127      0          88.81   \n",
      "     restricted_stock_deferred: 17       126      0          88.11   \n",
      "             deferral_payments: 38       105      5          73.43   \n",
      "               deferred_income: 48       95       11         66.43   \n",
      "           long_term_incentive: 65       78       12         54.55   \n",
      "                         bonus: 81       62       16         43.36   \n",
      "                         other: 91       52       18         36.36   \n",
      "                        salary: 94       49       17         34.27   \n",
      "                      expenses: 94       49       18         34.27   \n",
      "       exercised_stock_options: 101      42       12         29.37   \n",
      "              restricted_stock: 109      34       17         23.78   \n",
      "                total_payments: 123      20       18         13.99   \n",
      "             total_stock_value: 125      18       18         12.59   \n"
     ]
    }
   ],
   "source": [
    "print_list = []\n",
    "for feature in financial_features:\n",
    "    title = feature\n",
    "    count = df[feature].count()\n",
    "    missing = total_dps - count\n",
    "    poi_count = len(df.query(feature+' != \"NaN\" and poi==True'))\n",
    "    pct_missing = 100*missing/total_dps\n",
    "    print_list.append((title, count, missing, poi_count, pct_missing))\n",
    "\n",
    "print('{:>30}: {:<8} {:<8} {:<10} {:<8}'.format('Title', 'Count', 'Missing', 'POI Count', '% Missing'))\n",
    "for (title, count, missing, poi_count, pct_missing) in sorted(print_list, key=operator.itemgetter(4),\n",
    "                                                              reverse=True):\n",
    "    print('{:>30}: {:<8} {:<8} {:<10} {:<8.2f}'.format(title, count, missing, poi_count, pct_missing))"
   ]
  },
  {
   "cell_type": "markdown",
   "metadata": {},
   "source": [
    "Features with a high amount of missing values and low POI count won't be useful. Removing them:"
   ]
  },
  {
   "cell_type": "code",
   "execution_count": 26,
   "metadata": {},
   "outputs": [
    {
     "name": "stdout",
     "output_type": "stream",
     "text": [
      "['salary', 'deferral_payments', 'total_payments', 'bonus', 'deferred_income', 'total_stock_value', 'expenses', 'exercised_stock_options', 'other', 'long_term_incentive', 'restricted_stock']\n"
     ]
    },
    {
     "data": {
      "text/plain": [
       "11"
      ]
     },
     "execution_count": 26,
     "metadata": {},
     "output_type": "execute_result"
    }
   ],
   "source": [
    "features_to_remove = ['loan_advances', 'director_fees', 'restricted_stock_deferred']\n",
    "for feature in features_to_remove:\n",
    "    financial_features.remove(feature)\n",
    "print(financial_features)\n",
    "len(financial_features)"
   ]
  },
  {
   "cell_type": "markdown",
   "metadata": {},
   "source": [
    "#### Exploration"
   ]
  },
  {
   "cell_type": "code",
   "execution_count": 27,
   "metadata": {
    "scrolled": true
   },
   "outputs": [
    {
     "data": {
      "image/png": "[encoded data removed]",
      "text/plain": [
       "<matplotlib.figure.Figure at 0x7f7f99a1f828>"
      ]
     },
     "metadata": {},
     "output_type": "display_data"
    },
    {
     "data": {
      "image/png": "[encoded data removed]",
      "text/plain": [
       "<matplotlib.figure.Figure at 0x7f7f99a78780>"
      ]
     },
     "metadata": {},
     "output_type": "display_data"
    },
    {
     "data": {
      "image/png": "[encoded data removed]",
      "text/plain": [
       "<matplotlib.figure.Figure at 0x7f7f998f04a8>"
      ]
     },
     "metadata": {},
     "output_type": "display_data"
    },
    {
     "data": {
      "image/png": "[encoded data removed]",
      "text/plain": [
       "<matplotlib.figure.Figure at 0x7f7f998a8f60>"
      ]
     },
     "metadata": {},
     "output_type": "display_data"
    },
    {
     "data": {
      "image/png": "[encoded data removed]",
      "text/plain": [
       "<matplotlib.figure.Figure at 0x7f7f99588f28>"
      ]
     },
     "metadata": {},
     "output_type": "display_data"
    },
    {
     "data": {
      "image/png": "[encoded data removed]",
      "text/plain": [
       "<matplotlib.figure.Figure at 0x7f7f9978abe0>"
      ]
     },
     "metadata": {},
     "output_type": "display_data"
    },
    {
     "data": {
      "image/png": "[encoded data removed]",
      "text/plain": [
       "<matplotlib.figure.Figure at 0x7f7f993a2ef0>"
      ]
     },
     "metadata": {},
     "output_type": "display_data"
    },
    {
     "data": {
      "image/png": "[encoded data removed]",
      "text/plain": [
       "<matplotlib.figure.Figure at 0x7f7f9947f908>"
      ]
     },
     "metadata": {},
     "output_type": "display_data"
    },
    {
     "data": {
      "image/png": "[encoded data removed]",
      "text/plain": [
       "<matplotlib.figure.Figure at 0x7f7f9946e6a0>"
      ]
     },
     "metadata": {},
     "output_type": "display_data"
    },
    {
     "data": {
      "image/png": "[encoded data removed]",
      "text/plain": [
       "<matplotlib.figure.Figure at 0x7f7f999aef60>"
      ]
     },
     "metadata": {},
     "output_type": "display_data"
    },
    {
     "data": {
      "image/png": "[encoded data removed]",
      "text/plain": [
       "<matplotlib.figure.Figure at 0x7f7f99971da0>"
      ]
     },
     "metadata": {},
     "output_type": "display_data"
    }
   ],
   "source": [
    "for feature in financial_features:\n",
    "    plt.hist(df[feature].dropna(),20)\n",
    "    plt.title(feature)\n",
    "    plt.show()"
   ]
  },
  {
   "cell_type": "markdown",
   "metadata": {},
   "source": [
    "With the exception of salary, all features are skewed. Using it as a basis for scatterplots to have an idea of the POI/non-POI distribution:"
   ]
  },
  {
   "cell_type": "code",
   "execution_count": 28,
   "metadata": {},
   "outputs": [
    {
     "data": {
      "image/png": "[encoded data removed]",
      "text/plain": [
       "<matplotlib.figure.Figure at 0x7f7f996c8978>"
      ]
     },
     "metadata": {},
     "output_type": "display_data"
    },
    {
     "data": {
      "image/png": "[encoded data removed]",
      "text/plain": [
       "<matplotlib.figure.Figure at 0x7f7f99736e10>"
      ]
     },
     "metadata": {},
     "output_type": "display_data"
    },
    {
     "data": {
      "image/png": "[encoded data removed]",
      "text/plain": [
       "<matplotlib.figure.Figure at 0x7f7f997f52e8>"
      ]
     },
     "metadata": {},
     "output_type": "display_data"
    },
    {
     "data": {
      "image/png": "[encoded data removed]",
      "text/plain": [
       "<matplotlib.figure.Figure at 0x7f7f998e5198>"
      ]
     },
     "metadata": {},
     "output_type": "display_data"
    },
    {
     "data": {
      "image/png": "[encoded data removed]",
      "text/plain": [
       "<matplotlib.figure.Figure at 0x7f7f99733b70>"
      ]
     },
     "metadata": {},
     "output_type": "display_data"
    },
    {
     "data": {
      "image/png": "[encoded data removed]",
      "text/plain": [
       "<matplotlib.figure.Figure at 0x7f7f9962ca58>"
      ]
     },
     "metadata": {},
     "output_type": "display_data"
    },
    {
     "data": {
      "image/png": "[encoded data removed]",
      "text/plain": [
       "<matplotlib.figure.Figure at 0x7f7f99892c18>"
      ]
     },
     "metadata": {},
     "output_type": "display_data"
    },
    {
     "data": {
      "image/png": "[encoded data removed]",
      "text/plain": [
       "<matplotlib.figure.Figure at 0x7f7f99380ef0>"
      ]
     },
     "metadata": {},
     "output_type": "display_data"
    },
    {
     "data": {
      "image/png": "[encoded data removed]",
      "text/plain": [
       "<matplotlib.figure.Figure at 0x7f7f994ceb70>"
      ]
     },
     "metadata": {},
     "output_type": "display_data"
    },
    {
     "data": {
      "image/png": "[encoded data removed]",
      "text/plain": [
       "<matplotlib.figure.Figure at 0x7f7f99427b70>"
      ]
     },
     "metadata": {},
     "output_type": "display_data"
    }
   ],
   "source": [
    "for feature in financial_features[1:]:\n",
    "    plt.scatter(np.sqrt(df.salary), df[feature], c=df.poi, alpha=0.5)\n",
    "    plt.title(feature)\n",
    "    plt.show()"
   ]
  },
  {
   "cell_type": "markdown",
   "metadata": {},
   "source": [
    "### Pre Selected Features"
   ]
  },
  {
   "cell_type": "code",
   "execution_count": 29,
   "metadata": {},
   "outputs": [
    {
     "name": "stdout",
     "output_type": "stream",
     "text": [
      "['from_poi_ratio', 'to_poi_ratio', 'salary', 'deferral_payments', 'total_payments', 'bonus', 'deferred_income', 'total_stock_value', 'expenses', 'exercised_stock_options', 'other', 'long_term_incentive', 'restricted_stock']\n"
     ]
    },
    {
     "data": {
      "text/plain": [
       "13"
      ]
     },
     "execution_count": 29,
     "metadata": {},
     "output_type": "execute_result"
    }
   ],
   "source": [
    "features = selected_email_features+financial_features\n",
    "print(features)\n",
    "len(features)"
   ]
  },
  {
   "cell_type": "markdown",
   "metadata": {},
   "source": [
    "### Feature Scaling and Handling of Missing Values"
   ]
  },
  {
   "cell_type": "markdown",
   "metadata": {},
   "source": [
    "A few of the chosen models to test, namely SVMs, will benefit from feature scaling as the features are of varying magnitudes.\n",
    "\n",
    "The MinMaxScaler is a simple yet effective way to bring all the features to comparable values, between 0 and 1.\n",
    "\n",
    "From now on, missing values (NaN) will be replaced by 0."
   ]
  },
  {
   "cell_type": "code",
   "execution_count": 30,
   "metadata": {
    "collapsed": true
   },
   "outputs": [],
   "source": [
    "df.fillna(0, inplace=True)"
   ]
  },
  {
   "cell_type": "code",
   "execution_count": 31,
   "metadata": {},
   "outputs": [
    {
     "data": {
      "text/html": [
       "<div>\n",
       "<style>\n",
       "    .dataframe thead tr:only-child th {\n",
       "        text-align: right;\n",
       "    }\n",
       "\n",
       "    .dataframe thead th {\n",
       "        text-align: left;\n",
       "    }\n",
       "\n",
       "    .dataframe tbody tr th {\n",
       "        vertical-align: top;\n",
       "    }\n",
       "</style>\n",
       "<table border=\"1\" class=\"dataframe\">\n",
       "  <thead>\n",
       "    <tr style=\"text-align: right;\">\n",
       "      <th></th>\n",
       "      <th>bonus</th>\n",
       "      <th>deferral_payments</th>\n",
       "      <th>deferred_income</th>\n",
       "      <th>director_fees</th>\n",
       "      <th>email_address</th>\n",
       "      <th>exercised_stock_options</th>\n",
       "      <th>expenses</th>\n",
       "      <th>from_messages</th>\n",
       "      <th>from_poi_to_this_person</th>\n",
       "      <th>from_this_person_to_poi</th>\n",
       "      <th>...</th>\n",
       "      <th>poi</th>\n",
       "      <th>restricted_stock</th>\n",
       "      <th>restricted_stock_deferred</th>\n",
       "      <th>salary</th>\n",
       "      <th>shared_receipt_with_poi</th>\n",
       "      <th>to_messages</th>\n",
       "      <th>total_payments</th>\n",
       "      <th>total_stock_value</th>\n",
       "      <th>from_poi_ratio</th>\n",
       "      <th>to_poi_ratio</th>\n",
       "    </tr>\n",
       "  </thead>\n",
       "  <tbody>\n",
       "    <tr>\n",
       "      <th>ALLEN PHILLIP K</th>\n",
       "      <td>0.521875</td>\n",
       "      <td>0.455199</td>\n",
       "      <td>0.120800</td>\n",
       "      <td>0.0</td>\n",
       "      <td>phillip.allen@enron.com</td>\n",
       "      <td>0.050353</td>\n",
       "      <td>0.060622</td>\n",
       "      <td>2195.0</td>\n",
       "      <td>47.0</td>\n",
       "      <td>65.0</td>\n",
       "      <td>...</td>\n",
       "      <td>False</td>\n",
       "      <td>0.157232</td>\n",
       "      <td>-126027.0</td>\n",
       "      <td>0.181735</td>\n",
       "      <td>1407.0</td>\n",
       "      <td>2902.0</td>\n",
       "      <td>0.043303</td>\n",
       "      <td>0.036083</td>\n",
       "      <td>0.074518</td>\n",
       "      <td>0.029613</td>\n",
       "    </tr>\n",
       "    <tr>\n",
       "      <th>BADUM JAMES P</th>\n",
       "      <td>0.000000</td>\n",
       "      <td>0.043109</td>\n",
       "      <td>1.000000</td>\n",
       "      <td>0.0</td>\n",
       "      <td>0</td>\n",
       "      <td>0.007506</td>\n",
       "      <td>0.015238</td>\n",
       "      <td>0.0</td>\n",
       "      <td>0.0</td>\n",
       "      <td>0.0</td>\n",
       "      <td>...</td>\n",
       "      <td>False</td>\n",
       "      <td>0.149975</td>\n",
       "      <td>0.0</td>\n",
       "      <td>0.000000</td>\n",
       "      <td>0.0</td>\n",
       "      <td>0.0</td>\n",
       "      <td>0.001762</td>\n",
       "      <td>0.006142</td>\n",
       "      <td>0.000000</td>\n",
       "      <td>0.000000</td>\n",
       "    </tr>\n",
       "    <tr>\n",
       "      <th>BANNANTINE JAMES M</th>\n",
       "      <td>0.000000</td>\n",
       "      <td>0.015698</td>\n",
       "      <td>0.998544</td>\n",
       "      <td>0.0</td>\n",
       "      <td>james.bannantine@enron.com</td>\n",
       "      <td>0.117798</td>\n",
       "      <td>0.246111</td>\n",
       "      <td>29.0</td>\n",
       "      <td>39.0</td>\n",
       "      <td>0.0</td>\n",
       "      <td>...</td>\n",
       "      <td>False</td>\n",
       "      <td>0.251180</td>\n",
       "      <td>-560222.0</td>\n",
       "      <td>0.000429</td>\n",
       "      <td>465.0</td>\n",
       "      <td>566.0</td>\n",
       "      <td>0.008847</td>\n",
       "      <td>0.107571</td>\n",
       "      <td>0.317034</td>\n",
       "      <td>0.000000</td>\n",
       "    </tr>\n",
       "    <tr>\n",
       "      <th>BAXTER JOHN C</th>\n",
       "      <td>0.150000</td>\n",
       "      <td>0.214142</td>\n",
       "      <td>0.604480</td>\n",
       "      <td>0.0</td>\n",
       "      <td>0</td>\n",
       "      <td>0.194494</td>\n",
       "      <td>0.048959</td>\n",
       "      <td>0.0</td>\n",
       "      <td>0.0</td>\n",
       "      <td>0.0</td>\n",
       "      <td>...</td>\n",
       "      <td>False</td>\n",
       "      <td>0.377009</td>\n",
       "      <td>0.0</td>\n",
       "      <td>0.240360</td>\n",
       "      <td>0.0</td>\n",
       "      <td>0.0</td>\n",
       "      <td>0.054407</td>\n",
       "      <td>0.217018</td>\n",
       "      <td>0.000000</td>\n",
       "      <td>0.000000</td>\n",
       "    </tr>\n",
       "    <tr>\n",
       "      <th>BAY FRANKLIN R</th>\n",
       "      <td>0.050000</td>\n",
       "      <td>0.055587</td>\n",
       "      <td>0.942460</td>\n",
       "      <td>0.0</td>\n",
       "      <td>frank.bay@enron.com</td>\n",
       "      <td>0.000000</td>\n",
       "      <td>0.564523</td>\n",
       "      <td>0.0</td>\n",
       "      <td>0.0</td>\n",
       "      <td>0.0</td>\n",
       "      <td>...</td>\n",
       "      <td>False</td>\n",
       "      <td>0.158370</td>\n",
       "      <td>-82782.0</td>\n",
       "      <td>0.215675</td>\n",
       "      <td>0.0</td>\n",
       "      <td>0.0</td>\n",
       "      <td>0.007992</td>\n",
       "      <td>0.002179</td>\n",
       "      <td>0.000000</td>\n",
       "      <td>0.000000</td>\n",
       "    </tr>\n",
       "  </tbody>\n",
       "</table>\n",
       "<p>5 rows × 23 columns</p>\n",
       "</div>"
      ],
      "text/plain": [
       "                       bonus  deferral_payments  deferred_income  \\\n",
       "ALLEN PHILLIP K     0.521875           0.455199         0.120800   \n",
       "BADUM JAMES P       0.000000           0.043109         1.000000   \n",
       "BANNANTINE JAMES M  0.000000           0.015698         0.998544   \n",
       "BAXTER JOHN C       0.150000           0.214142         0.604480   \n",
       "BAY FRANKLIN R      0.050000           0.055587         0.942460   \n",
       "\n",
       "                    director_fees               email_address  \\\n",
       "ALLEN PHILLIP K               0.0     phillip.allen@enron.com   \n",
       "BADUM JAMES P                 0.0                           0   \n",
       "BANNANTINE JAMES M            0.0  james.bannantine@enron.com   \n",
       "BAXTER JOHN C                 0.0                           0   \n",
       "BAY FRANKLIN R                0.0         frank.bay@enron.com   \n",
       "\n",
       "                    exercised_stock_options  expenses  from_messages  \\\n",
       "ALLEN PHILLIP K                    0.050353  0.060622         2195.0   \n",
       "BADUM JAMES P                      0.007506  0.015238            0.0   \n",
       "BANNANTINE JAMES M                 0.117798  0.246111           29.0   \n",
       "BAXTER JOHN C                      0.194494  0.048959            0.0   \n",
       "BAY FRANKLIN R                     0.000000  0.564523            0.0   \n",
       "\n",
       "                    from_poi_to_this_person  from_this_person_to_poi  \\\n",
       "ALLEN PHILLIP K                        47.0                     65.0   \n",
       "BADUM JAMES P                           0.0                      0.0   \n",
       "BANNANTINE JAMES M                     39.0                      0.0   \n",
       "BAXTER JOHN C                           0.0                      0.0   \n",
       "BAY FRANKLIN R                          0.0                      0.0   \n",
       "\n",
       "                        ...         poi  restricted_stock  \\\n",
       "ALLEN PHILLIP K         ...       False          0.157232   \n",
       "BADUM JAMES P           ...       False          0.149975   \n",
       "BANNANTINE JAMES M      ...       False          0.251180   \n",
       "BAXTER JOHN C           ...       False          0.377009   \n",
       "BAY FRANKLIN R          ...       False          0.158370   \n",
       "\n",
       "                    restricted_stock_deferred    salary  \\\n",
       "ALLEN PHILLIP K                     -126027.0  0.181735   \n",
       "BADUM JAMES P                             0.0  0.000000   \n",
       "BANNANTINE JAMES M                  -560222.0  0.000429   \n",
       "BAXTER JOHN C                             0.0  0.240360   \n",
       "BAY FRANKLIN R                       -82782.0  0.215675   \n",
       "\n",
       "                    shared_receipt_with_poi  to_messages  total_payments  \\\n",
       "ALLEN PHILLIP K                      1407.0       2902.0        0.043303   \n",
       "BADUM JAMES P                           0.0          0.0        0.001762   \n",
       "BANNANTINE JAMES M                    465.0        566.0        0.008847   \n",
       "BAXTER JOHN C                           0.0          0.0        0.054407   \n",
       "BAY FRANKLIN R                          0.0          0.0        0.007992   \n",
       "\n",
       "                    total_stock_value  from_poi_ratio  to_poi_ratio  \n",
       "ALLEN PHILLIP K              0.036083        0.074518      0.029613  \n",
       "BADUM JAMES P                0.006142        0.000000      0.000000  \n",
       "BANNANTINE JAMES M           0.107571        0.317034      0.000000  \n",
       "BAXTER JOHN C                0.217018        0.000000      0.000000  \n",
       "BAY FRANKLIN R               0.002179        0.000000      0.000000  \n",
       "\n",
       "[5 rows x 23 columns]"
      ]
     },
     "execution_count": 31,
     "metadata": {},
     "output_type": "execute_result"
    }
   ],
   "source": [
    "from sklearn.preprocessing import MinMaxScaler\n",
    "scaler = MinMaxScaler()\n",
    "df[features] = scaler.fit_transform(df[features])\n",
    "df.head()"
   ]
  },
  {
   "cell_type": "markdown",
   "metadata": {},
   "source": [
    "## Feature Selection"
   ]
  },
  {
   "cell_type": "markdown",
   "metadata": {},
   "source": [
    "### Evaluation Metrics"
   ]
  },
  {
   "cell_type": "markdown",
   "metadata": {},
   "source": [
    "The dataset is very unbalanced towards non-POI:"
   ]
  },
  {
   "cell_type": "code",
   "execution_count": 32,
   "metadata": {
    "scrolled": true
   },
   "outputs": [
    {
     "name": "stdout",
     "output_type": "stream",
     "text": [
      "POI: 143 | Total: 18\n"
     ]
    }
   ],
   "source": [
    "print('POI: {} | Total: {}'.format(len(df), np.sum(df.poi==True)))"
   ]
  },
  {
   "cell_type": "markdown",
   "metadata": {},
   "source": [
    "Using precision, or F1, generates warnings because a lot of the times they end up dividing by 0. Ignoring warnings for now on:"
   ]
  },
  {
   "cell_type": "code",
   "execution_count": 33,
   "metadata": {
    "collapsed": true
   },
   "outputs": [],
   "source": [
    "import warnings\n",
    "warnings.filterwarnings('ignore')"
   ]
  },
  {
   "cell_type": "code",
   "execution_count": 112,
   "metadata": {},
   "outputs": [
    {
     "name": "stdout",
     "output_type": "stream",
     "text": [
      "Accuracy if predicted all non-POI: 0.874126\n"
     ]
    }
   ],
   "source": [
    "print('Accuracy if predicted all non-POI: {:0.6f}'.format((143-18)/143))"
   ]
  },
  {
   "cell_type": "markdown",
   "metadata": {},
   "source": [
    "Ideally, the classifier should be more accurate than 0.8759, while having high recall and precision."
   ]
  },
  {
   "cell_type": "markdown",
   "metadata": {},
   "source": [
    "Due to the imbalanced nature of the dataset (way more non-POI than POI), using just accuracy, or even F1, results in poor detection performance.\n",
    "\n",
    "The objective here is fraud detection! A model that is accurate but doesn't detect a lot of POI is not a good one.\n",
    "\n",
    "There is a metric specifically created to deal with highly imbalanced classes, called Matthews correlation coefficient:\n",
    "\n",
    "The Matthews correlation coefficient is used in machine learning as a measure of the quality of binary (two-class) classifications. It takes into account true and false positives and negatives and is generally regarded as a balanced measure which can be used even if the classes are of very different sizes.[source: Wikipedia | http://scikit-learn.org/stable/modules/generated/sklearn.metrics.matthews_corrcoef.html | https://en.wikipedia.org/wiki/Matthews_correlation_coefficient]\n",
    "\n",
    "The MCC is the chosen metric in this project for parameter tuning and evaluation."
   ]
  },
  {
   "cell_type": "markdown",
   "metadata": {},
   "source": [
    "Preparing the metrics for iteration using GridSearchCV:"
   ]
  },
  {
   "cell_type": "code",
   "execution_count": 35,
   "metadata": {
    "collapsed": true
   },
   "outputs": [],
   "source": [
    "from sklearn.metrics import matthews_corrcoef\n",
    "from sklearn.metrics import make_scorer\n",
    "mcc = make_scorer(matthews_corrcoef)\n",
    "scorers = {'mcc': mcc, 'accuracy': 'accuracy', 'f1': 'f1', \n",
    "           'recall': 'recall', 'precision': 'precision'}"
   ]
  },
  {
   "cell_type": "code",
   "execution_count": 36,
   "metadata": {
    "collapsed": true
   },
   "outputs": [],
   "source": [
    "from sklearn.model_selection import GridSearchCV"
   ]
  },
  {
   "cell_type": "code",
   "execution_count": 37,
   "metadata": {
    "collapsed": true
   },
   "outputs": [],
   "source": [
    "def print_summary(clf):\n",
    "    print(clf.best_estimator_)\n",
    "    mcc = clf.cv_results_['mean_test_mcc'][clf.best_index_]\n",
    "    print('MCC:       {:0.4f}'.format(mcc))\n",
    "    f1 =  clf.cv_results_['mean_test_f1'][clf.best_index_]\n",
    "    print('F1:        {:0.4f}'.format(f1))\n",
    "    pre = clf.cv_results_['mean_test_precision'][clf.best_index_]\n",
    "    print('Precision: {:0.4f}'.format(pre))\n",
    "    rec = clf.cv_results_['mean_test_recall'][clf.best_index_]\n",
    "    print('Recall:    {:0.4f}'.format(rec))\n",
    "    acc = clf.cv_results_['mean_test_accuracy'][clf.best_index_]\n",
    "    print('Accuracy:  {:0.4f}'.format(acc))\n",
    "    return (str(clf.best_estimator_).split('(')[0], mcc, f1, pre, rec, acc)"
   ]
  },
  {
   "cell_type": "markdown",
   "metadata": {},
   "source": [
    "### Validation Strategy"
   ]
  },
  {
   "cell_type": "markdown",
   "metadata": {},
   "source": [
    "With the class imbalance present in the dataset, a stratified solution of cross-validation is needed. Scikit-learn provides us with 2:\n",
    "\n",
    "* StratifiedKFold http://scikit-learn.org/stable/modules/generated/sklearn.model_selection.StratifiedKFold.html\n",
    "* StratifiedShuffleSplit http://scikit-learn.org/stable/modules/generated/sklearn.model_selection.StratifiedShuffleSplit.html\n",
    "\n",
    "Both will preserve the percentage of samples for each class. The key difference is the splitting method.\n",
    "\n",
    "StratifiedKFold will split the dataset k times, and use k-1 folds for training and the remaining for testing. The process is repeated k times.\n",
    "\n",
    "StratifiedShuffleSplit will shuffle the dataset and split it n_splits times respecting to the chosen test_size.\n",
    "\n",
    "While both are valid ways of cross validation, due to the small size of the dataset, StratifiedShuffleSplit provides less chance of overfitting."
   ]
  },
  {
   "cell_type": "code",
   "execution_count": 38,
   "metadata": {
    "collapsed": true
   },
   "outputs": [],
   "source": [
    "from sklearn.model_selection import StratifiedShuffleSplit\n",
    "cv = StratifiedShuffleSplit(n_splits=50, test_size=0.3, random_state=42)"
   ]
  },
  {
   "cell_type": "markdown",
   "metadata": {},
   "source": [
    "The random state is set to 42 for test–retest reliability."
   ]
  },
  {
   "cell_type": "markdown",
   "metadata": {},
   "source": [
    "### Model Pre-Selection"
   ]
  },
  {
   "cell_type": "markdown",
   "metadata": {},
   "source": [
    "As per http://scikit-learn.org/stable/tutorial/machine_learning_map/index.html, the workflow should be:\n",
    "\n",
    "* Linear SVC\n",
    "* KN Classifier\n",
    "* SVC (other kernels)\n",
    "* Ensemble Classifiers\n",
    "    + Random Forest\n",
    "    + Adaboost"
   ]
  },
  {
   "cell_type": "code",
   "execution_count": 39,
   "metadata": {
    "collapsed": true
   },
   "outputs": [],
   "source": [
    "from sklearn.svm import SVC, LinearSVC\n",
    "from sklearn.neighbors import KNeighborsClassifier\n",
    "from sklearn.ensemble import RandomForestClassifier\n",
    "from sklearn.ensemble import AdaBoostClassifier"
   ]
  },
  {
   "cell_type": "markdown",
   "metadata": {},
   "source": [
    "Both ensemble classifiers use Decision Trees as a base, so it makes sense to add it to the pre-selection too. Adaboost, in particular, sometimes benefits greatly from a tuned DecisionTreeClassifier as its base."
   ]
  },
  {
   "cell_type": "code",
   "execution_count": 40,
   "metadata": {
    "collapsed": true
   },
   "outputs": [],
   "source": [
    "from sklearn.tree import DecisionTreeClassifier"
   ]
  },
  {
   "cell_type": "markdown",
   "metadata": {},
   "source": [
    "### Testing methodology"
   ]
  },
  {
   "cell_type": "markdown",
   "metadata": {},
   "source": [
    "To test the pre-selected models and features, a solid testing method must be chosen. \n",
    "\n",
    "Scikit-learn has GridSerchCV, the main function of this object is actually parameter tuning, but passing an empty dictionary as the parameters turn it into a robust testing method, that handles dataset splitting in accordance with a selected cross-validator, with the added bonus of an easy to use parallel processing, drasticaly speeding up the process."
   ]
  },
  {
   "cell_type": "code",
   "execution_count": 41,
   "metadata": {
    "collapsed": true
   },
   "outputs": [],
   "source": [
    "from sklearn.model_selection import GridSearchCV"
   ]
  },
  {
   "cell_type": "markdown",
   "metadata": {},
   "source": [
    "### Feature Selection"
   ]
  },
  {
   "cell_type": "markdown",
   "metadata": {},
   "source": [
    "While exploring and selecting them by hand is a valid approach, so is using statistics to do it and testing to do it. \n",
    "\n",
    "This code will print the p_values and ANOVA F-scores of each feature (NaN is filled with 0):\n",
    "\n",
    "FORMAT: p_value : feature : F-score"
   ]
  },
  {
   "cell_type": "code",
   "execution_count": 42,
   "metadata": {},
   "outputs": [
    {
     "data": {
      "text/plain": [
       "SelectKBest(k=10, score_func=<function f_classif at 0x7f7f96cc07b8>)"
      ]
     },
     "execution_count": 42,
     "metadata": {},
     "output_type": "execute_result"
    }
   ],
   "source": [
    "from sklearn.feature_selection import SelectKBest\n",
    "selector = SelectKBest()\n",
    "selector.fit(df[features], df.poi)"
   ]
  },
  {
   "cell_type": "code",
   "execution_count": 43,
   "metadata": {},
   "outputs": [
    {
     "name": "stdout",
     "output_type": "stream",
     "text": [
      "                       p_value :           Feature            : F-score\n",
      "\n",
      "        1.8182048777865317e-06 :   exercised_stock_options    : 24.815079733218194\n",
      "        2.4043152760437106e-06 :      total_stock_value       : 24.182898678566872\n",
      "          1.10129873239521e-05 :            bonus             : 20.792252047181538\n",
      "        3.4782737683651706e-05 :            salary            : 18.289684043404513\n",
      "         8.388953356704216e-05 :         to_poi_ratio         : 16.40971254803579\n",
      "         0.0009220367084670714 :       deferred_income        : 11.458476579280697\n",
      "          0.001994181245353672 :     long_term_incentive      : 9.922186013189839\n",
      "          0.002862802957909168 :       restricted_stock       : 9.212810621977086\n",
      "         0.0035893261725152385 :        total_payments        : 8.772777730091681\n",
      "           0.01475819996537172 :           expenses           : 6.094173310638967\n",
      "          0.042581747012345836 :            other             : 4.1874775069953785\n",
      "           0.07911610566379423 :        from_poi_ratio        : 3.128091748156737\n",
      "             0.636281647458697 :      deferral_payments       : 0.2246112747360051\n"
     ]
    }
   ],
   "source": [
    "features_ranked = []\n",
    "print('{:>30} :{:^30}: {}'.format('p_value', 'Feature', 'F-score'))\n",
    "print('')\n",
    "for (feature, score, pvalue) in sorted(zip(features, selector.scores_, selector.pvalues_),\n",
    "                               key=operator.itemgetter(1), reverse=True):\n",
    "    features_ranked.append(feature)\n",
    "    print('{:>30} :{:^30}: {}'.format(pvalue, feature, score))"
   ]
  },
  {
   "cell_type": "markdown",
   "metadata": {},
   "source": [
    "SelectKBest provides a good way to choose the right features for a machine learning model. However, using just univariate statistics for feature selection doesn't take into account feature interaction, the ideal k is hard to pinpoint without further testing.\n",
    "\n",
    "Ideally, testing every single feature combination would yield the best result, but it is both time and processing power expensive to do so.\n",
    "\n",
    "The next best thing is to rank the features as it is done above, and recursively remove the lowest ranked one to test its value.\n",
    "\n",
    "For the testing, two classifiers will be used, the simplest SVM: LinearSVC, and the base of the ensemble classifiers: DecisionTreeClassifier. Both will be run using stock parameter for now, with the exception of: \n",
    "* class_weight='balanced' - highly beneficial for imbalanced datasets;\n",
    "* and random_state=42 - for test–retest reliability."
   ]
  },
  {
   "cell_type": "code",
   "execution_count": 44,
   "metadata": {
    "collapsed": true
   },
   "outputs": [],
   "source": [
    "def test_k(features_list, k):\n",
    "    features = df[features_list[0:k]].values\n",
    "    labels = df.poi.values\n",
    "    parameters = {'class_weight': ['balanced'], 'random_state': [42]}\n",
    "    clf1 = GridSearchCV(LinearSVC(), parameters, scoring=scorers,\n",
    "                   n_jobs=10, cv=cv, refit='mcc', verbose=0)\n",
    "    clf1.fit(features, labels)\n",
    "    mcc1 = clf1.cv_results_['mean_test_mcc'][clf1.best_index_]\n",
    "    f11 =  clf1.cv_results_['mean_test_f1'][clf1.best_index_]\n",
    "    pre1 = clf1.cv_results_['mean_test_precision'][clf1.best_index_]\n",
    "    rec1 = clf1.cv_results_['mean_test_recall'][clf1.best_index_]\n",
    "    acc1 = clf1.cv_results_['mean_test_accuracy'][clf1.best_index_]\n",
    "    \n",
    "    clf2 = GridSearchCV(DecisionTreeClassifier(), parameters, scoring=scorers,\n",
    "                   n_jobs=10, cv=cv, refit='mcc', verbose=0)\n",
    "    clf2.fit(features, labels)\n",
    "    mcc2 = clf2.cv_results_['mean_test_mcc'][clf2.best_index_]\n",
    "    f12 =  clf2.cv_results_['mean_test_f1'][clf2.best_index_]\n",
    "    pre2 = clf2.cv_results_['mean_test_precision'][clf2.best_index_]\n",
    "    rec2 = clf2.cv_results_['mean_test_recall'][clf2.best_index_]\n",
    "    acc2 = clf2.cv_results_['mean_test_accuracy'][clf2.best_index_]\n",
    "    \n",
    "    results = [features_list[k-1], k, mcc1, f11, pre1, rec1, acc1, mcc2, f12, pre2, rec2, acc2]\n",
    "    return results"
   ]
  },
  {
   "cell_type": "code",
   "execution_count": 103,
   "metadata": {
    "scrolled": true
   },
   "outputs": [
    {
     "name": "stdout",
     "output_type": "stream",
     "text": [
      "Testing k=1\n",
      "Testing k=2\n",
      "Testing k=3\n",
      "Testing k=4\n",
      "Testing k=5\n",
      "Testing k=6\n",
      "Testing k=7\n",
      "Testing k=8\n",
      "Testing k=9\n",
      "Testing k=10\n",
      "Testing k=11\n",
      "Testing k=12\n",
      "Testing k=13\n",
      "Finished\n"
     ]
    }
   ],
   "source": [
    "test_results = []\n",
    "for k in range(1,14):\n",
    "    print('Testing k={}'.format(k))\n",
    "    result = test_k(features_ranked, k)\n",
    "    test_results.append(result)\n",
    "print('Finished')"
   ]
  },
  {
   "cell_type": "code",
   "execution_count": 104,
   "metadata": {},
   "outputs": [
    {
     "data": {
      "text/html": [
       "<div>\n",
       "<style>\n",
       "    .dataframe thead tr:only-child th {\n",
       "        text-align: right;\n",
       "    }\n",
       "\n",
       "    .dataframe thead th {\n",
       "        text-align: left;\n",
       "    }\n",
       "\n",
       "    .dataframe tbody tr th {\n",
       "        vertical-align: top;\n",
       "    }\n",
       "</style>\n",
       "<table border=\"1\" class=\"dataframe\">\n",
       "  <thead>\n",
       "    <tr style=\"text-align: right;\">\n",
       "      <th></th>\n",
       "      <th>feature added</th>\n",
       "      <th>k</th>\n",
       "      <th>svc_mcc</th>\n",
       "      <th>svc_f1</th>\n",
       "      <th>svc_pre</th>\n",
       "      <th>svc_rec</th>\n",
       "      <th>svc_acc</th>\n",
       "      <th>dt_mcc</th>\n",
       "      <th>dt_f1</th>\n",
       "      <th>dt_pre</th>\n",
       "      <th>dt_rec</th>\n",
       "      <th>dt_acc</th>\n",
       "    </tr>\n",
       "  </thead>\n",
       "  <tbody>\n",
       "    <tr>\n",
       "      <th>0</th>\n",
       "      <td>exercised_stock_options</td>\n",
       "      <td>1</td>\n",
       "      <td>0.183206</td>\n",
       "      <td>0.275481</td>\n",
       "      <td>0.273405</td>\n",
       "      <td>0.300</td>\n",
       "      <td>0.822791</td>\n",
       "      <td>0.081012</td>\n",
       "      <td>0.203668</td>\n",
       "      <td>0.156438</td>\n",
       "      <td>0.376</td>\n",
       "      <td>0.693488</td>\n",
       "    </tr>\n",
       "    <tr>\n",
       "      <th>1</th>\n",
       "      <td>total_stock_value</td>\n",
       "      <td>2</td>\n",
       "      <td>0.164878</td>\n",
       "      <td>0.263342</td>\n",
       "      <td>0.249906</td>\n",
       "      <td>0.300</td>\n",
       "      <td>0.811628</td>\n",
       "      <td>0.075710</td>\n",
       "      <td>0.192084</td>\n",
       "      <td>0.177444</td>\n",
       "      <td>0.224</td>\n",
       "      <td>0.784186</td>\n",
       "    </tr>\n",
       "    <tr>\n",
       "      <th>2</th>\n",
       "      <td>bonus</td>\n",
       "      <td>3</td>\n",
       "      <td>0.222942</td>\n",
       "      <td>0.311139</td>\n",
       "      <td>0.295520</td>\n",
       "      <td>0.348</td>\n",
       "      <td>0.829767</td>\n",
       "      <td>0.179445</td>\n",
       "      <td>0.268247</td>\n",
       "      <td>0.274283</td>\n",
       "      <td>0.284</td>\n",
       "      <td>0.827907</td>\n",
       "    </tr>\n",
       "    <tr>\n",
       "      <th>3</th>\n",
       "      <td>salary</td>\n",
       "      <td>4</td>\n",
       "      <td>0.217347</td>\n",
       "      <td>0.315207</td>\n",
       "      <td>0.250460</td>\n",
       "      <td>0.452</td>\n",
       "      <td>0.782326</td>\n",
       "      <td>0.071898</td>\n",
       "      <td>0.175272</td>\n",
       "      <td>0.177601</td>\n",
       "      <td>0.184</td>\n",
       "      <td>0.807442</td>\n",
       "    </tr>\n",
       "    <tr>\n",
       "      <th>4</th>\n",
       "      <td>to_poi_ratio</td>\n",
       "      <td>5</td>\n",
       "      <td>0.350369</td>\n",
       "      <td>0.419058</td>\n",
       "      <td>0.317967</td>\n",
       "      <td>0.656</td>\n",
       "      <td>0.792093</td>\n",
       "      <td>0.195031</td>\n",
       "      <td>0.276283</td>\n",
       "      <td>0.281119</td>\n",
       "      <td>0.304</td>\n",
       "      <td>0.831628</td>\n",
       "    </tr>\n",
       "    <tr>\n",
       "      <th>5</th>\n",
       "      <td>deferred_income</td>\n",
       "      <td>6</td>\n",
       "      <td>0.320127</td>\n",
       "      <td>0.394541</td>\n",
       "      <td>0.303765</td>\n",
       "      <td>0.604</td>\n",
       "      <td>0.793488</td>\n",
       "      <td>0.153568</td>\n",
       "      <td>0.235803</td>\n",
       "      <td>0.241500</td>\n",
       "      <td>0.252</td>\n",
       "      <td>0.835349</td>\n",
       "    </tr>\n",
       "    <tr>\n",
       "      <th>6</th>\n",
       "      <td>long_term_incentive</td>\n",
       "      <td>7</td>\n",
       "      <td>0.303351</td>\n",
       "      <td>0.381437</td>\n",
       "      <td>0.293314</td>\n",
       "      <td>0.588</td>\n",
       "      <td>0.786977</td>\n",
       "      <td>0.133484</td>\n",
       "      <td>0.211502</td>\n",
       "      <td>0.246452</td>\n",
       "      <td>0.204</td>\n",
       "      <td>0.838605</td>\n",
       "    </tr>\n",
       "    <tr>\n",
       "      <th>7</th>\n",
       "      <td>restricted_stock</td>\n",
       "      <td>8</td>\n",
       "      <td>0.296001</td>\n",
       "      <td>0.375285</td>\n",
       "      <td>0.284912</td>\n",
       "      <td>0.588</td>\n",
       "      <td>0.782326</td>\n",
       "      <td>0.111067</td>\n",
       "      <td>0.195280</td>\n",
       "      <td>0.232452</td>\n",
       "      <td>0.184</td>\n",
       "      <td>0.829767</td>\n",
       "    </tr>\n",
       "    <tr>\n",
       "      <th>8</th>\n",
       "      <td>total_payments</td>\n",
       "      <td>9</td>\n",
       "      <td>0.296697</td>\n",
       "      <td>0.375951</td>\n",
       "      <td>0.285639</td>\n",
       "      <td>0.588</td>\n",
       "      <td>0.782791</td>\n",
       "      <td>0.095763</td>\n",
       "      <td>0.178914</td>\n",
       "      <td>0.204976</td>\n",
       "      <td>0.172</td>\n",
       "      <td>0.829302</td>\n",
       "    </tr>\n",
       "    <tr>\n",
       "      <th>9</th>\n",
       "      <td>expenses</td>\n",
       "      <td>10</td>\n",
       "      <td>0.265657</td>\n",
       "      <td>0.354850</td>\n",
       "      <td>0.280825</td>\n",
       "      <td>0.516</td>\n",
       "      <td>0.788837</td>\n",
       "      <td>0.170631</td>\n",
       "      <td>0.254071</td>\n",
       "      <td>0.277500</td>\n",
       "      <td>0.260</td>\n",
       "      <td>0.833488</td>\n",
       "    </tr>\n",
       "    <tr>\n",
       "      <th>10</th>\n",
       "      <td>other</td>\n",
       "      <td>11</td>\n",
       "      <td>0.265301</td>\n",
       "      <td>0.354770</td>\n",
       "      <td>0.278806</td>\n",
       "      <td>0.520</td>\n",
       "      <td>0.786977</td>\n",
       "      <td>0.171424</td>\n",
       "      <td>0.253268</td>\n",
       "      <td>0.269000</td>\n",
       "      <td>0.268</td>\n",
       "      <td>0.834884</td>\n",
       "    </tr>\n",
       "    <tr>\n",
       "      <th>11</th>\n",
       "      <td>from_poi_ratio</td>\n",
       "      <td>12</td>\n",
       "      <td>0.228233</td>\n",
       "      <td>0.326552</td>\n",
       "      <td>0.253608</td>\n",
       "      <td>0.492</td>\n",
       "      <td>0.768837</td>\n",
       "      <td>0.192134</td>\n",
       "      <td>0.273961</td>\n",
       "      <td>0.299675</td>\n",
       "      <td>0.276</td>\n",
       "      <td>0.836279</td>\n",
       "    </tr>\n",
       "    <tr>\n",
       "      <th>12</th>\n",
       "      <td>deferral_payments</td>\n",
       "      <td>13</td>\n",
       "      <td>0.231180</td>\n",
       "      <td>0.329446</td>\n",
       "      <td>0.257473</td>\n",
       "      <td>0.492</td>\n",
       "      <td>0.770233</td>\n",
       "      <td>0.177864</td>\n",
       "      <td>0.260151</td>\n",
       "      <td>0.282558</td>\n",
       "      <td>0.264</td>\n",
       "      <td>0.835349</td>\n",
       "    </tr>\n",
       "  </tbody>\n",
       "</table>\n",
       "</div>"
      ],
      "text/plain": [
       "              feature added   k   svc_mcc    svc_f1   svc_pre  svc_rec  \\\n",
       "0   exercised_stock_options   1  0.183206  0.275481  0.273405    0.300   \n",
       "1         total_stock_value   2  0.164878  0.263342  0.249906    0.300   \n",
       "2                     bonus   3  0.222942  0.311139  0.295520    0.348   \n",
       "3                    salary   4  0.217347  0.315207  0.250460    0.452   \n",
       "4              to_poi_ratio   5  0.350369  0.419058  0.317967    0.656   \n",
       "5           deferred_income   6  0.320127  0.394541  0.303765    0.604   \n",
       "6       long_term_incentive   7  0.303351  0.381437  0.293314    0.588   \n",
       "7          restricted_stock   8  0.296001  0.375285  0.284912    0.588   \n",
       "8            total_payments   9  0.296697  0.375951  0.285639    0.588   \n",
       "9                  expenses  10  0.265657  0.354850  0.280825    0.516   \n",
       "10                    other  11  0.265301  0.354770  0.278806    0.520   \n",
       "11           from_poi_ratio  12  0.228233  0.326552  0.253608    0.492   \n",
       "12        deferral_payments  13  0.231180  0.329446  0.257473    0.492   \n",
       "\n",
       "     svc_acc    dt_mcc     dt_f1    dt_pre  dt_rec    dt_acc  \n",
       "0   0.822791  0.081012  0.203668  0.156438   0.376  0.693488  \n",
       "1   0.811628  0.075710  0.192084  0.177444   0.224  0.784186  \n",
       "2   0.829767  0.179445  0.268247  0.274283   0.284  0.827907  \n",
       "3   0.782326  0.071898  0.175272  0.177601   0.184  0.807442  \n",
       "4   0.792093  0.195031  0.276283  0.281119   0.304  0.831628  \n",
       "5   0.793488  0.153568  0.235803  0.241500   0.252  0.835349  \n",
       "6   0.786977  0.133484  0.211502  0.246452   0.204  0.838605  \n",
       "7   0.782326  0.111067  0.195280  0.232452   0.184  0.829767  \n",
       "8   0.782791  0.095763  0.178914  0.204976   0.172  0.829302  \n",
       "9   0.788837  0.170631  0.254071  0.277500   0.260  0.833488  \n",
       "10  0.786977  0.171424  0.253268  0.269000   0.268  0.834884  \n",
       "11  0.768837  0.192134  0.273961  0.299675   0.276  0.836279  \n",
       "12  0.770233  0.177864  0.260151  0.282558   0.264  0.835349  "
      ]
     },
     "execution_count": 104,
     "metadata": {},
     "output_type": "execute_result"
    }
   ],
   "source": [
    "result = pd.DataFrame(test_results, columns=['feature added', 'k', 'svc_mcc', 'svc_f1', 'svc_pre', 'svc_rec', 'svc_acc',\n",
    "                                        'dt_mcc', 'dt_f1', 'dt_pre', 'dt_rec', 'dt_acc'])\n",
    "result"
   ]
  },
  {
   "cell_type": "code",
   "execution_count": 105,
   "metadata": {
    "scrolled": true
   },
   "outputs": [
    {
     "data": {
      "image/png": "[encoded data removed]",
      "text/plain": [
       "<matplotlib.figure.Figure at 0x7f7f995558d0>"
      ]
     },
     "metadata": {},
     "output_type": "display_data"
    }
   ],
   "source": [
    "plt.plot(result['k'], result['svc_mcc'], 'o-', result['k'], result['dt_mcc'], 'o-')\n",
    "plt.title('MCC')\n",
    "plt.legend(['SVM', 'Decision Tree'])\n",
    "plt.show()"
   ]
  },
  {
   "cell_type": "code",
   "execution_count": 106,
   "metadata": {},
   "outputs": [
    {
     "data": {
      "image/png": "[encoded data removed]",
      "text/plain": [
       "<matplotlib.figure.Figure at 0x7f7f9963e9b0>"
      ]
     },
     "metadata": {},
     "output_type": "display_data"
    }
   ],
   "source": [
    "plt.plot(result['k'], result['svc_rec'], 'o-', result['k'], result['dt_rec'], 'o-')\n",
    "plt.title('Recall')\n",
    "plt.legend(['SVM', 'Decision Tree'])\n",
    "plt.show()"
   ]
  },
  {
   "cell_type": "code",
   "execution_count": 107,
   "metadata": {},
   "outputs": [
    {
     "data": {
      "image/png": "[encoded data removed]",
      "text/plain": [
       "<matplotlib.figure.Figure at 0x7f7f994b6cf8>"
      ]
     },
     "metadata": {},
     "output_type": "display_data"
    }
   ],
   "source": [
    "plt.plot(result['k'], result['svc_pre'], 'o-', result['k'], result['dt_pre'], 'o-')\n",
    "plt.title('Precision')\n",
    "plt.legend(['SVM', 'Decision Tree'])\n",
    "plt.show()"
   ]
  },
  {
   "cell_type": "markdown",
   "metadata": {},
   "source": [
    "In these plots, it becomes evident that the best value for k is 5, for both algorithms and the MCC and Recall metrics. However, there's a one interesting observations:\n",
    "* The addition of features #2, #4, #6, #7, #8, #9 and (to a lesser extent) #11 appear to decrease the performance across the board (with few exceptions)."
   ]
  },
  {
   "cell_type": "markdown",
   "metadata": {},
   "source": [
    "What if removing those features yields better results? "
   ]
  },
  {
   "cell_type": "code",
   "execution_count": 50,
   "metadata": {
    "collapsed": true
   },
   "outputs": [],
   "source": [
    "hand_picked = features_ranked.copy()\n",
    "j=0\n",
    "for i in [1,3,5,6,7,8,10]:\n",
    "    hand_picked.remove(features_ranked[i])"
   ]
  },
  {
   "cell_type": "code",
   "execution_count": 51,
   "metadata": {},
   "outputs": [
    {
     "data": {
      "text/plain": [
       "['exercised_stock_options',\n",
       " 'bonus',\n",
       " 'to_poi_ratio',\n",
       " 'expenses',\n",
       " 'from_poi_ratio',\n",
       " 'deferral_payments']"
      ]
     },
     "execution_count": 51,
     "metadata": {},
     "output_type": "execute_result"
    }
   ],
   "source": [
    "hand_picked"
   ]
  },
  {
   "cell_type": "code",
   "execution_count": 52,
   "metadata": {},
   "outputs": [
    {
     "name": "stdout",
     "output_type": "stream",
     "text": [
      "Testing k=1\n",
      "Testing k=2\n",
      "Testing k=3\n",
      "Testing k=4\n",
      "Testing k=5\n",
      "Testing k=6\n",
      "Finished\n"
     ]
    }
   ],
   "source": [
    "test_results = []\n",
    "for k in range(1,7):\n",
    "    print('Testing k={}'.format(k))\n",
    "    result = test_k(hand_picked, k)\n",
    "    test_results.append(result)\n",
    "print('Finished')"
   ]
  },
  {
   "cell_type": "code",
   "execution_count": 53,
   "metadata": {},
   "outputs": [
    {
     "data": {
      "text/html": [
       "<div>\n",
       "<style>\n",
       "    .dataframe thead tr:only-child th {\n",
       "        text-align: right;\n",
       "    }\n",
       "\n",
       "    .dataframe thead th {\n",
       "        text-align: left;\n",
       "    }\n",
       "\n",
       "    .dataframe tbody tr th {\n",
       "        vertical-align: top;\n",
       "    }\n",
       "</style>\n",
       "<table border=\"1\" class=\"dataframe\">\n",
       "  <thead>\n",
       "    <tr style=\"text-align: right;\">\n",
       "      <th></th>\n",
       "      <th>feature added</th>\n",
       "      <th>k</th>\n",
       "      <th>svc_mcc</th>\n",
       "      <th>svc_f1</th>\n",
       "      <th>svc_pre</th>\n",
       "      <th>svc_rec</th>\n",
       "      <th>svc_acc</th>\n",
       "      <th>dt_mcc</th>\n",
       "      <th>dt_f1</th>\n",
       "      <th>dt_pre</th>\n",
       "      <th>dt_rec</th>\n",
       "      <th>dt_acc</th>\n",
       "    </tr>\n",
       "  </thead>\n",
       "  <tbody>\n",
       "    <tr>\n",
       "      <th>0</th>\n",
       "      <td>exercised_stock_options</td>\n",
       "      <td>1</td>\n",
       "      <td>0.183206</td>\n",
       "      <td>0.275481</td>\n",
       "      <td>0.273405</td>\n",
       "      <td>0.300</td>\n",
       "      <td>0.822791</td>\n",
       "      <td>0.081012</td>\n",
       "      <td>0.203668</td>\n",
       "      <td>0.156438</td>\n",
       "      <td>0.376</td>\n",
       "      <td>0.693488</td>\n",
       "    </tr>\n",
       "    <tr>\n",
       "      <th>1</th>\n",
       "      <td>bonus</td>\n",
       "      <td>2</td>\n",
       "      <td>0.228897</td>\n",
       "      <td>0.314223</td>\n",
       "      <td>0.305351</td>\n",
       "      <td>0.344</td>\n",
       "      <td>0.834419</td>\n",
       "      <td>0.215937</td>\n",
       "      <td>0.295005</td>\n",
       "      <td>0.319415</td>\n",
       "      <td>0.304</td>\n",
       "      <td>0.839070</td>\n",
       "    </tr>\n",
       "    <tr>\n",
       "      <th>2</th>\n",
       "      <td>to_poi_ratio</td>\n",
       "      <td>3</td>\n",
       "      <td>0.326742</td>\n",
       "      <td>0.402782</td>\n",
       "      <td>0.318242</td>\n",
       "      <td>0.592</td>\n",
       "      <td>0.800465</td>\n",
       "      <td>0.252803</td>\n",
       "      <td>0.322194</td>\n",
       "      <td>0.348206</td>\n",
       "      <td>0.332</td>\n",
       "      <td>0.851628</td>\n",
       "    </tr>\n",
       "    <tr>\n",
       "      <th>3</th>\n",
       "      <td>expenses</td>\n",
       "      <td>4</td>\n",
       "      <td>0.304589</td>\n",
       "      <td>0.388691</td>\n",
       "      <td>0.310326</td>\n",
       "      <td>0.552</td>\n",
       "      <td>0.799535</td>\n",
       "      <td>0.254273</td>\n",
       "      <td>0.312312</td>\n",
       "      <td>0.378786</td>\n",
       "      <td>0.300</td>\n",
       "      <td>0.861860</td>\n",
       "    </tr>\n",
       "    <tr>\n",
       "      <th>4</th>\n",
       "      <td>from_poi_ratio</td>\n",
       "      <td>5</td>\n",
       "      <td>0.296986</td>\n",
       "      <td>0.381602</td>\n",
       "      <td>0.296099</td>\n",
       "      <td>0.568</td>\n",
       "      <td>0.787907</td>\n",
       "      <td>0.257919</td>\n",
       "      <td>0.319545</td>\n",
       "      <td>0.367786</td>\n",
       "      <td>0.312</td>\n",
       "      <td>0.860000</td>\n",
       "    </tr>\n",
       "    <tr>\n",
       "      <th>5</th>\n",
       "      <td>deferral_payments</td>\n",
       "      <td>6</td>\n",
       "      <td>0.280761</td>\n",
       "      <td>0.369213</td>\n",
       "      <td>0.290450</td>\n",
       "      <td>0.544</td>\n",
       "      <td>0.783721</td>\n",
       "      <td>0.297573</td>\n",
       "      <td>0.361290</td>\n",
       "      <td>0.393500</td>\n",
       "      <td>0.360</td>\n",
       "      <td>0.863721</td>\n",
       "    </tr>\n",
       "  </tbody>\n",
       "</table>\n",
       "</div>"
      ],
      "text/plain": [
       "             feature added  k   svc_mcc    svc_f1   svc_pre  svc_rec  \\\n",
       "0  exercised_stock_options  1  0.183206  0.275481  0.273405    0.300   \n",
       "1                    bonus  2  0.228897  0.314223  0.305351    0.344   \n",
       "2             to_poi_ratio  3  0.326742  0.402782  0.318242    0.592   \n",
       "3                 expenses  4  0.304589  0.388691  0.310326    0.552   \n",
       "4           from_poi_ratio  5  0.296986  0.381602  0.296099    0.568   \n",
       "5        deferral_payments  6  0.280761  0.369213  0.290450    0.544   \n",
       "\n",
       "    svc_acc    dt_mcc     dt_f1    dt_pre  dt_rec    dt_acc  \n",
       "0  0.822791  0.081012  0.203668  0.156438   0.376  0.693488  \n",
       "1  0.834419  0.215937  0.295005  0.319415   0.304  0.839070  \n",
       "2  0.800465  0.252803  0.322194  0.348206   0.332  0.851628  \n",
       "3  0.799535  0.254273  0.312312  0.378786   0.300  0.861860  \n",
       "4  0.787907  0.257919  0.319545  0.367786   0.312  0.860000  \n",
       "5  0.783721  0.297573  0.361290  0.393500   0.360  0.863721  "
      ]
     },
     "execution_count": 53,
     "metadata": {},
     "output_type": "execute_result"
    }
   ],
   "source": [
    "result_hp = pd.DataFrame(test_results, columns=['feature added', 'k', 'svc_mcc', 'svc_f1', 'svc_pre', 'svc_rec', 'svc_acc',\n",
    "                                        'dt_mcc', 'dt_f1', 'dt_pre', 'dt_rec', 'dt_acc'])\n",
    "result_hp"
   ]
  },
  {
   "cell_type": "code",
   "execution_count": 108,
   "metadata": {},
   "outputs": [
    {
     "data": {
      "image/png": "[encoded data removed]",
      "text/plain": [
       "<matplotlib.figure.Figure at 0x7f7f996f8390>"
      ]
     },
     "metadata": {},
     "output_type": "display_data"
    }
   ],
   "source": [
    "plt.plot(result_hp['k'], result_hp['svc_mcc'], 'o-', result_hp['k'], result_hp['dt_mcc'], 'o-')\n",
    "plt.title('MCC')\n",
    "plt.legend(['SVM', 'Decision Tree'])\n",
    "plt.show()"
   ]
  },
  {
   "cell_type": "code",
   "execution_count": 109,
   "metadata": {},
   "outputs": [
    {
     "data": {
      "image/png": "[encoded data removed]",
      "text/plain": [
       "<matplotlib.figure.Figure at 0x7f7f83dd2908>"
      ]
     },
     "metadata": {},
     "output_type": "display_data"
    }
   ],
   "source": [
    "plt.plot(result_hp['k'], result_hp['svc_rec'], 'o-', result_hp['k'], result_hp['dt_rec'], 'o-')\n",
    "plt.title('Recall')\n",
    "plt.legend(['SVM', 'Decision Tree'])\n",
    "plt.show()"
   ]
  },
  {
   "cell_type": "code",
   "execution_count": 110,
   "metadata": {},
   "outputs": [
    {
     "data": {
      "image/png": "[encoded data removed]",
      "text/plain": [
       "<matplotlib.figure.Figure at 0x7f7f8e923630>"
      ]
     },
     "metadata": {},
     "output_type": "display_data"
    }
   ],
   "source": [
    "plt.plot(result_hp['k'], result_hp['svc_pre'], 'o-', result_hp['k'], result_hp['dt_pre'], 'o-')\n",
    "plt.title('Precision')\n",
    "plt.legend(['SVM', 'Decision Tree'])\n",
    "plt.show()"
   ]
  },
  {
   "cell_type": "markdown",
   "metadata": {},
   "source": [
    "This approach was extremely beneficial for the Decision Tree algorithm. The SVC suffered a bit, but not enough to not use the hand picked features for the rest of the project."
   ]
  },
  {
   "cell_type": "code",
   "execution_count": 57,
   "metadata": {
    "collapsed": true
   },
   "outputs": [],
   "source": [
    "selector = SelectKBest(k=6)\n",
    "filtered = selector.fit_transform(df[hand_picked], df.poi)\n",
    "selected_features = []\n",
    "for (feature, selected) in zip(hand_picked, selector.get_support()):\n",
    "    if selected:\n",
    "        selected_features.append(feature)"
   ]
  },
  {
   "cell_type": "code",
   "execution_count": 58,
   "metadata": {},
   "outputs": [
    {
     "data": {
      "text/plain": [
       "<matplotlib.axes._subplots.AxesSubplot at 0x7f7f99681d30>"
      ]
     },
     "execution_count": 58,
     "metadata": {},
     "output_type": "execute_result"
    },
    {
     "data": {
      "image/png": "[encoded data removed]",
      "text/plain": [
       "<matplotlib.figure.Figure at 0x7f7f99380588>"
      ]
     },
     "metadata": {},
     "output_type": "display_data"
    }
   ],
   "source": [
    "selected = pd.DataFrame(filtered, columns = selected_features)\n",
    "corr = selected.corr()\n",
    "sns.heatmap(corr, xticklabels=corr.columns,\n",
    "            yticklabels=corr.columns, cmap='RdBu', \n",
    "            vmin = -1.0, vmax = 1.0, annot = True)"
   ]
  },
  {
   "cell_type": "code",
   "execution_count": 59,
   "metadata": {
    "collapsed": true
   },
   "outputs": [],
   "source": [
    "features = df[hand_picked].values\n",
    "labels = df.poi.values"
   ]
  },
  {
   "cell_type": "markdown",
   "metadata": {},
   "source": [
    "## Model Selection"
   ]
  },
  {
   "cell_type": "markdown",
   "metadata": {},
   "source": [
    "Everything is in order to start the tests. Each model will be run in 3 times (2 if the model has already reached its best performance):\n",
    "* First run: General range of parameters of different magnitudes\n",
    "* Second run: Specific parameter range\n",
    "* Third run: Fine tuning\n",
    "\n",
    "Afterwards a summary of findings is presented."
   ]
  },
  {
   "cell_type": "markdown",
   "metadata": {},
   "source": [
    "### Linear SVM Classifier"
   ]
  },
  {
   "cell_type": "markdown",
   "metadata": {},
   "source": [
    "#### First run"
   ]
  },
  {
   "cell_type": "code",
   "execution_count": 60,
   "metadata": {},
   "outputs": [
    {
     "name": "stdout",
     "output_type": "stream",
     "text": [
      "Fitting 50 folds for each of 34 candidates, totalling 1700 fits\n"
     ]
    },
    {
     "name": "stderr",
     "output_type": "stream",
     "text": [
      "[Parallel(n_jobs=10)]: Done 220 tasks      | elapsed:    0.4s\n",
      "[Parallel(n_jobs=10)]: Done 1700 out of 1700 | elapsed:    1.8s finished\n"
     ]
    },
    {
     "data": {
      "text/plain": [
       "GridSearchCV(cv=StratifiedShuffleSplit(n_splits=50, random_state=42, test_size=0.3,\n",
       "            train_size=None),\n",
       "       error_score='raise',\n",
       "       estimator=LinearSVC(C=1.0, class_weight=None, dual=True, fit_intercept=True,\n",
       "     intercept_scaling=1, loss='squared_hinge', max_iter=1000,\n",
       "     multi_class='ovr', penalty='l2', random_state=42, tol=0.0001,\n",
       "     verbose=0),\n",
       "       fit_params=None, iid=True, n_jobs=10,\n",
       "       param_grid={'C': [1, 2, 3, 5, 10, 15, 20, 50, 100, 200, 300, 400, 500, 1000, 2500, 5000, 10000], 'class_weight': [None, 'balanced']},\n",
       "       pre_dispatch='2*n_jobs', refit='mcc', return_train_score=True,\n",
       "       scoring={'mcc': make_scorer(matthews_corrcoef), 'accuracy': 'accuracy', 'f1': 'f1', 'recall': 'recall', 'precision': 'precision'},\n",
       "       verbose=1)"
      ]
     },
     "execution_count": 60,
     "metadata": {},
     "output_type": "execute_result"
    }
   ],
   "source": [
    "parameters = {'C': [1,2,3,5,10,15,20,50,100,200,300,400,500,1000,2500,5000,10000],\n",
    "              'class_weight': [None, 'balanced']}\n",
    "bclf = LinearSVC(random_state=42)\n",
    "clf = GridSearchCV(bclf, parameters, scoring=scorers,\n",
    "                   n_jobs=10, cv=cv, refit='mcc', verbose=1)\n",
    "clf.fit(features, labels)"
   ]
  },
  {
   "cell_type": "code",
   "execution_count": 61,
   "metadata": {},
   "outputs": [
    {
     "name": "stdout",
     "output_type": "stream",
     "text": [
      "LinearSVC(C=200, class_weight='balanced', dual=True, fit_intercept=True,\n",
      "     intercept_scaling=1, loss='squared_hinge', max_iter=1000,\n",
      "     multi_class='ovr', penalty='l2', random_state=42, tol=0.0001,\n",
      "     verbose=0)\n",
      "MCC:       0.3045\n",
      "F1:        0.3827\n",
      "Precision: 0.3649\n",
      "Recall:    0.4720\n",
      "Accuracy:  0.8181\n"
     ]
    }
   ],
   "source": [
    "lsvm = print_summary(clf)"
   ]
  },
  {
   "cell_type": "markdown",
   "metadata": {},
   "source": [
    "#### Second run"
   ]
  },
  {
   "cell_type": "code",
   "execution_count": 62,
   "metadata": {},
   "outputs": [
    {
     "name": "stdout",
     "output_type": "stream",
     "text": [
      "Fitting 50 folds for each of 42 candidates, totalling 2100 fits\n"
     ]
    },
    {
     "name": "stderr",
     "output_type": "stream",
     "text": [
      "[Parallel(n_jobs=10)]: Done 180 tasks      | elapsed:    0.4s\n",
      "[Parallel(n_jobs=10)]: Done 2100 out of 2100 | elapsed:    2.3s finished\n"
     ]
    },
    {
     "data": {
      "text/plain": [
       "GridSearchCV(cv=StratifiedShuffleSplit(n_splits=50, random_state=42, test_size=0.3,\n",
       "            train_size=None),\n",
       "       error_score='raise',\n",
       "       estimator=LinearSVC(C=1.0, class_weight=None, dual=True, fit_intercept=True,\n",
       "     intercept_scaling=1, loss='squared_hinge', max_iter=1000,\n",
       "     multi_class='ovr', penalty='l2', random_state=42, tol=0.0001,\n",
       "     verbose=0),\n",
       "       fit_params=None, iid=True, n_jobs=10,\n",
       "       param_grid={'C': [100, 110, 120, 130, 140, 150, 160, 170, 180, 190, 200, 210, 220, 230, 240, 250, 260, 270, 280, 290, 300], 'class_weight': [None, 'balanced']},\n",
       "       pre_dispatch='2*n_jobs', refit='mcc', return_train_score=True,\n",
       "       scoring={'mcc': make_scorer(matthews_corrcoef), 'accuracy': 'accuracy', 'f1': 'f1', 'recall': 'recall', 'precision': 'precision'},\n",
       "       verbose=1)"
      ]
     },
     "execution_count": 62,
     "metadata": {},
     "output_type": "execute_result"
    }
   ],
   "source": [
    "parameters = {'C': [100,110,120,130,140,150,160,170,180,190,200,\n",
    "                    210,220,230,240,250,260,270,280,290,300],\n",
    "              'class_weight': [None, 'balanced']}\n",
    "bclf = LinearSVC(random_state=42)\n",
    "clf = GridSearchCV(bclf, parameters, scoring=scorers,\n",
    "                   n_jobs=10, cv=cv, refit='mcc', verbose=1)\n",
    "clf.fit(features, labels)"
   ]
  },
  {
   "cell_type": "code",
   "execution_count": 63,
   "metadata": {},
   "outputs": [
    {
     "name": "stdout",
     "output_type": "stream",
     "text": [
      "LinearSVC(C=270, class_weight='balanced', dual=True, fit_intercept=True,\n",
      "     intercept_scaling=1, loss='squared_hinge', max_iter=1000,\n",
      "     multi_class='ovr', penalty='l2', random_state=42, tol=0.0001,\n",
      "     verbose=0)\n",
      "MCC:       0.3185\n",
      "F1:        0.3863\n",
      "Precision: 0.3890\n",
      "Recall:    0.4440\n",
      "Accuracy:  0.8400\n"
     ]
    }
   ],
   "source": [
    "lsvm = print_summary(clf)"
   ]
  },
  {
   "cell_type": "markdown",
   "metadata": {},
   "source": [
    "#### Third run"
   ]
  },
  {
   "cell_type": "code",
   "execution_count": 64,
   "metadata": {},
   "outputs": [
    {
     "name": "stdout",
     "output_type": "stream",
     "text": [
      "Fitting 50 folds for each of 42 candidates, totalling 2100 fits\n"
     ]
    },
    {
     "name": "stderr",
     "output_type": "stream",
     "text": [
      "[Parallel(n_jobs=10)]: Done 180 tasks      | elapsed:    0.4s\n",
      "[Parallel(n_jobs=10)]: Done 2100 out of 2100 | elapsed:    2.3s finished\n"
     ]
    },
    {
     "data": {
      "text/plain": [
       "GridSearchCV(cv=StratifiedShuffleSplit(n_splits=50, random_state=42, test_size=0.3,\n",
       "            train_size=None),\n",
       "       error_score='raise',\n",
       "       estimator=LinearSVC(C=1.0, class_weight=None, dual=True, fit_intercept=True,\n",
       "     intercept_scaling=1, loss='squared_hinge', max_iter=1000,\n",
       "     multi_class='ovr', penalty='l2', random_state=42, tol=0.0001,\n",
       "     verbose=0),\n",
       "       fit_params=None, iid=True, n_jobs=10,\n",
       "       param_grid={'C': [260, 261, 262, 263, 264, 265, 266, 267, 268, 269, 270, 271, 272, 273, 274, 275, 276, 277, 278, 279, 280], 'class_weight': [None, 'balanced']},\n",
       "       pre_dispatch='2*n_jobs', refit='mcc', return_train_score=True,\n",
       "       scoring={'mcc': make_scorer(matthews_corrcoef), 'accuracy': 'accuracy', 'f1': 'f1', 'recall': 'recall', 'precision': 'precision'},\n",
       "       verbose=1)"
      ]
     },
     "execution_count": 64,
     "metadata": {},
     "output_type": "execute_result"
    }
   ],
   "source": [
    "parameters = {'C': [260,261,262,263,264,265,266,267,268,269,270,\n",
    "                    271,272,273,274,275,276,277,278,279,280],\n",
    "              'class_weight': [None, 'balanced']}\n",
    "bclf = LinearSVC(random_state=42)\n",
    "clf = GridSearchCV(bclf, parameters, scoring=scorers,\n",
    "                   n_jobs=10, cv=cv, refit='mcc', verbose=1)\n",
    "clf.fit(features, labels)"
   ]
  },
  {
   "cell_type": "code",
   "execution_count": 65,
   "metadata": {},
   "outputs": [
    {
     "name": "stdout",
     "output_type": "stream",
     "text": [
      "LinearSVC(C=269, class_weight='balanced', dual=True, fit_intercept=True,\n",
      "     intercept_scaling=1, loss='squared_hinge', max_iter=1000,\n",
      "     multi_class='ovr', penalty='l2', random_state=42, tol=0.0001,\n",
      "     verbose=0)\n",
      "MCC:       0.3242\n",
      "F1:        0.3897\n",
      "Precision: 0.3931\n",
      "Recall:    0.4600\n",
      "Accuracy:  0.8349\n"
     ]
    }
   ],
   "source": [
    "lsvm = print_summary(clf)"
   ]
  },
  {
   "cell_type": "markdown",
   "metadata": {},
   "source": [
    "#### Summary\n",
    "\n",
    "This model is limited, even tuning the parameters to a wide range of values can't increase it's performance to an acceptable level."
   ]
  },
  {
   "cell_type": "markdown",
   "metadata": {},
   "source": [
    "### KNeighbors Classifier"
   ]
  },
  {
   "cell_type": "markdown",
   "metadata": {},
   "source": [
    "#### First run"
   ]
  },
  {
   "cell_type": "code",
   "execution_count": 66,
   "metadata": {},
   "outputs": [
    {
     "name": "stdout",
     "output_type": "stream",
     "text": [
      "Fitting 50 folds for each of 960 candidates, totalling 48000 fits\n"
     ]
    },
    {
     "name": "stderr",
     "output_type": "stream",
     "text": [
      "[Parallel(n_jobs=10)]: Done 200 tasks      | elapsed:    0.3s\n",
      "[Parallel(n_jobs=10)]: Done 2900 tasks      | elapsed:    4.1s\n",
      "[Parallel(n_jobs=10)]: Done 7400 tasks      | elapsed:   10.0s\n",
      "[Parallel(n_jobs=10)]: Done 13700 tasks      | elapsed:   17.9s\n",
      "[Parallel(n_jobs=10)]: Done 21800 tasks      | elapsed:   29.7s\n",
      "[Parallel(n_jobs=10)]: Done 31700 tasks      | elapsed:   42.3s\n",
      "[Parallel(n_jobs=10)]: Done 43400 tasks      | elapsed:  1.1min\n",
      "[Parallel(n_jobs=10)]: Done 48000 out of 48000 | elapsed:  1.3min finished\n"
     ]
    },
    {
     "data": {
      "text/plain": [
       "GridSearchCV(cv=StratifiedShuffleSplit(n_splits=50, random_state=42, test_size=0.3,\n",
       "            train_size=None),\n",
       "       error_score='raise',\n",
       "       estimator=KNeighborsClassifier(algorithm='auto', leaf_size=30, metric='minkowski',\n",
       "           metric_params=None, n_jobs=1, n_neighbors=5, p=2,\n",
       "           weights='uniform'),\n",
       "       fit_params=None, iid=True, n_jobs=10,\n",
       "       param_grid={'n_neighbors': [1, 2, 3, 4, 5, 6, 7, 8, 9, 10], 'weights': ['uniform', 'distance'], 'algorithm': ['ball_tree', 'kd_tree', 'brute'], 'leaf_size': [1, 2, 5, 10, 20, 30, 40, 50], 'p': [1, 2]},\n",
       "       pre_dispatch='2*n_jobs', refit='mcc', return_train_score=True,\n",
       "       scoring={'mcc': make_scorer(matthews_corrcoef), 'accuracy': 'accuracy', 'f1': 'f1', 'recall': 'recall', 'precision': 'precision'},\n",
       "       verbose=1)"
      ]
     },
     "execution_count": 66,
     "metadata": {},
     "output_type": "execute_result"
    }
   ],
   "source": [
    "parameters = {'n_neighbors': [1, 2, 3, 4, 5, 6, 7, 8, 9, 10],\n",
    "              'weights': ['uniform', 'distance'],\n",
    "              'algorithm' : ['ball_tree', 'kd_tree', 'brute'],\n",
    "              'leaf_size': [1,2,5,10,20,30,40,50],\n",
    "              'p': [1,2]\n",
    "             }\n",
    "bclf = KNeighborsClassifier()\n",
    "clf = GridSearchCV(bclf, parameters, scoring=scorers,\n",
    "                   n_jobs=10, cv=cv, refit='mcc', verbose=1)\n",
    "clf.fit(features, labels)"
   ]
  },
  {
   "cell_type": "code",
   "execution_count": 67,
   "metadata": {},
   "outputs": [
    {
     "name": "stdout",
     "output_type": "stream",
     "text": [
      "KNeighborsClassifier(algorithm='ball_tree', leaf_size=1, metric='minkowski',\n",
      "           metric_params=None, n_jobs=1, n_neighbors=3, p=2,\n",
      "           weights='distance')\n",
      "MCC:       0.2595\n",
      "F1:        0.2798\n",
      "Precision: 0.4807\n",
      "Recall:    0.2120\n",
      "Accuracy:  0.8823\n"
     ]
    }
   ],
   "source": [
    "knc = print_summary(clf)"
   ]
  },
  {
   "cell_type": "markdown",
   "metadata": {},
   "source": [
    "#### Second run"
   ]
  },
  {
   "cell_type": "code",
   "execution_count": 68,
   "metadata": {},
   "outputs": [
    {
     "name": "stdout",
     "output_type": "stream",
     "text": [
      "Fitting 50 folds for each of 100 candidates, totalling 5000 fits\n"
     ]
    },
    {
     "name": "stderr",
     "output_type": "stream",
     "text": [
      "[Parallel(n_jobs=10)]: Done 180 tasks      | elapsed:    0.4s\n",
      "[Parallel(n_jobs=10)]: Done 5000 out of 5000 | elapsed:    6.6s finished\n"
     ]
    },
    {
     "data": {
      "text/plain": [
       "GridSearchCV(cv=StratifiedShuffleSplit(n_splits=50, random_state=42, test_size=0.3,\n",
       "            train_size=None),\n",
       "       error_score='raise',\n",
       "       estimator=KNeighborsClassifier(algorithm='auto', leaf_size=30, metric='minkowski',\n",
       "           metric_params=None, n_jobs=1, n_neighbors=5, p=2,\n",
       "           weights='uniform'),\n",
       "       fit_params=None, iid=True, n_jobs=10,\n",
       "       param_grid={'n_neighbors': [1, 2, 3, 4, 5], 'weights': ['distance'], 'algorithm': ['ball_tree'], 'leaf_size': [1, 2, 3, 4, 5, 6, 7, 8, 9, 10], 'p': [1, 2]},\n",
       "       pre_dispatch='2*n_jobs', refit='mcc', return_train_score=True,\n",
       "       scoring={'mcc': make_scorer(matthews_corrcoef), 'accuracy': 'accuracy', 'f1': 'f1', 'recall': 'recall', 'precision': 'precision'},\n",
       "       verbose=1)"
      ]
     },
     "execution_count": 68,
     "metadata": {},
     "output_type": "execute_result"
    }
   ],
   "source": [
    "parameters = {'n_neighbors': [1, 2, 3, 4, 5],\n",
    "              'weights': ['distance'],\n",
    "              'algorithm' : ['ball_tree'],\n",
    "              'leaf_size': [1,2,3,4,5,6,7,8,9,10],\n",
    "              'p': [1,2]\n",
    "             }\n",
    "bclf = KNeighborsClassifier()\n",
    "clf = GridSearchCV(bclf, parameters, scoring=scorers,\n",
    "                   n_jobs=10, cv=cv, refit='mcc', verbose=1)\n",
    "clf.fit(features, labels)"
   ]
  },
  {
   "cell_type": "code",
   "execution_count": 69,
   "metadata": {},
   "outputs": [
    {
     "name": "stdout",
     "output_type": "stream",
     "text": [
      "KNeighborsClassifier(algorithm='ball_tree', leaf_size=1, metric='minkowski',\n",
      "           metric_params=None, n_jobs=1, n_neighbors=3, p=2,\n",
      "           weights='distance')\n",
      "MCC:       0.2595\n",
      "F1:        0.2798\n",
      "Precision: 0.4807\n",
      "Recall:    0.2120\n",
      "Accuracy:  0.8823\n"
     ]
    }
   ],
   "source": [
    "knc = print_summary(clf)"
   ]
  },
  {
   "cell_type": "markdown",
   "metadata": {},
   "source": [
    "#### Summary\n",
    "\n",
    "While it achieved a higher accuracy, it came with the cost of much lower recall. The relatively good precision might be an asset."
   ]
  },
  {
   "cell_type": "markdown",
   "metadata": {},
   "source": [
    "### SVM Classifier (other kernels)"
   ]
  },
  {
   "cell_type": "markdown",
   "metadata": {},
   "source": [
    "#### First run"
   ]
  },
  {
   "cell_type": "code",
   "execution_count": 70,
   "metadata": {
    "scrolled": true
   },
   "outputs": [
    {
     "name": "stdout",
     "output_type": "stream",
     "text": [
      "Fitting 50 folds for each of 816 candidates, totalling 40800 fits\n"
     ]
    },
    {
     "name": "stderr",
     "output_type": "stream",
     "text": [
      "[Parallel(n_jobs=10)]: Done 200 tasks      | elapsed:    0.4s\n",
      "[Parallel(n_jobs=10)]: Done 7380 tasks      | elapsed:    7.1s\n",
      "[Parallel(n_jobs=10)]: Done 19880 tasks      | elapsed:   18.5s\n",
      "[Parallel(n_jobs=10)]: Done 37380 tasks      | elapsed:   34.8s\n",
      "[Parallel(n_jobs=10)]: Done 40800 out of 40800 | elapsed:   37.8s finished\n"
     ]
    },
    {
     "data": {
      "text/plain": [
       "GridSearchCV(cv=StratifiedShuffleSplit(n_splits=50, random_state=42, test_size=0.3,\n",
       "            train_size=None),\n",
       "       error_score='raise',\n",
       "       estimator=SVC(C=1.0, cache_size=200, class_weight=None, coef0=0.0,\n",
       "  decision_function_shape='ovr', degree=3, gamma='auto', kernel='rbf',\n",
       "  max_iter=-1, probability=False, random_state=42, shrinking=True,\n",
       "  tol=0.001, verbose=False),\n",
       "       fit_params=None, iid=True, n_jobs=10,\n",
       "       param_grid={'kernel': ['poly', 'rbf', 'sigmoid'], 'C': [1, 2, 3, 5, 10, 15, 20, 50, 100, 200, 300, 400, 500, 1000, 2500, 5000, 10000], 'gamma': [0.0001, 0.001, 0.01, 0.1, 1, 10, 25, 50], 'class_weight': [None, 'balanced']},\n",
       "       pre_dispatch='2*n_jobs', refit='mcc', return_train_score=True,\n",
       "       scoring={'mcc': make_scorer(matthews_corrcoef), 'accuracy': 'accuracy', 'f1': 'f1', 'recall': 'recall', 'precision': 'precision'},\n",
       "       verbose=1)"
      ]
     },
     "execution_count": 70,
     "metadata": {},
     "output_type": "execute_result"
    }
   ],
   "source": [
    "parameters = {'kernel': ['poly', 'rbf', 'sigmoid'],\n",
    "              'C': [1,2,3,5,10,15,20,50,100,200,300,400,500,1000,2500,5000,10000],\n",
    "              'gamma': [0.0001, 0.001, 0.01, 0.1, 1, 10, 25, 50],\n",
    "              'class_weight': [None, 'balanced']}\n",
    "bclf = SVC(random_state=42)\n",
    "clf = GridSearchCV(bclf, parameters, scoring=scorers,\n",
    "                   n_jobs=10, cv=cv, refit='mcc', verbose=1)\n",
    "clf.fit(features, labels)"
   ]
  },
  {
   "cell_type": "code",
   "execution_count": 71,
   "metadata": {},
   "outputs": [
    {
     "name": "stdout",
     "output_type": "stream",
     "text": [
      "SVC(C=15, cache_size=200, class_weight='balanced', coef0=0.0,\n",
      "  decision_function_shape='ovr', degree=3, gamma=10, kernel='poly',\n",
      "  max_iter=-1, probability=False, random_state=42, shrinking=True,\n",
      "  tol=0.001, verbose=False)\n",
      "MCC:       0.3421\n",
      "F1:        0.4107\n",
      "Precision: 0.4054\n",
      "Recall:    0.4600\n",
      "Accuracy:  0.8521\n"
     ]
    }
   ],
   "source": [
    "svm = print_summary(clf)"
   ]
  },
  {
   "cell_type": "markdown",
   "metadata": {},
   "source": [
    "#### Second run"
   ]
  },
  {
   "cell_type": "code",
   "execution_count": 72,
   "metadata": {},
   "outputs": [
    {
     "name": "stdout",
     "output_type": "stream",
     "text": [
      "Fitting 50 folds for each of 1440 candidates, totalling 72000 fits\n"
     ]
    },
    {
     "name": "stderr",
     "output_type": "stream",
     "text": [
      "[Parallel(n_jobs=10)]: Done 220 tasks      | elapsed:    0.4s\n",
      "[Parallel(n_jobs=10)]: Done 6300 tasks      | elapsed:    6.2s\n",
      "[Parallel(n_jobs=10)]: Done 16800 tasks      | elapsed:   16.3s\n",
      "[Parallel(n_jobs=10)]: Done 31500 tasks      | elapsed:   30.7s\n",
      "[Parallel(n_jobs=10)]: Done 50400 tasks      | elapsed:   48.8s\n",
      "[Parallel(n_jobs=10)]: Done 72000 out of 72000 | elapsed:  1.2min finished\n"
     ]
    },
    {
     "data": {
      "text/plain": [
       "GridSearchCV(cv=StratifiedShuffleSplit(n_splits=50, random_state=42, test_size=0.3,\n",
       "            train_size=None),\n",
       "       error_score='raise',\n",
       "       estimator=SVC(C=1.0, cache_size=200, class_weight=None, coef0=0.0,\n",
       "  decision_function_shape='ovr', degree=3, gamma='auto', kernel='rbf',\n",
       "  max_iter=-1, probability=False, random_state=42, shrinking=True,\n",
       "  tol=0.001, verbose=False),\n",
       "       fit_params=None, iid=True, n_jobs=10,\n",
       "       param_grid={'kernel': ['poly', 'rbf', 'sigmoid'], 'C': [5, 6, 7, 8, 9, 10, 11, 12, 13, 14, 15, 16, 17, 18, 19, 20], 'gamma': [1, 2, 3, 4, 5, 6, 7, 8, 9, 10, 11, 12, 13, 14, 15, 16, 17, 18, 19, 20, 21, 22, 23, 24, 25, 26, 27, 28, 29, 30], 'class_weight': ['balanced']},\n",
       "       pre_dispatch='2*n_jobs', refit='mcc', return_train_score=True,\n",
       "       scoring={'mcc': make_scorer(matthews_corrcoef), 'accuracy': 'accuracy', 'f1': 'f1', 'recall': 'recall', 'precision': 'precision'},\n",
       "       verbose=1)"
      ]
     },
     "execution_count": 72,
     "metadata": {},
     "output_type": "execute_result"
    }
   ],
   "source": [
    "parameters = {'kernel': ['poly', 'rbf', 'sigmoid'],\n",
    "              'C': [5,6,7,8,9,10,11,12,13,14,15,16,17,18,19,20],\n",
    "              'gamma': [1,2,3,4,5,6,7,8,9,10,11,12,13,14,15,16,17,18,19,20,\n",
    "                        21,22,23,24,25,26,27,28,29,30],\n",
    "              'class_weight': ['balanced']}\n",
    "bclf = SVC(random_state=42)\n",
    "clf = GridSearchCV(bclf, parameters, scoring=scorers,\n",
    "                   n_jobs=10, cv=cv, refit='mcc', verbose=1)\n",
    "clf.fit(features, labels)"
   ]
  },
  {
   "cell_type": "code",
   "execution_count": 73,
   "metadata": {},
   "outputs": [
    {
     "name": "stdout",
     "output_type": "stream",
     "text": [
      "SVC(C=6, cache_size=200, class_weight='balanced', coef0=0.0,\n",
      "  decision_function_shape='ovr', degree=3, gamma=3, kernel='sigmoid',\n",
      "  max_iter=-1, probability=False, random_state=42, shrinking=True,\n",
      "  tol=0.001, verbose=False)\n",
      "MCC:       0.3540\n",
      "F1:        0.4022\n",
      "Precision: 0.2679\n",
      "Recall:    0.8280\n",
      "Accuracy:  0.7140\n"
     ]
    }
   ],
   "source": [
    "svm = print_summary(clf)"
   ]
  },
  {
   "cell_type": "markdown",
   "metadata": {},
   "source": [
    "#### Third run "
   ]
  },
  {
   "cell_type": "code",
   "execution_count": 74,
   "metadata": {},
   "outputs": [
    {
     "name": "stdout",
     "output_type": "stream",
     "text": [
      "Fitting 50 folds for each of 400 candidates, totalling 20000 fits\n"
     ]
    },
    {
     "name": "stderr",
     "output_type": "stream",
     "text": [
      "[Parallel(n_jobs=10)]: Done 200 tasks      | elapsed:    0.5s\n",
      "[Parallel(n_jobs=10)]: Done 6820 tasks      | elapsed:    6.5s\n",
      "[Parallel(n_jobs=10)]: Done 18320 tasks      | elapsed:   17.0s\n",
      "[Parallel(n_jobs=10)]: Done 20000 out of 20000 | elapsed:   18.4s finished\n"
     ]
    },
    {
     "data": {
      "text/plain": [
       "GridSearchCV(cv=StratifiedShuffleSplit(n_splits=50, random_state=42, test_size=0.3,\n",
       "            train_size=None),\n",
       "       error_score='raise',\n",
       "       estimator=SVC(C=1.0, cache_size=200, class_weight=None, coef0=0.0,\n",
       "  decision_function_shape='ovr', degree=3, gamma='auto', kernel='rbf',\n",
       "  max_iter=-1, probability=False, random_state=42, shrinking=True,\n",
       "  tol=0.001, verbose=False),\n",
       "       fit_params=None, iid=True, n_jobs=10,\n",
       "       param_grid={'kernel': ['sigmoid'], 'C': [5.1, 5.2, 5.3, 5.4, 5.5, 5.6, 5.7, 5.8, 5.9, 6, 6.1, 6.2, 6.3, 6.4, 6.5, 6.6, 6.7, 6.8, 6.9, 7], 'gamma': [2.1, 2.2, 2.3, 2.4, 2.5, 2.6, 2.7, 2.8, 2.9, 3, 3.1, 3.2, 3.3, 3.4, 3.5, 3.6, 3.7, 3.8, 3.9, 4], 'class_weight': ['balanced']},\n",
       "       pre_dispatch='2*n_jobs', refit='mcc', return_train_score=True,\n",
       "       scoring={'mcc': make_scorer(matthews_corrcoef), 'accuracy': 'accuracy', 'f1': 'f1', 'recall': 'recall', 'precision': 'precision'},\n",
       "       verbose=1)"
      ]
     },
     "execution_count": 74,
     "metadata": {},
     "output_type": "execute_result"
    }
   ],
   "source": [
    "parameters = {'kernel': ['sigmoid'],\n",
    "              'C': [5.1,5.2,5.3,5.4,5.5,5.6,5.7,5.8,5.9,6,\n",
    "                    6.1,6.2,6.3,6.4,6.5,6.6,6.7,6.8,6.9,7],\n",
    "              'gamma': [2.1,2.2,2.3,2.4,2.5,2.6,2.7,2.8,2.9,3,\n",
    "                        3.1,3.2,3.3,3.4,3.5,3.6,3.7,3.8,3.9,4],\n",
    "              'class_weight': ['balanced']}\n",
    "bclf = SVC(random_state=42)\n",
    "clf = GridSearchCV(bclf, parameters, scoring=scorers,\n",
    "                   n_jobs=10, cv=cv, refit='mcc', verbose=1)\n",
    "clf.fit(features, labels)"
   ]
  },
  {
   "cell_type": "code",
   "execution_count": 75,
   "metadata": {},
   "outputs": [
    {
     "name": "stdout",
     "output_type": "stream",
     "text": [
      "SVC(C=5.4, cache_size=200, class_weight='balanced', coef0=0.0,\n",
      "  decision_function_shape='ovr', degree=3, gamma=3.9, kernel='sigmoid',\n",
      "  max_iter=-1, probability=False, random_state=42, shrinking=True,\n",
      "  tol=0.001, verbose=False)\n",
      "MCC:       0.3776\n",
      "F1:        0.4163\n",
      "Precision: 0.2766\n",
      "Recall:    0.8680\n",
      "Accuracy:  0.7149\n"
     ]
    }
   ],
   "source": [
    "svm = print_summary(clf)"
   ]
  },
  {
   "cell_type": "markdown",
   "metadata": {},
   "source": [
    "#### Summary\n",
    "\n",
    "This model was able to get a high recall score. However, it came with the price of lower accuracy and abysmal precision."
   ]
  },
  {
   "cell_type": "markdown",
   "metadata": {},
   "source": [
    "### Decision Trees"
   ]
  },
  {
   "cell_type": "markdown",
   "metadata": {},
   "source": [
    "#### First run"
   ]
  },
  {
   "cell_type": "code",
   "execution_count": 76,
   "metadata": {
    "scrolled": true
   },
   "outputs": [
    {
     "name": "stdout",
     "output_type": "stream",
     "text": [
      "Fitting 50 folds for each of 112 candidates, totalling 5600 fits\n"
     ]
    },
    {
     "name": "stderr",
     "output_type": "stream",
     "text": [
      "[Parallel(n_jobs=10)]: Done 240 tasks      | elapsed:    0.4s\n",
      "[Parallel(n_jobs=10)]: Done 3540 tasks      | elapsed:    2.6s\n",
      "[Parallel(n_jobs=10)]: Done 5600 out of 5600 | elapsed:    4.1s finished\n"
     ]
    },
    {
     "data": {
      "text/plain": [
       "GridSearchCV(cv=StratifiedShuffleSplit(n_splits=50, random_state=42, test_size=0.3,\n",
       "            train_size=None),\n",
       "       error_score='raise',\n",
       "       estimator=DecisionTreeClassifier(class_weight=None, criterion='gini', max_depth=None,\n",
       "            max_features=None, max_leaf_nodes=None,\n",
       "            min_impurity_decrease=0.0, min_impurity_split=None,\n",
       "            min_samples_leaf=1, min_samples_split=2,\n",
       "            min_weight_fraction_leaf=0.0, presort=False, random_state=42,\n",
       "            splitter='best'),\n",
       "       fit_params=None, iid=True, n_jobs=10,\n",
       "       param_grid={'criterion': ['gini', 'entropy'], 'max_features': ['auto', 'sqrt', 'log2', None], 'min_samples_leaf': [1, 2, 5, 10, 15, 20, 30], 'class_weight': [None, 'balanced']},\n",
       "       pre_dispatch='2*n_jobs', refit='mcc', return_train_score=True,\n",
       "       scoring={'mcc': make_scorer(matthews_corrcoef), 'accuracy': 'accuracy', 'f1': 'f1', 'recall': 'recall', 'precision': 'precision'},\n",
       "       verbose=1)"
      ]
     },
     "execution_count": 76,
     "metadata": {},
     "output_type": "execute_result"
    }
   ],
   "source": [
    "parameters = {'criterion': ['gini', 'entropy'],\n",
    "              'max_features': ['auto', 'sqrt', 'log2', None],\n",
    "              'min_samples_leaf': [1,2,5,10,15,20,30],\n",
    "              'class_weight': [None, 'balanced']}\n",
    "bclf = DecisionTreeClassifier(random_state=42)\n",
    "clf = GridSearchCV(bclf, parameters, scoring=scorers,\n",
    "                   n_jobs=10, cv=cv, refit='mcc', verbose=1)\n",
    "clf.fit(features, labels)"
   ]
  },
  {
   "cell_type": "code",
   "execution_count": 77,
   "metadata": {},
   "outputs": [
    {
     "name": "stdout",
     "output_type": "stream",
     "text": [
      "DecisionTreeClassifier(class_weight='balanced', criterion='entropy',\n",
      "            max_depth=None, max_features='auto', max_leaf_nodes=None,\n",
      "            min_impurity_decrease=0.0, min_impurity_split=None,\n",
      "            min_samples_leaf=20, min_samples_split=2,\n",
      "            min_weight_fraction_leaf=0.0, presort=False, random_state=42,\n",
      "            splitter='best')\n",
      "MCC:       0.4682\n",
      "F1:        0.5258\n",
      "Precision: 0.4432\n",
      "Recall:    0.6960\n",
      "Accuracy:  0.8428\n"
     ]
    }
   ],
   "source": [
    "dt = print_summary(clf)"
   ]
  },
  {
   "cell_type": "markdown",
   "metadata": {},
   "source": [
    "#### Second run"
   ]
  },
  {
   "cell_type": "code",
   "execution_count": 78,
   "metadata": {},
   "outputs": [
    {
     "name": "stdout",
     "output_type": "stream",
     "text": [
      "Fitting 50 folds for each of 416 candidates, totalling 20800 fits\n"
     ]
    },
    {
     "name": "stderr",
     "output_type": "stream",
     "text": [
      "[Parallel(n_jobs=10)]: Done 240 tasks      | elapsed:    0.4s\n",
      "[Parallel(n_jobs=10)]: Done 3540 tasks      | elapsed:    2.7s\n",
      "[Parallel(n_jobs=10)]: Done 9040 tasks      | elapsed:    6.6s\n",
      "[Parallel(n_jobs=10)]: Done 16740 tasks      | elapsed:   12.2s\n",
      "[Parallel(n_jobs=10)]: Done 20800 out of 20800 | elapsed:   15.1s finished\n"
     ]
    },
    {
     "data": {
      "text/plain": [
       "GridSearchCV(cv=StratifiedShuffleSplit(n_splits=50, random_state=42, test_size=0.3,\n",
       "            train_size=None),\n",
       "       error_score='raise',\n",
       "       estimator=DecisionTreeClassifier(class_weight=None, criterion='gini', max_depth=None,\n",
       "            max_features=None, max_leaf_nodes=None,\n",
       "            min_impurity_decrease=0.0, min_impurity_split=None,\n",
       "            min_samples_leaf=1, min_samples_split=2,\n",
       "            min_weight_fraction_leaf=0.0, presort=False, random_state=42,\n",
       "            splitter='best'),\n",
       "       fit_params=None, iid=True, n_jobs=10,\n",
       "       param_grid={'criterion': ['gini', 'entropy'], 'max_features': ['auto', 'sqrt', 'log2', None], 'min_samples_leaf': [15, 16, 17, 18, 19, 20, 21, 22, 23, 24, 25, 26, 27, 28, 29, 30, 31, 32, 33, 34, 35, 36, 37, 38, 39, 40], 'class_weight': [None, 'balanced']},\n",
       "       pre_dispatch='2*n_jobs', refit='mcc', return_train_score=True,\n",
       "       scoring={'mcc': make_scorer(matthews_corrcoef), 'accuracy': 'accuracy', 'f1': 'f1', 'recall': 'recall', 'precision': 'precision'},\n",
       "       verbose=1)"
      ]
     },
     "execution_count": 78,
     "metadata": {},
     "output_type": "execute_result"
    }
   ],
   "source": [
    "parameters = {'criterion': ['gini', 'entropy'],\n",
    "              'max_features': ['auto', 'sqrt', 'log2', None],\n",
    "              'min_samples_leaf': [15,16,17,18,19,20,21,22,23,24,25,26,27,28,29,30,\n",
    "                                   31,32,33,34,35,36,37,38,39,40],\n",
    "              'class_weight': [None, 'balanced']}\n",
    "bclf = DecisionTreeClassifier(random_state=42)\n",
    "clf = GridSearchCV(bclf, parameters, scoring=scorers,\n",
    "                   n_jobs=10, cv=cv, refit='mcc', verbose=1)\n",
    "clf.fit(features, labels)"
   ]
  },
  {
   "cell_type": "code",
   "execution_count": 79,
   "metadata": {},
   "outputs": [
    {
     "name": "stdout",
     "output_type": "stream",
     "text": [
      "DecisionTreeClassifier(class_weight='balanced', criterion='entropy',\n",
      "            max_depth=None, max_features='auto', max_leaf_nodes=None,\n",
      "            min_impurity_decrease=0.0, min_impurity_split=None,\n",
      "            min_samples_leaf=19, min_samples_split=2,\n",
      "            min_weight_fraction_leaf=0.0, presort=False, random_state=42,\n",
      "            splitter='best')\n",
      "MCC:       0.4798\n",
      "F1:        0.5365\n",
      "Precision: 0.4583\n",
      "Recall:    0.6880\n",
      "Accuracy:  0.8544\n"
     ]
    }
   ],
   "source": [
    "dt = print_summary(clf)"
   ]
  },
  {
   "cell_type": "markdown",
   "metadata": {
    "collapsed": true
   },
   "source": [
    "#### Summary\n",
    "This model has the best overall performance. This would be the model of choice, because it presents the best balance between precision and recall, if choosing was necessary, but it is not. More on that later."
   ]
  },
  {
   "cell_type": "markdown",
   "metadata": {},
   "source": [
    "### Ensemble Classifiers: Random Forest"
   ]
  },
  {
   "cell_type": "markdown",
   "metadata": {},
   "source": [
    "#### First run"
   ]
  },
  {
   "cell_type": "code",
   "execution_count": 80,
   "metadata": {},
   "outputs": [
    {
     "name": "stdout",
     "output_type": "stream",
     "text": [
      "Fitting 50 folds for each of 1296 candidates, totalling 64800 fits\n"
     ]
    },
    {
     "name": "stderr",
     "output_type": "stream",
     "text": [
      "[Parallel(n_jobs=10)]: Done 160 tasks      | elapsed:    0.7s\n",
      "[Parallel(n_jobs=10)]: Done 2764 tasks      | elapsed:   13.7s\n",
      "[Parallel(n_jobs=10)]: Done 6264 tasks      | elapsed:   31.4s\n",
      "[Parallel(n_jobs=10)]: Done 11164 tasks      | elapsed:   56.2s\n",
      "[Parallel(n_jobs=10)]: Done 16316 tasks      | elapsed:  1.4min\n",
      "[Parallel(n_jobs=10)]: Done 20166 tasks      | elapsed:  1.7min\n",
      "[Parallel(n_jobs=10)]: Done 24716 tasks      | elapsed:  2.1min\n",
      "[Parallel(n_jobs=10)]: Done 29966 tasks      | elapsed:  2.5min\n",
      "[Parallel(n_jobs=10)]: Done 35916 tasks      | elapsed:  3.0min\n",
      "[Parallel(n_jobs=10)]: Done 42566 tasks      | elapsed:  3.5min\n",
      "[Parallel(n_jobs=10)]: Done 49916 tasks      | elapsed:  4.2min\n",
      "[Parallel(n_jobs=10)]: Done 57966 tasks      | elapsed:  4.9min\n",
      "[Parallel(n_jobs=10)]: Done 64800 out of 64800 | elapsed:  5.5min finished\n"
     ]
    },
    {
     "data": {
      "text/plain": [
       "GridSearchCV(cv=StratifiedShuffleSplit(n_splits=50, random_state=42, test_size=0.3,\n",
       "            train_size=None),\n",
       "       error_score='raise',\n",
       "       estimator=RandomForestClassifier(bootstrap=True, class_weight=None, criterion='gini',\n",
       "            max_depth=None, max_features='auto', max_leaf_nodes=None,\n",
       "            min_impurity_decrease=0.0, min_impurity_split=None,\n",
       "            min_samples_leaf=1, min_samples_split=2,\n",
       "            min_weight_fraction_leaf=0.0, n_estimators=10, n_jobs=1,\n",
       "            oob_score=False, random_state=42, verbose=0, warm_start=False),\n",
       "       fit_params=None, iid=True, n_jobs=10,\n",
       "       param_grid={'n_estimators': [2, 5, 10, 15, 20, 50], 'criterion': ['gini', 'entropy'], 'max_features': ['auto', 'sqrt', 'log2', None], 'min_samples_leaf': [1, 2, 5, 10, 15, 20, 30, 40, 50], 'class_weight': [None, 'balanced', 'balanced_subsample']},\n",
       "       pre_dispatch='2*n_jobs', refit='mcc', return_train_score=True,\n",
       "       scoring={'mcc': make_scorer(matthews_corrcoef), 'accuracy': 'accuracy', 'f1': 'f1', 'recall': 'recall', 'precision': 'precision'},\n",
       "       verbose=1)"
      ]
     },
     "execution_count": 80,
     "metadata": {},
     "output_type": "execute_result"
    }
   ],
   "source": [
    "parameters = {'n_estimators': [2,5,10,15,20,50],\n",
    "              'criterion': ['gini', 'entropy'],\n",
    "              'max_features': ['auto', 'sqrt', 'log2', None],\n",
    "              'min_samples_leaf': [1,2,5,10,15,20,30,40,50],\n",
    "              'class_weight': [None, 'balanced', 'balanced_subsample']}\n",
    "bclf = RandomForestClassifier(random_state=42)\n",
    "clf = GridSearchCV(bclf, parameters, scoring=scorers,\n",
    "                   n_jobs=10, cv=cv, refit='mcc', verbose=1)\n",
    "clf.fit(features, labels)"
   ]
  },
  {
   "cell_type": "code",
   "execution_count": 81,
   "metadata": {},
   "outputs": [
    {
     "name": "stdout",
     "output_type": "stream",
     "text": [
      "RandomForestClassifier(bootstrap=True, class_weight='balanced_subsample',\n",
      "            criterion='entropy', max_depth=None, max_features='auto',\n",
      "            max_leaf_nodes=None, min_impurity_decrease=0.0,\n",
      "            min_impurity_split=None, min_samples_leaf=10,\n",
      "            min_samples_split=2, min_weight_fraction_leaf=0.0,\n",
      "            n_estimators=50, n_jobs=1, oob_score=False, random_state=42,\n",
      "            verbose=0, warm_start=False)\n",
      "MCC:       0.4227\n",
      "F1:        0.4838\n",
      "Precision: 0.4178\n",
      "Recall:    0.6360\n",
      "Accuracy:  0.8409\n"
     ]
    }
   ],
   "source": [
    "rf = print_summary(clf)"
   ]
  },
  {
   "cell_type": "markdown",
   "metadata": {},
   "source": [
    "#### Second run"
   ]
  },
  {
   "cell_type": "code",
   "execution_count": 82,
   "metadata": {},
   "outputs": [
    {
     "name": "stdout",
     "output_type": "stream",
     "text": [
      "Fitting 50 folds for each of 561 candidates, totalling 28050 fits\n"
     ]
    },
    {
     "name": "stderr",
     "output_type": "stream",
     "text": [
      "[Parallel(n_jobs=10)]: Done  80 tasks      | elapsed:    0.6s\n",
      "[Parallel(n_jobs=10)]: Done 824 tasks      | elapsed:   12.6s\n",
      "[Parallel(n_jobs=10)]: Done 1574 tasks      | elapsed:   23.1s\n",
      "[Parallel(n_jobs=10)]: Done 2624 tasks      | elapsed:   39.2s\n",
      "[Parallel(n_jobs=10)]: Done 3974 tasks      | elapsed:   59.3s\n",
      "[Parallel(n_jobs=10)]: Done 5624 tasks      | elapsed:  1.4min\n",
      "[Parallel(n_jobs=10)]: Done 7574 tasks      | elapsed:  1.9min\n",
      "[Parallel(n_jobs=10)]: Done 9824 tasks      | elapsed:  2.4min\n",
      "[Parallel(n_jobs=10)]: Done 12374 tasks      | elapsed:  3.1min\n",
      "[Parallel(n_jobs=10)]: Done 15224 tasks      | elapsed:  3.8min\n",
      "[Parallel(n_jobs=10)]: Done 18374 tasks      | elapsed:  4.6min\n",
      "[Parallel(n_jobs=10)]: Done 21824 tasks      | elapsed:  5.6min\n",
      "[Parallel(n_jobs=10)]: Done 25574 tasks      | elapsed:  6.6min\n",
      "[Parallel(n_jobs=10)]: Done 28031 out of 28050 | elapsed:  7.3min remaining:    0.3s\n",
      "[Parallel(n_jobs=10)]: Done 28050 out of 28050 | elapsed:  7.3min finished\n"
     ]
    },
    {
     "data": {
      "text/plain": [
       "GridSearchCV(cv=StratifiedShuffleSplit(n_splits=50, random_state=42, test_size=0.3,\n",
       "            train_size=None),\n",
       "       error_score='raise',\n",
       "       estimator=RandomForestClassifier(bootstrap=True, class_weight=None, criterion='gini',\n",
       "            max_depth=None, max_features='auto', max_leaf_nodes=None,\n",
       "            min_impurity_decrease=0.0, min_impurity_split=None,\n",
       "            min_samples_leaf=1, min_samples_split=2,\n",
       "            min_weight_fraction_leaf=0.0, n_estimators=10, n_jobs=1,\n",
       "            oob_score=False, random_state=42, verbose=0, warm_start=False),\n",
       "       fit_params=None, iid=True, n_jobs=10,\n",
       "       param_grid={'n_estimators': [20, 25, 30, 35, 40, 45, 50, 55, 60, 65, 70, 75, 80, 85, 90, 95, 100], 'criterion': ['entropy'], 'max_features': ['auto'], 'min_samples_leaf': [5, 6, 7, 8, 9, 10, 11, 12, 13, 14, 15], 'class_weight': [None, 'balanced', 'balanced_subsample']},\n",
       "       pre_dispatch='2*n_jobs', refit='mcc', return_train_score=True,\n",
       "       scoring={'mcc': make_scorer(matthews_corrcoef), 'accuracy': 'accuracy', 'f1': 'f1', 'recall': 'recall', 'precision': 'precision'},\n",
       "       verbose=1)"
      ]
     },
     "execution_count": 82,
     "metadata": {},
     "output_type": "execute_result"
    }
   ],
   "source": [
    "parameters = {'n_estimators': [20,25,30,35,40,45,50,55,60,65,70,75,80,85,90,95,100],\n",
    "              'criterion': ['entropy'],\n",
    "              'max_features': ['auto'],\n",
    "              'min_samples_leaf': [5,6,7,8,9,10,11,12,13,14,15],\n",
    "              'class_weight': [None, 'balanced', 'balanced_subsample']}\n",
    "bclf = RandomForestClassifier(random_state=42)\n",
    "clf = GridSearchCV(bclf, parameters, scoring=scorers,\n",
    "                   n_jobs=10, cv=cv, refit='mcc', verbose=1)\n",
    "clf.fit(features, labels)"
   ]
  },
  {
   "cell_type": "code",
   "execution_count": 83,
   "metadata": {
    "scrolled": true
   },
   "outputs": [
    {
     "name": "stdout",
     "output_type": "stream",
     "text": [
      "RandomForestClassifier(bootstrap=True, class_weight='balanced',\n",
      "            criterion='entropy', max_depth=None, max_features='auto',\n",
      "            max_leaf_nodes=None, min_impurity_decrease=0.0,\n",
      "            min_impurity_split=None, min_samples_leaf=10,\n",
      "            min_samples_split=2, min_weight_fraction_leaf=0.0,\n",
      "            n_estimators=85, n_jobs=1, oob_score=False, random_state=42,\n",
      "            verbose=0, warm_start=False)\n",
      "MCC:       0.4385\n",
      "F1:        0.4997\n",
      "Precision: 0.4233\n",
      "Recall:    0.6480\n",
      "Accuracy:  0.8484\n"
     ]
    }
   ],
   "source": [
    "rf = print_summary(clf)"
   ]
  },
  {
   "cell_type": "markdown",
   "metadata": {},
   "source": [
    "#### Third run"
   ]
  },
  {
   "cell_type": "code",
   "execution_count": 84,
   "metadata": {},
   "outputs": [
    {
     "name": "stdout",
     "output_type": "stream",
     "text": [
      "Fitting 50 folds for each of 330 candidates, totalling 16500 fits\n"
     ]
    },
    {
     "name": "stderr",
     "output_type": "stream",
     "text": [
      "[Parallel(n_jobs=10)]: Done  30 tasks      | elapsed:    0.6s\n",
      "[Parallel(n_jobs=10)]: Done 180 tasks      | elapsed:    3.7s\n",
      "[Parallel(n_jobs=10)]: Done 430 tasks      | elapsed:    9.3s\n",
      "[Parallel(n_jobs=10)]: Done 780 tasks      | elapsed:   16.5s\n",
      "[Parallel(n_jobs=10)]: Done 1230 tasks      | elapsed:   25.9s\n",
      "[Parallel(n_jobs=10)]: Done 1780 tasks      | elapsed:   37.5s\n",
      "[Parallel(n_jobs=10)]: Done 2430 tasks      | elapsed:   51.2s\n",
      "[Parallel(n_jobs=10)]: Done 3180 tasks      | elapsed:  1.1min\n",
      "[Parallel(n_jobs=10)]: Done 4030 tasks      | elapsed:  1.4min\n",
      "[Parallel(n_jobs=10)]: Done 4980 tasks      | elapsed:  1.7min\n",
      "[Parallel(n_jobs=10)]: Done 6030 tasks      | elapsed:  2.1min\n",
      "[Parallel(n_jobs=10)]: Done 7180 tasks      | elapsed:  2.5min\n",
      "[Parallel(n_jobs=10)]: Done 8430 tasks      | elapsed:  2.9min\n",
      "[Parallel(n_jobs=10)]: Done 9780 tasks      | elapsed:  3.4min\n",
      "[Parallel(n_jobs=10)]: Done 11230 tasks      | elapsed:  3.9min\n",
      "[Parallel(n_jobs=10)]: Done 12780 tasks      | elapsed:  4.5min\n",
      "[Parallel(n_jobs=10)]: Done 14430 tasks      | elapsed:  5.2min\n",
      "[Parallel(n_jobs=10)]: Done 16180 tasks      | elapsed:  5.9min\n",
      "[Parallel(n_jobs=10)]: Done 16500 out of 16500 | elapsed:  6.0min finished\n"
     ]
    },
    {
     "data": {
      "text/plain": [
       "GridSearchCV(cv=StratifiedShuffleSplit(n_splits=50, random_state=42, test_size=0.3,\n",
       "            train_size=None),\n",
       "       error_score='raise',\n",
       "       estimator=RandomForestClassifier(bootstrap=True, class_weight=None, criterion='gini',\n",
       "            max_depth=None, max_features='auto', max_leaf_nodes=None,\n",
       "            min_impurity_decrease=0.0, min_impurity_split=None,\n",
       "            min_samples_leaf=1, min_samples_split=2,\n",
       "            min_weight_fraction_leaf=0.0, n_estimators=10, n_jobs=1,\n",
       "            oob_score=False, random_state=42, verbose=0, warm_start=False),\n",
       "       fit_params=None, iid=True, n_jobs=10,\n",
       "       param_grid={'n_estimators': [80, 81, 82, 83, 84, 85, 86, 87, 88, 90], 'criterion': ['entropy'], 'max_features': ['auto'], 'min_samples_leaf': [5, 6, 7, 8, 9, 10, 11, 12, 13, 14, 15], 'class_weight': [None, 'balanced', 'balanced_subsample']},\n",
       "       pre_dispatch='2*n_jobs', refit='mcc', return_train_score=True,\n",
       "       scoring={'mcc': make_scorer(matthews_corrcoef), 'accuracy': 'accuracy', 'f1': 'f1', 'recall': 'recall', 'precision': 'precision'},\n",
       "       verbose=1)"
      ]
     },
     "execution_count": 84,
     "metadata": {},
     "output_type": "execute_result"
    }
   ],
   "source": [
    "parameters = {'n_estimators': [80,81,82,83,84,85,86,87,88,90],\n",
    "              'criterion': ['entropy'],\n",
    "              'max_features': ['auto'],\n",
    "              'min_samples_leaf': [5,6,7,8,9,10,11,12,13,14,15],\n",
    "              'class_weight': [None, 'balanced', 'balanced_subsample']}\n",
    "bclf = RandomForestClassifier(random_state=42)\n",
    "clf = GridSearchCV(bclf, parameters, scoring=scorers,\n",
    "                   n_jobs=10, cv=cv, refit='mcc', verbose=1)\n",
    "clf.fit(features, labels)"
   ]
  },
  {
   "cell_type": "code",
   "execution_count": 85,
   "metadata": {},
   "outputs": [
    {
     "name": "stdout",
     "output_type": "stream",
     "text": [
      "RandomForestClassifier(bootstrap=True, class_weight='balanced',\n",
      "            criterion='entropy', max_depth=None, max_features='auto',\n",
      "            max_leaf_nodes=None, min_impurity_decrease=0.0,\n",
      "            min_impurity_split=None, min_samples_leaf=10,\n",
      "            min_samples_split=2, min_weight_fraction_leaf=0.0,\n",
      "            n_estimators=85, n_jobs=1, oob_score=False, random_state=42,\n",
      "            verbose=0, warm_start=False)\n",
      "MCC:       0.4385\n",
      "F1:        0.4997\n",
      "Precision: 0.4233\n",
      "Recall:    0.6480\n",
      "Accuracy:  0.8484\n"
     ]
    }
   ],
   "source": [
    "rf = print_summary(clf)"
   ]
  },
  {
   "cell_type": "markdown",
   "metadata": {},
   "source": [
    "#### Summary\n",
    "\n",
    "The performance is worse than using just 1 Decision Tree."
   ]
  },
  {
   "cell_type": "markdown",
   "metadata": {},
   "source": [
    "### Ensemble Classifiers: Adaboost"
   ]
  },
  {
   "cell_type": "markdown",
   "metadata": {},
   "source": [
    "#### First run"
   ]
  },
  {
   "cell_type": "code",
   "execution_count": 86,
   "metadata": {},
   "outputs": [
    {
     "name": "stdout",
     "output_type": "stream",
     "text": [
      "Fitting 50 folds for each of 384 candidates, totalling 19200 fits\n"
     ]
    },
    {
     "name": "stderr",
     "output_type": "stream",
     "text": [
      "[Parallel(n_jobs=10)]: Done 220 tasks      | elapsed:    0.3s\n",
      "[Parallel(n_jobs=10)]: Done 4853 tasks      | elapsed:   14.7s\n",
      "[Parallel(n_jobs=10)]: Done 6331 tasks      | elapsed:   36.7s\n",
      "[Parallel(n_jobs=10)]: Done 7926 tasks      | elapsed:   52.6s\n",
      "[Parallel(n_jobs=10)]: Done 10417 tasks      | elapsed:  1.4min\n",
      "[Parallel(n_jobs=10)]: Done 14323 tasks      | elapsed:  2.2min\n",
      "[Parallel(n_jobs=10)]: Done 16475 tasks      | elapsed:  3.5min\n",
      "[Parallel(n_jobs=10)]: Done 18458 tasks      | elapsed:  4.9min\n",
      "[Parallel(n_jobs=10)]: Done 19200 out of 19200 | elapsed:  5.5min finished\n"
     ]
    },
    {
     "data": {
      "text/plain": [
       "GridSearchCV(cv=StratifiedShuffleSplit(n_splits=50, random_state=42, test_size=0.3,\n",
       "            train_size=None),\n",
       "       error_score='raise',\n",
       "       estimator=AdaBoostClassifier(algorithm='SAMME.R', base_estimator=None,\n",
       "          learning_rate=1.0, n_estimators=50, random_state=42),\n",
       "       fit_params=None, iid=True, n_jobs=10,\n",
       "       param_grid={'base_estimator': [DecisionTreeClassifier(class_weight='balanced', criterion='entropy',\n",
       "            max_depth=None, max_features=None, max_leaf_nodes=None,\n",
       "            min_impurity_decrease=0.0, min_impurity_split=None,\n",
       "            min_samples_leaf=1, min_samples_split=2,\n",
       "            min... 90, 100, 200, 300, 400, 500], 'learning_rate': [0.5, 1, 1.5, 2], 'algorithm': ['SAMME', 'SAMME.R']},\n",
       "       pre_dispatch='2*n_jobs', refit='mcc', return_train_score=True,\n",
       "       scoring={'mcc': make_scorer(matthews_corrcoef), 'accuracy': 'accuracy', 'f1': 'f1', 'recall': 'recall', 'precision': 'precision'},\n",
       "       verbose=1)"
      ]
     },
     "execution_count": 86,
     "metadata": {},
     "output_type": "execute_result"
    }
   ],
   "source": [
    "parameters = {'base_estimator': [DecisionTreeClassifier(criterion='entropy', class_weight='balanced'),\n",
    "                                 DecisionTreeClassifier(criterion='entropy', class_weight='balanced',\n",
    "                                                        max_depth=1), #Stumps\n",
    "                                 DecisionTreeClassifier(criterion='entropy',\n",
    "                                                        min_samples_leaf=19,\n",
    "                                                        class_weight='balanced')],\n",
    "              'n_estimators': [2,5,10,20,30,40,50,60,70,80,90,100,200,300,400,500],\n",
    "              'learning_rate': [0.5,1,1.5,2],\n",
    "              'algorithm': ['SAMME','SAMME.R']\n",
    "             }\n",
    "bclf = AdaBoostClassifier(random_state=42)\n",
    "clf = GridSearchCV(bclf, parameters, scoring=scorers,\n",
    "                   n_jobs=10, cv=cv, refit='mcc', verbose=1)\n",
    "clf.fit(features, labels)"
   ]
  },
  {
   "cell_type": "code",
   "execution_count": 87,
   "metadata": {},
   "outputs": [
    {
     "name": "stdout",
     "output_type": "stream",
     "text": [
      "AdaBoostClassifier(algorithm='SAMME',\n",
      "          base_estimator=DecisionTreeClassifier(class_weight='balanced', criterion='entropy',\n",
      "            max_depth=None, max_features=None, max_leaf_nodes=None,\n",
      "            min_impurity_decrease=0.0, min_impurity_split=None,\n",
      "            min_samples_leaf=19, min_samples_split=2,\n",
      "            min_weight_fraction_leaf=0.0, presort=False, random_state=None,\n",
      "            splitter='best'),\n",
      "          learning_rate=0.5, n_estimators=5, random_state=42)\n",
      "MCC:       0.4395\n",
      "F1:        0.4996\n",
      "Precision: 0.4335\n",
      "Recall:    0.6600\n",
      "Accuracy:  0.8363\n"
     ]
    }
   ],
   "source": [
    "ada = print_summary(clf)"
   ]
  },
  {
   "cell_type": "markdown",
   "metadata": {
    "collapsed": true
   },
   "source": [
    "#### Second run"
   ]
  },
  {
   "cell_type": "code",
   "execution_count": 88,
   "metadata": {},
   "outputs": [
    {
     "name": "stdout",
     "output_type": "stream",
     "text": [
      "Fitting 50 folds for each of 600 candidates, totalling 30000 fits\n"
     ]
    },
    {
     "name": "stderr",
     "output_type": "stream",
     "text": [
      "[Parallel(n_jobs=10)]: Done 200 tasks      | elapsed:    0.3s\n",
      "[Parallel(n_jobs=10)]: Done 5700 tasks      | elapsed:    6.2s\n",
      "[Parallel(n_jobs=10)]: Done 15200 tasks      | elapsed:   21.3s\n",
      "[Parallel(n_jobs=10)]: Done 28500 tasks      | elapsed:   45.6s\n",
      "[Parallel(n_jobs=10)]: Done 30000 out of 30000 | elapsed:   48.7s finished\n"
     ]
    },
    {
     "data": {
      "text/plain": [
       "GridSearchCV(cv=StratifiedShuffleSplit(n_splits=50, random_state=42, test_size=0.3,\n",
       "            train_size=None),\n",
       "       error_score='raise',\n",
       "       estimator=AdaBoostClassifier(algorithm='SAMME.R', base_estimator=None,\n",
       "          learning_rate=1.0, n_estimators=50, random_state=42),\n",
       "       fit_params=None, iid=True, n_jobs=10,\n",
       "       param_grid={'base_estimator': [DecisionTreeClassifier(class_weight='balanced', criterion='entropy',\n",
       "            max_depth=None, max_features=None, max_leaf_nodes=None,\n",
       "            min_impurity_decrease=0.0, min_impurity_split=None,\n",
       "            min_samples_leaf=1, min_samples_split=2,\n",
       "            min...5, 0.6, 0.7, 0.8, 0.9, 1, 1.1, 1.2, 1.3, 1.4, 1.5, 1.6, 1.7, 1.8, 1.9, 2.0], 'algorithm': ['SAMME']},\n",
       "       pre_dispatch='2*n_jobs', refit='mcc', return_train_score=True,\n",
       "       scoring={'mcc': make_scorer(matthews_corrcoef), 'accuracy': 'accuracy', 'f1': 'f1', 'recall': 'recall', 'precision': 'precision'},\n",
       "       verbose=1)"
      ]
     },
     "execution_count": 88,
     "metadata": {},
     "output_type": "execute_result"
    }
   ],
   "source": [
    "parameters = {'base_estimator': [DecisionTreeClassifier(criterion='entropy', class_weight='balanced'),\n",
    "                                 DecisionTreeClassifier(criterion='entropy', class_weight='balanced',\n",
    "                                                        max_depth=1), #Stumps\n",
    "                                 DecisionTreeClassifier(criterion='entropy',\n",
    "                                                        min_samples_leaf=19,\n",
    "                                                        class_weight='balanced')],\n",
    "              'n_estimators': [1,2,3,4,5,6,7,8,9,10],\n",
    "              'learning_rate': [0.1,0.2,0.3,0.4,0.5,0.6,0.7,0.8,0.9,1,1.1,1.2,1.3,\n",
    "                                1.4,1.5,1.6,1.7,1.8,1.9,2.0],\n",
    "              'algorithm': ['SAMME']\n",
    "             }\n",
    "bclf = AdaBoostClassifier(random_state=42)\n",
    "clf = GridSearchCV(bclf, parameters, scoring=scorers,\n",
    "                   n_jobs=10, cv=cv, refit='mcc', verbose=1)\n",
    "clf.fit(features, labels)"
   ]
  },
  {
   "cell_type": "code",
   "execution_count": 89,
   "metadata": {},
   "outputs": [
    {
     "name": "stdout",
     "output_type": "stream",
     "text": [
      "AdaBoostClassifier(algorithm='SAMME',\n",
      "          base_estimator=DecisionTreeClassifier(class_weight='balanced', criterion='entropy',\n",
      "            max_depth=None, max_features=None, max_leaf_nodes=None,\n",
      "            min_impurity_decrease=0.0, min_impurity_split=None,\n",
      "            min_samples_leaf=19, min_samples_split=2,\n",
      "            min_weight_fraction_leaf=0.0, presort=False, random_state=None,\n",
      "            splitter='best'),\n",
      "          learning_rate=0.4, n_estimators=4, random_state=42)\n",
      "MCC:       0.4698\n",
      "F1:        0.5240\n",
      "Precision: 0.4536\n",
      "Recall:    0.6840\n",
      "Accuracy:  0.8502\n"
     ]
    }
   ],
   "source": [
    "ada = print_summary(clf)"
   ]
  },
  {
   "cell_type": "markdown",
   "metadata": {},
   "source": [
    "#### Third Run"
   ]
  },
  {
   "cell_type": "code",
   "execution_count": 90,
   "metadata": {},
   "outputs": [
    {
     "name": "stdout",
     "output_type": "stream",
     "text": [
      "Fitting 50 folds for each of 4000 candidates, totalling 200000 fits\n"
     ]
    },
    {
     "name": "stderr",
     "output_type": "stream",
     "text": [
      "[Parallel(n_jobs=10)]: Done 200 tasks      | elapsed:    0.3s\n",
      "[Parallel(n_jobs=10)]: Done 6260 tasks      | elapsed:    6.2s\n",
      "[Parallel(n_jobs=10)]: Done 16760 tasks      | elapsed:   23.4s\n",
      "[Parallel(n_jobs=10)]: Done 31460 tasks      | elapsed:   54.6s\n",
      "[Parallel(n_jobs=10)]: Done 50360 tasks      | elapsed:  1.6min\n",
      "[Parallel(n_jobs=10)]: Done 62981 tasks      | elapsed:  2.0min\n",
      "[Parallel(n_jobs=10)]: Done 76631 tasks      | elapsed:  2.5min\n",
      "[Parallel(n_jobs=10)]: Done 92381 tasks      | elapsed:  3.1min\n",
      "[Parallel(n_jobs=10)]: Done 110231 tasks      | elapsed:  3.7min\n",
      "[Parallel(n_jobs=10)]: Done 130181 tasks      | elapsed:  4.4min\n",
      "[Parallel(n_jobs=10)]: Done 152231 tasks      | elapsed:  5.2min\n",
      "[Parallel(n_jobs=10)]: Done 176381 tasks      | elapsed:  6.0min\n",
      "[Parallel(n_jobs=10)]: Done 200000 out of 200000 | elapsed:  6.7min finished\n"
     ]
    },
    {
     "data": {
      "text/plain": [
       "GridSearchCV(cv=StratifiedShuffleSplit(n_splits=50, random_state=42, test_size=0.3,\n",
       "            train_size=None),\n",
       "       error_score='raise',\n",
       "       estimator=AdaBoostClassifier(algorithm='SAMME.R', base_estimator=None,\n",
       "          learning_rate=1.0, n_estimators=50, random_state=42),\n",
       "       fit_params=None, iid=True, n_jobs=10,\n",
       "       param_grid={'base_estimator': [DecisionTreeClassifier(class_weight='balanced', criterion='entropy',\n",
       "            max_depth=None, max_features=None, max_leaf_nodes=None,\n",
       "            min_impurity_decrease=0.0, min_impurity_split=None,\n",
       "            min_samples_leaf=1, min_samples_split=2,\n",
       "            min...5, 0.6, 0.7, 0.8, 0.9, 1, 1.1, 1.2, 1.3, 1.4, 1.5, 1.6, 1.7, 1.8, 1.9, 2.0], 'algorithm': ['SAMME']},\n",
       "       pre_dispatch='2*n_jobs', refit='mcc', return_train_score=True,\n",
       "       scoring={'mcc': make_scorer(matthews_corrcoef), 'accuracy': 'accuracy', 'f1': 'f1', 'recall': 'recall', 'precision': 'precision'},\n",
       "       verbose=1)"
      ]
     },
     "execution_count": 90,
     "metadata": {},
     "output_type": "execute_result"
    }
   ],
   "source": [
    "parameters = {'base_estimator': [DecisionTreeClassifier(criterion='entropy',\n",
    "                                                        min_samples_leaf=1,\n",
    "                                                        class_weight='balanced'),\n",
    "                                 DecisionTreeClassifier(criterion='entropy',\n",
    "                                                        min_samples_leaf=2,\n",
    "                                                        class_weight='balanced'),\n",
    "                                 DecisionTreeClassifier(criterion='entropy',\n",
    "                                                        min_samples_leaf=3,\n",
    "                                                        class_weight='balanced'),\n",
    "                                 DecisionTreeClassifier(criterion='entropy',\n",
    "                                                        min_samples_leaf=4,\n",
    "                                                        class_weight='balanced'),\n",
    "                                 DecisionTreeClassifier(criterion='entropy',\n",
    "                                                        min_samples_leaf=5,\n",
    "                                                        class_weight='balanced'),\n",
    "                                 DecisionTreeClassifier(criterion='entropy',\n",
    "                                                        min_samples_leaf=6,\n",
    "                                                        class_weight='balanced'),\n",
    "                                 DecisionTreeClassifier(criterion='entropy',\n",
    "                                                        min_samples_leaf=7,\n",
    "                                                        class_weight='balanced'),\n",
    "                                 DecisionTreeClassifier(criterion='entropy',\n",
    "                                                        min_samples_leaf=8,\n",
    "                                                        class_weight='balanced'),\n",
    "                                 DecisionTreeClassifier(criterion='entropy',\n",
    "                                                        min_samples_leaf=9,\n",
    "                                                        class_weight='balanced'),\n",
    "                                 DecisionTreeClassifier(criterion='entropy',\n",
    "                                                        min_samples_leaf=10,\n",
    "                                                        class_weight='balanced'),\n",
    "                                 DecisionTreeClassifier(criterion='entropy',\n",
    "                                                        min_samples_leaf=11,\n",
    "                                                        class_weight='balanced'),\n",
    "                                 DecisionTreeClassifier(criterion='entropy',\n",
    "                                                        min_samples_leaf=12,\n",
    "                                                        class_weight='balanced'),\n",
    "                                 DecisionTreeClassifier(criterion='entropy',\n",
    "                                                        min_samples_leaf=13,\n",
    "                                                        class_weight='balanced'),\n",
    "                                 DecisionTreeClassifier(criterion='entropy',\n",
    "                                                        min_samples_leaf=14,\n",
    "                                                        class_weight='balanced'),\n",
    "                                 DecisionTreeClassifier(criterion='entropy',\n",
    "                                                        min_samples_leaf=15,\n",
    "                                                        class_weight='balanced'),\n",
    "                                 DecisionTreeClassifier(criterion='entropy',\n",
    "                                                        min_samples_leaf=16,\n",
    "                                                        class_weight='balanced'),\n",
    "                                 DecisionTreeClassifier(criterion='entropy',\n",
    "                                                        min_samples_leaf=17,\n",
    "                                                        class_weight='balanced'),\n",
    "                                 DecisionTreeClassifier(criterion='entropy',\n",
    "                                                        min_samples_leaf=18,\n",
    "                                                        class_weight='balanced'),\n",
    "                                 DecisionTreeClassifier(criterion='entropy',\n",
    "                                                        min_samples_leaf=19,\n",
    "                                                        class_weight='balanced'),\n",
    "                                 DecisionTreeClassifier(criterion='entropy',\n",
    "                                                        min_samples_leaf=20,\n",
    "                                                        class_weight='balanced')],\n",
    "              'n_estimators': [1,2,3,4,5,6,7,8,9,10],\n",
    "              'learning_rate': [0.1,0.2,0.3,0.4,0.5,0.6,0.7,0.8,0.9,1,1.1,1.2,1.3,\n",
    "                                1.4,1.5,1.6,1.7,1.8,1.9,2.0],\n",
    "              'algorithm': ['SAMME']\n",
    "             }\n",
    "bclf = AdaBoostClassifier(random_state=42)\n",
    "clf = GridSearchCV(bclf, parameters, scoring=scorers,\n",
    "                   n_jobs=10, cv=cv, refit='mcc', verbose=1)\n",
    "clf.fit(features, labels)"
   ]
  },
  {
   "cell_type": "code",
   "execution_count": 91,
   "metadata": {},
   "outputs": [
    {
     "name": "stdout",
     "output_type": "stream",
     "text": [
      "AdaBoostClassifier(algorithm='SAMME',\n",
      "          base_estimator=DecisionTreeClassifier(class_weight='balanced', criterion='entropy',\n",
      "            max_depth=None, max_features=None, max_leaf_nodes=None,\n",
      "            min_impurity_decrease=0.0, min_impurity_split=None,\n",
      "            min_samples_leaf=19, min_samples_split=2,\n",
      "            min_weight_fraction_leaf=0.0, presort=False, random_state=None,\n",
      "            splitter='best'),\n",
      "          learning_rate=0.4, n_estimators=4, random_state=42)\n",
      "MCC:       0.4698\n",
      "F1:        0.5240\n",
      "Precision: 0.4536\n",
      "Recall:    0.6840\n",
      "Accuracy:  0.8502\n"
     ]
    }
   ],
   "source": [
    "ada = print_summary(clf)"
   ]
  },
  {
   "cell_type": "markdown",
   "metadata": {},
   "source": [
    "#### Summary\n",
    "\n",
    "While the performance is better than the Random Forest, both are worse than using just a properly calibrated Decision Tree."
   ]
  },
  {
   "cell_type": "markdown",
   "metadata": {},
   "source": [
    "## Chosen Model: Voting Classifier"
   ]
  },
  {
   "cell_type": "markdown",
   "metadata": {},
   "source": [
    "After exhaustively testing and parameter tuning, here are the models ranked, by the Matthews Correlation Coefficient:"
   ]
  },
  {
   "cell_type": "code",
   "execution_count": 92,
   "metadata": {},
   "outputs": [
    {
     "name": "stdout",
     "output_type": "stream",
     "text": [
      "               Classifier   MCC        F1    Precision   Recall   Accuracy \n",
      "\n",
      "             DecisionTree  0.4798    0.5365    0.4583    0.6880    0.8544  \n",
      "                 AdaBoost  0.4698    0.5240    0.4536    0.6840    0.8502  \n",
      "             RandomForest  0.4385    0.4997    0.4233    0.6480    0.8484  \n",
      "                      SVC  0.3776    0.4163    0.2766    0.8680    0.7149  \n",
      "                LinearSVC  0.3242    0.3897    0.3931    0.4600    0.8349  \n",
      "               KNeighbors  0.2595    0.2798    0.4807    0.2120    0.8823  \n"
     ]
    }
   ],
   "source": [
    "models = sorted([lsvm, knc, svm, dt, rf, ada], key=operator.itemgetter(1), reverse=True)\n",
    "print('{:>25}{:^10}{:^10}{:^10}{:^10}{:^10}'.format('Classifier', 'MCC', 'F1', 'Precision',\n",
    "                                                         'Recall', 'Accuracy'))\n",
    "print('')\n",
    "for (name, mcc, f1, pre, rec, acc) in models:\n",
    "    print('{:>25}{:^10.4f}{:^10.4f}{:^10.4f}{:^10.4f}{:^10.4f}'.format(name.split('Classifier')[0],\n",
    "                                                                        mcc, f1, pre, rec, acc))"
   ]
  },
  {
   "cell_type": "markdown",
   "metadata": {},
   "source": [
    "The top 3 models are all based around Decision Trees, and the best performance is obtained by the single Decision Tree Classifier.\n",
    "\n",
    "However, there are useful features in other models. Combined, the following models will result in the best classifier:\n",
    "\n",
    "* KNeighbors  : Best precision and accuracy\n",
    "* Decision Tree: Best F1 (balance between precision and recall)\n",
    "* SVC: Best recall\n",
    "\n",
    "Using a voting classifier enables the models to achieve a performance that none of them could on their own. Each classifier have one vote, and the predicted class is determined my the majority.\n",
    "\n",
    "http://scikit-learn.org/stable/modules/generated/sklearn.ensemble.VotingClassifier.html"
   ]
  },
  {
   "cell_type": "code",
   "execution_count": 93,
   "metadata": {
    "collapsed": true
   },
   "outputs": [],
   "source": [
    "from sklearn.ensemble import VotingClassifier"
   ]
  },
  {
   "cell_type": "code",
   "execution_count": 94,
   "metadata": {
    "collapsed": true
   },
   "outputs": [],
   "source": [
    "clf1 = DecisionTreeClassifier(class_weight='balanced', criterion='entropy',\n",
    "            max_depth=None, max_features='auto', max_leaf_nodes=None,\n",
    "            min_impurity_decrease=0.0, min_impurity_split=None,\n",
    "            min_samples_leaf=19, min_samples_split=2,\n",
    "            min_weight_fraction_leaf=0.0, presort=False, random_state=42,\n",
    "            splitter='best')\n",
    "\n",
    "clf2 = SVC(C=5.4, cache_size=200, class_weight='balanced', coef0=0.0,\n",
    "  decision_function_shape='ovr', degree=3, gamma=3.9, kernel='sigmoid',\n",
    "  max_iter=-1, probability=False, random_state=42, shrinking=True,\n",
    "  tol=0.001, verbose=False)\n",
    "\n",
    "clf3 = KNeighborsClassifier(algorithm='ball_tree', leaf_size=1, metric='minkowski',\n",
    "           metric_params=None, n_jobs=1, n_neighbors=3, p=2,\n",
    "           weights='distance')\n",
    "\n",
    "eclf = VotingClassifier(estimators=[('dt', clf1), ('svc', clf2), ('kn', clf3)], voting='hard')"
   ]
  },
  {
   "cell_type": "code",
   "execution_count": 95,
   "metadata": {
    "scrolled": true
   },
   "outputs": [
    {
     "data": {
      "text/plain": [
       "GridSearchCV(cv=StratifiedShuffleSplit(n_splits=50, random_state=42, test_size=0.3,\n",
       "            train_size=None),\n",
       "       error_score='raise',\n",
       "       estimator=VotingClassifier(estimators=[('dt', DecisionTreeClassifier(class_weight='balanced', criterion='entropy',\n",
       "            max_depth=None, max_features='auto', max_leaf_nodes=None,\n",
       "            min_impurity_decrease=0.0, min_impurity_split=None,\n",
       "            min_samples_leaf=19, min_samples_split=...      weights='distance'))],\n",
       "         flatten_transform=None, n_jobs=1, voting='hard', weights=None),\n",
       "       fit_params=None, iid=True, n_jobs=10, param_grid={},\n",
       "       pre_dispatch='2*n_jobs', refit='mcc', return_train_score=True,\n",
       "       scoring={'mcc': make_scorer(matthews_corrcoef), 'accuracy': 'accuracy', 'f1': 'f1', 'recall': 'recall', 'precision': 'precision'},\n",
       "       verbose=0)"
      ]
     },
     "execution_count": 95,
     "metadata": {},
     "output_type": "execute_result"
    }
   ],
   "source": [
    "parameters = {} # Using GridSearchCV just for CV\n",
    "clf = GridSearchCV(eclf, parameters, scoring=scorers,\n",
    "                   n_jobs=10, cv=cv, refit='mcc', verbose=0)\n",
    "clf.fit(features, labels)"
   ]
  },
  {
   "cell_type": "code",
   "execution_count": 96,
   "metadata": {
    "scrolled": true
   },
   "outputs": [
    {
     "name": "stdout",
     "output_type": "stream",
     "text": [
      "VotingClassifier(estimators=[('dt', DecisionTreeClassifier(class_weight='balanced', criterion='entropy',\n",
      "            max_depth=None, max_features='auto', max_leaf_nodes=None,\n",
      "            min_impurity_decrease=0.0, min_impurity_split=None,\n",
      "            min_samples_leaf=19, min_samples_split=2,\n",
      "            min_weight_f...wski',\n",
      "           metric_params=None, n_jobs=1, n_neighbors=3, p=2,\n",
      "           weights='distance'))],\n",
      "         flatten_transform=None, n_jobs=1, voting='hard', weights=None)\n",
      "MCC:       0.5277\n",
      "F1:        0.5762\n",
      "Precision: 0.5261\n",
      "Recall:    0.6720\n",
      "Accuracy:  0.8870\n"
     ]
    }
   ],
   "source": [
    "vc = print_summary(clf)"
   ]
  },
  {
   "cell_type": "markdown",
   "metadata": {
    "collapsed": true
   },
   "source": [
    "#### Summary\n",
    "\n",
    "The end result is a classifier that have a lower recall score than the SVC, but there is value in balance.\n",
    "\n",
    "It achieved the highest Accuracy, F1 and MCC scores by far! And because of that, it is the chosen model and the end result of this project."
   ]
  }
 ],
 "metadata": {
  "kernelspec": {
   "display_name": "Python 3",
   "language": "python",
   "name": "python3"
  },
  "language_info": {
   "codemirror_mode": {
    "name": "ipython",
    "version": 3
   },
   "file_extension": ".py",
   "mimetype": "text/x-python",
   "name": "python",
   "nbconvert_exporter": "python",
   "pygments_lexer": "ipython3",
   "version": "3.6.2"
  }
 },
 "nbformat": 4,
 "nbformat_minor": 2
}
